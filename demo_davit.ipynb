{
 "cells": [
  {
   "cell_type": "code",
   "execution_count": 1,
   "metadata": {
    "collapsed": true
   },
   "outputs": [],
   "source": [
    "import math\n",
    "from time import time\n",
    "\n",
    "import numpy as np"
   ]
  },
  {
   "cell_type": "code",
   "execution_count": 2,
   "metadata": {
    "collapsed": false
   },
   "outputs": [],
   "source": [
    "data = np.loadtxt('./SPECTF.dat', delimiter=',')"
   ]
  },
  {
   "cell_type": "code",
   "execution_count": 3,
   "metadata": {
    "collapsed": false
   },
   "outputs": [],
   "source": [
    "x_data = data[:, 1:]\n",
    "y_data = data[:, 0]"
   ]
  },
  {
   "cell_type": "code",
   "execution_count": 4,
   "metadata": {
    "collapsed": false
   },
   "outputs": [
    {
     "data": {
      "text/plain": [
       "(array([[ 59.,  52.,  70.,  67.,  73.,  66.,  72.,  61.,  58.,  52.,  72.,\n",
       "          71.,  70.,  77.,  66.,  65.,  67.,  55.,  61.,  57.,  68.,  66.,\n",
       "          72.,  74.,  63.,  64.,  56.,  54.,  67.,  54.,  76.,  74.,  65.,\n",
       "          67.,  66.,  56.,  62.,  56.,  72.,  62.,  74.,  74.,  64.,  67.],\n",
       "        [ 72.,  62.,  69.,  67.,  78.,  82.,  74.,  65.,  69.,  63.,  70.,\n",
       "          70.,  72.,  74.,  70.,  71.,  72.,  75.,  66.,  65.,  73.,  78.,\n",
       "          74.,  79.,  74.,  69.,  69.,  70.,  71.,  69.,  72.,  70.,  62.,\n",
       "          65.,  65.,  71.,  63.,  60.,  69.,  73.,  67.,  71.,  56.,  58.]]),\n",
       " array([ 1.,  1.]))"
      ]
     },
     "execution_count": 4,
     "metadata": {},
     "output_type": "execute_result"
    }
   ],
   "source": [
    "x_data[:2], y_data[:2]"
   ]
  },
  {
   "cell_type": "code",
   "execution_count": 5,
   "metadata": {
    "collapsed": false
   },
   "outputs": [
    {
     "data": {
      "text/plain": [
       "(267, 44)"
      ]
     },
     "execution_count": 5,
     "metadata": {},
     "output_type": "execute_result"
    }
   ],
   "source": [
    "x_data.shape"
   ]
  },
  {
   "cell_type": "code",
   "execution_count": 6,
   "metadata": {
    "collapsed": false
   },
   "outputs": [
    {
     "data": {
      "text/plain": [
       "212.0"
      ]
     },
     "execution_count": 6,
     "metadata": {},
     "output_type": "execute_result"
    }
   ],
   "source": [
    "np.sum(y_data)"
   ]
  },
  {
   "cell_type": "code",
   "execution_count": 7,
   "metadata": {
    "collapsed": false
   },
   "outputs": [],
   "source": [
    "means = np.mean(x_data, axis=0)\n",
    "maxs = np.max(x_data, axis=0)\n",
    "mins = np.min(x_data, axis=0)"
   ]
  },
  {
   "cell_type": "code",
   "execution_count": 8,
   "metadata": {
    "collapsed": false
   },
   "outputs": [],
   "source": [
    "def normalize():\n",
    "    for i in range(len(means)):\n",
    "        x_data[:, i] = (x_data[:, i] - means[i]) / (maxs[i] - mins[i])"
   ]
  },
  {
   "cell_type": "code",
   "execution_count": 9,
   "metadata": {
    "collapsed": true
   },
   "outputs": [],
   "source": [
    "# maybe we should normalize to get better score\n",
    "normalize()"
   ]
  },
  {
   "cell_type": "code",
   "execution_count": 10,
   "metadata": {
    "collapsed": false
   },
   "outputs": [],
   "source": [
    "# stds = np.std(x_data, axis=0)\n",
    "# stds"
   ]
  },
  {
   "cell_type": "code",
   "execution_count": 11,
   "metadata": {
    "collapsed": false
   },
   "outputs": [],
   "source": [
    "# for i in range(len(stds)):\n",
    "#     x_data[:, i] = x_data[:, i] / stds[i]"
   ]
  },
  {
   "cell_type": "code",
   "execution_count": 12,
   "metadata": {
    "collapsed": false
   },
   "outputs": [
    {
     "data": {
      "text/plain": [
       "array([[-0.11972534, -0.21523096,  0.03004767, -0.04157303,  0.13440167,\n",
       "         0.03177669,  0.02861657, -0.13316687, -0.08147508, -0.18271803,\n",
       "         0.02332798,  0.01187801,  0.06024384,  0.18546528,  0.08378416,\n",
       "         0.07501493, -0.00248067, -0.15969621, -0.10391422, -0.12219101,\n",
       "        -0.12067416, -0.13873962,  0.07950588,  0.1337008 ,  0.07440326,\n",
       "         0.10795627, -0.10179983, -0.11311947,  0.08324821, -0.09062615,\n",
       "         0.12313876,  0.04164794,  0.0821677 ,  0.08988764,  0.03609712,\n",
       "        -0.10287921, -0.06908917, -0.13440167,  0.08468581, -0.02736579,\n",
       "         0.15015322,  0.18117353,  0.16083769,  0.23861478],\n",
       "       [ 0.09694132, -0.04856429,  0.00732039, -0.04157303,  0.21636888,\n",
       "         0.28177669,  0.05986657, -0.06967481,  0.08775569,  0.01371054,\n",
       "        -0.00524345, -0.0024077 ,  0.10279704,  0.12777298,  0.15785823,\n",
       "         0.16197145,  0.0624544 ,  0.11808156, -0.00587501,  0.00280899,\n",
       "        -0.02067416,  0.12212995,  0.1145936 ,  0.22804042,  0.23858237,\n",
       "         0.17552384,  0.07875572,  0.11876459,  0.14385427,  0.12064145,\n",
       "         0.02557778, -0.01168539,  0.02094321,  0.05863764,  0.01885574,\n",
       "         0.13149579, -0.04781257, -0.0688279 ,  0.04301914,  0.11930087,\n",
       "         0.05924413,  0.14117353,  0.04816163,  0.10817999]])"
      ]
     },
     "execution_count": 12,
     "metadata": {},
     "output_type": "execute_result"
    }
   ],
   "source": [
    "x_data[:2]"
   ]
  },
  {
   "cell_type": "code",
   "execution_count": 13,
   "metadata": {
    "collapsed": false
   },
   "outputs": [
    {
     "data": {
      "text/plain": [
       "'\\n\\nWe have a dataset of 267 samples which have 44 features. Our labels are either 0 or 1.\\nThe task is to classify given samples. The 80% of data is 1 labeled the 20% is 0.\\n\\n'"
      ]
     },
     "execution_count": 13,
     "metadata": {},
     "output_type": "execute_result"
    }
   ],
   "source": [
    "'''\n",
    "\n",
    "We have a dataset of 267 samples which have 44 features. Our labels are either 0 or 1.\n",
    "The task is to classify given samples. The 80% of data is 1 labeled the 20% is 0.\n",
    "\n",
    "'''"
   ]
  },
  {
   "cell_type": "code",
   "execution_count": 14,
   "metadata": {
    "collapsed": true
   },
   "outputs": [],
   "source": [
    "from random_forest import RandomForest\n",
    "from logistic_regression import LogisticRegression"
   ]
  },
  {
   "cell_type": "code",
   "execution_count": 15,
   "metadata": {
    "collapsed": false
   },
   "outputs": [],
   "source": [
    "def prepare_data(x_data, y_data, ratio=0.9):\n",
    "    seed = int(time() % 10 * 1993)\n",
    "    idx = np.arange(np.size(x_data, axis=0))\n",
    "    np.random.seed(seed)\n",
    "    np.random.shuffle(idx)\n",
    "    x_data = x_data[idx]\n",
    "    y_data = y_data[idx]\n",
    "\n",
    "    train_part = np.int(ratio * np.size(x_data, axis=0))\n",
    "    x_train = x_data[1:train_part, :]\n",
    "    x_test = x_data[train_part:, :]\n",
    "    y_train = y_data[1:train_part]\n",
    "    y_test = y_data[train_part:]\n",
    "    return x_train, y_train, x_test, y_test"
   ]
  },
  {
   "cell_type": "code",
   "execution_count": 16,
   "metadata": {
    "collapsed": false
   },
   "outputs": [],
   "source": [
    "# def prepare_data_lr(x_data, y_data, ratio=0.9):\n",
    "#     x_train, y_train, x_test, y_test = prepare_data(x_data, y_data, ratio=ratio)\n",
    "#     xtrainlr = np.concatenate((np.ones(shape=(1, np.shape(x_train)[0])).T, x_train), axis=1)\n",
    "#     xtestlr = np.concatenate((np.ones(shape=(1, np.shape(x_test)[0])).T, x_test), axis=1)\n",
    "\n",
    "#     ytr = 2 * y_train - 1\n",
    "#     yts = 2 * y_test - 1\n",
    "#     return xtrainlr, ytr, xtestlr, yts"
   ]
  },
  {
   "cell_type": "code",
   "execution_count": 17,
   "metadata": {
    "collapsed": true
   },
   "outputs": [],
   "source": [
    "def accuracy_score(y_true, y_predict):\n",
    "    \"\"\"\n",
    "\n",
    "    :param y_true: true labels of given data\n",
    "    :param y_predict: predicted labels of given data\n",
    "    :return:\n",
    "    \"\"\"\n",
    "    y_true = y_true.flatten()\n",
    "    y_predict = y_predict.astype(float).flatten()\n",
    "    t_sum = sum([1. if np.abs(y_true[i] - y_predict[i]) < 0.5 else 0. for i in range(0, np.size(y_true))])\n",
    "    return t_sum / np.size(y_true)"
   ]
  },
  {
   "cell_type": "code",
   "execution_count": 18,
   "metadata": {
    "collapsed": true
   },
   "outputs": [],
   "source": [
    "def launch_rf():\n",
    "    '''\n",
    "    Function that combines training, testing and returns the accuracy score\n",
    "    '''\n",
    "    x_train_rf, y_train_rf, x_test_rf, y_test_rf = prepare_data(x_data, y_data)\n",
    "    random_forest = RandomForest(20, 10, 0.3)\n",
    "    random_forest.fit(x_train_rf, y_train_rf)\n",
    "    predict_rf = random_forest.predict(y_train_rf)\n",
    "    score = accuracy_score(y_test_rf, predict_rf)\n",
    "    return score, random_forest"
   ]
  },
  {
   "cell_type": "code",
   "execution_count": 19,
   "metadata": {
    "collapsed": false
   },
   "outputs": [],
   "source": [
    "x_train_rf, y_train_rf, x_test_rf, y_test_rf = prepare_data(x_data, y_data)\n",
    "random_forest = RandomForest(20, 10, 0.3)\n",
    "random_forest.fit(x_train_rf, y_train_rf)"
   ]
  },
  {
   "cell_type": "code",
   "execution_count": 20,
   "metadata": {
    "collapsed": false
   },
   "outputs": [
    {
     "data": {
      "text/plain": [
       "array([ 1.,  1.,  1.,  1.,  1.,  1.,  1.,  1.,  1.,  1.,  1.,  1.,  1.,\n",
       "        1.,  1.,  1.,  1.,  1.,  1.,  1.,  1.,  1.,  1.,  1.,  1.,  1.,\n",
       "        1.,  1.,  1.,  1.,  1.,  1.,  1.,  1.,  1.,  1.,  1.,  1.,  1.,\n",
       "        1.,  1.,  1.,  1.,  1.,  1.,  1.,  1.,  1.,  1.,  1.,  1.,  1.,\n",
       "        1.,  1.,  1.,  1.,  1.,  1.,  1.,  1.,  1.,  1.,  1.,  1.,  1.,\n",
       "        1.,  1.,  1.,  1.,  1.,  1.,  1.,  1.,  1.,  1.,  1.,  1.,  1.,\n",
       "        1.,  1.,  1.,  1.,  1.,  1.,  1.,  1.,  1.,  1.,  1.,  1.,  1.,\n",
       "        1.,  1.,  1.,  1.,  1.,  1.,  1.,  1.,  1.,  1.,  1.,  1.,  1.,\n",
       "        1.,  1.,  1.,  1.,  1.,  1.,  1.,  1.,  1.,  1.,  1.,  1.,  1.,\n",
       "        1.,  1.,  1.,  1.,  1.,  1.,  1.,  1.,  1.,  1.,  1.,  1.,  1.,\n",
       "        1.,  1.,  1.,  1.,  1.,  1.,  1.,  1.,  1.,  1.,  1.,  1.,  1.,\n",
       "        1.,  1.,  1.,  1.,  1.,  1.,  1.,  1.,  1.,  1.,  1.,  1.,  1.,\n",
       "        1.,  1.,  1.,  1.,  1.,  1.,  1.,  1.,  1.,  1.,  1.,  1.,  1.,\n",
       "        1.,  1.,  1.,  1.,  1.,  1.,  1.,  1.,  1.,  1.,  1.,  1.,  1.,\n",
       "        1.,  1.,  1.,  1.,  1.,  1.,  1.,  1.,  1.,  1.,  1.,  1.,  1.,\n",
       "        1.,  1.,  1.,  1.,  1.,  1.,  1.,  1.,  1.,  1.,  1.,  1.,  1.,\n",
       "        1.,  1.,  1.,  1.,  1.,  1.,  1.,  1.,  1.,  1.,  1.,  1.,  1.,\n",
       "        1.,  1.,  1.,  1.,  1.,  1.,  1.,  1.,  1.,  1.,  1.,  1.,  1.,\n",
       "        1.,  1.,  1.,  1.,  1.])"
      ]
     },
     "execution_count": 20,
     "metadata": {},
     "output_type": "execute_result"
    }
   ],
   "source": [
    "predict_rf = random_forest.predict(y_train_rf)\n",
    "predict_rf"
   ]
  },
  {
   "cell_type": "code",
   "execution_count": 21,
   "metadata": {
    "collapsed": false
   },
   "outputs": [
    {
     "data": {
      "text/plain": [
       "0.8888888888888888"
      ]
     },
     "execution_count": 21,
     "metadata": {},
     "output_type": "execute_result"
    }
   ],
   "source": [
    "accuracy_score(y_test_rf, predict_rf)"
   ]
  },
  {
   "cell_type": "code",
   "execution_count": 22,
   "metadata": {
    "collapsed": true
   },
   "outputs": [],
   "source": [
    "def launch_lr():\n",
    "    '''\n",
    "    Function that combines training, testing and returns the accuracy score\n",
    "    '''\n",
    "    x_train_lr, y_train_lr, x_test_lr, y_test_lr = prepare_data(x_data, y_data)\n",
    "    logistic_regression = LogisticRegression()\n",
    "    logistic_regression.train(x_train_lr, y_train_lr)\n",
    "    predict_lr = logistic_regression.predict(x_test_lr)\n",
    "    score = accuracy_score(y_test_lr, predict_lr)\n",
    "    return score, logistic_regression"
   ]
  },
  {
   "cell_type": "code",
   "execution_count": 23,
   "metadata": {
    "collapsed": false
   },
   "outputs": [],
   "source": [
    "x_train_lr, y_train_lr, x_test_lr, y_test_lr = prepare_data(x_data, y_data)\n",
    "logistic_regression = LogisticRegression()\n",
    "logistic_regression.train(x_train_lr, y_train_lr)"
   ]
  },
  {
   "cell_type": "code",
   "execution_count": 24,
   "metadata": {
    "collapsed": false
   },
   "outputs": [
    {
     "data": {
      "text/plain": [
       "array([1, 1, 1, 1, 1, 1, 1, 1, 1, 1, 1, 1, 1, 1, 1, 1, 1, 1, 1, 1, 1, 1, 1,\n",
       "       1, 1, 1, 1])"
      ]
     },
     "execution_count": 24,
     "metadata": {},
     "output_type": "execute_result"
    }
   ],
   "source": [
    "predict_lr = logistic_regression.predict(x_test_lr)\n",
    "predict_lr"
   ]
  },
  {
   "cell_type": "code",
   "execution_count": 25,
   "metadata": {
    "collapsed": false
   },
   "outputs": [
    {
     "data": {
      "text/plain": [
       "0.7407407407407407"
      ]
     },
     "execution_count": 25,
     "metadata": {},
     "output_type": "execute_result"
    }
   ],
   "source": [
    "accuracy_score(y_test_lr, predict_lr)"
   ]
  },
  {
   "cell_type": "code",
   "execution_count": 26,
   "metadata": {
    "collapsed": false
   },
   "outputs": [],
   "source": [
    "as_rf, as_lr = [], []\n",
    "for _ in range(10):\n",
    "    rf, _ = launch_rf()\n",
    "    lr, _ = launch_lr()\n",
    "    as_rf.append(rf)\n",
    "    as_lr.append(lr)"
   ]
  },
  {
   "cell_type": "code",
   "execution_count": 27,
   "metadata": {
    "collapsed": false
   },
   "outputs": [],
   "source": [
    "import matplotlib.pyplot as plt"
   ]
  },
  {
   "cell_type": "code",
   "execution_count": 28,
   "metadata": {
    "collapsed": false
   },
   "outputs": [
    {
     "data": {
      "image/png": "[encoded data removed]",
      "text/plain": [
       "<matplotlib.figure.Figure at 0x7f0fd37c4a10>"
      ]
     },
     "metadata": {},
     "output_type": "display_data"
    }
   ],
   "source": [
    "plt.plot(as_rf)\n",
    "plt.plot(as_lr)\n",
    "plt.show()"
   ]
  },
  {
   "cell_type": "code",
   "execution_count": null,
   "metadata": {
    "collapsed": true
   },
   "outputs": [],
   "source": []
  }
 ],
 "metadata": {
  "kernelspec": {
   "display_name": "Python 2",
   "language": "python",
   "name": "python2"
  },
  "language_info": {
   "codemirror_mode": {
    "name": "ipython",
    "version": 2
   },
   "file_extension": ".py",
   "mimetype": "text/x-python",
   "name": "python",
   "nbconvert_exporter": "python",
   "pygments_lexer": "ipython2",
   "version": "2.7.13"
  }
 },
 "nbformat": 4,
 "nbformat_minor": 0
}
