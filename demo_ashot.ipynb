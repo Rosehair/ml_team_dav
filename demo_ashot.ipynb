{
 "cells": [
  {
   "cell_type": "code",
   "execution_count": 1,
   "metadata": {
    "collapsed": true
   },
   "outputs": [],
   "source": [
    "from random_forest import RandomForest\n",
    "from logistic_regression import LogisticRegression\n",
    "from decision_tree import DecisionTree\n",
    "import numpy as np"
   ]
  },
  {
   "cell_type": "code",
   "execution_count": 2,
   "metadata": {
    "collapsed": true
   },
   "outputs": [],
   "source": [
    "def accuracy_score(y_true, y_predict):\n",
    "    y_true = y_true.flatten()\n",
    "    y_predict = y_predict.astype(float).flatten()\n",
    "    t_sum = sum([1. if np.abs(y_true[i] - y_predict[i]) < 0.5 else 0. for i in range(0, np.size(y_true))])\n",
    "    return t_sum / np.size(y_true)"
   ]
  },
  {
   "cell_type": "markdown",
   "metadata": {},
   "source": [
    "# Demonstration"
   ]
  },
  {
   "cell_type": "markdown",
   "metadata": {
    "collapsed": true
   },
   "source": [
    "### Test data"
   ]
  },
  {
   "cell_type": "code",
   "execution_count": 3,
   "metadata": {
    "collapsed": false
   },
   "outputs": [
    {
     "name": "stdout",
     "output_type": "stream",
     "text": [
      "('samples:', 267)\n",
      "('Features:', 44)\n"
     ]
    }
   ],
   "source": [
    "filename = 'data/SPECTF.dat'\n",
    "data = np.loadtxt(filename, delimiter=',')\n",
    "np.random.shuffle(data)\n",
    "X = data[:, 1:]\n",
    "y = data[:, 0]\n",
    "n, d = X.shape\n",
    "print(\"samples:\", n)\n",
    "print(\"Features:\",d)"
   ]
  },
  {
   "cell_type": "markdown",
   "metadata": {},
   "source": [
    "#### Divide data into training set and test set"
   ]
  },
  {
   "cell_type": "code",
   "execution_count": 4,
   "metadata": {
    "collapsed": true
   },
   "outputs": [],
   "source": [
    "X_train = X[0:100, :]  # train on first 100 instances\n",
    "X_test = X[100:, :]\n",
    "y_train = y[0:100]  # test on remaining instances\n",
    "y_test = y[100:]"
   ]
  },
  {
   "cell_type": "markdown",
   "metadata": {},
   "source": [
    "#### Data sample"
   ]
  },
  {
   "cell_type": "code",
   "execution_count": 5,
   "metadata": {
    "collapsed": false
   },
   "outputs": [
    {
     "name": "stdout",
     "output_type": "stream",
     "text": [
      "(array([ 71.,  67.,  77.,  74.,  67.,  61.,  75.,  71.,  74.,  69.,  73.,\n",
      "        73.,  73.,  66.,  62.,  64.,  75.,  71.,  71.,  65.,  78.,  68.,\n",
      "        73.,  70.,  61.,  59.,  68.,  67.,  69.,  66.,  71.,  70.,  64.,\n",
      "        64.,  66.,  68.,  70.,  68.,  66.,  51.,  61.,  43.,  44.,  37.]), '->', 1.0)\n"
     ]
    }
   ],
   "source": [
    "print(X[1], \"->\", y[1])"
   ]
  },
  {
   "cell_type": "markdown",
   "metadata": {},
   "source": [
    "### Decesion tree"
   ]
  },
  {
   "cell_type": "code",
   "execution_count": 6,
   "metadata": {
    "collapsed": true
   },
   "outputs": [],
   "source": [
    "dt_classifier = DecisionTree(max_tree_depth=6)\n",
    "dt_classifier.fit(X_train,y_train)"
   ]
  },
  {
   "cell_type": "code",
   "execution_count": 7,
   "metadata": {
    "collapsed": false
   },
   "outputs": [
    {
     "name": "stdout",
     "output_type": "stream",
     "text": [
      "Decesion tree accuracy: 79.6\n"
     ]
    }
   ],
   "source": [
    "print(\"Decesion tree accuracy: %0.1f\" % (100.*accuracy_score(y_test, dt_classifier.predict(X_test))))"
   ]
  },
  {
   "cell_type": "markdown",
   "metadata": {},
   "source": [
    "### Logistic regression"
   ]
  },
  {
   "cell_type": "code",
   "execution_count": 8,
   "metadata": {
    "collapsed": true
   },
   "outputs": [],
   "source": [
    "lr_classifier = LogisticRegression()\n",
    "lr_classifier.train(X_train, y_train)"
   ]
  },
  {
   "cell_type": "code",
   "execution_count": 9,
   "metadata": {
    "collapsed": false
   },
   "outputs": [
    {
     "name": "stdout",
     "output_type": "stream",
     "text": [
      "Decesion tree accuracy: 79.6\n"
     ]
    }
   ],
   "source": [
    "print(\"Decesion tree accuracy: %0.1f\" % (100.*accuracy_score(y_test, lr_classifier.predict(X_test))))"
   ]
  },
  {
   "cell_type": "markdown",
   "metadata": {},
   "source": [
    "### Random forest"
   ]
  },
  {
   "cell_type": "code",
   "execution_count": 10,
   "metadata": {
    "collapsed": true
   },
   "outputs": [],
   "source": [
    "rf_classifier = RandomForest(num_trees=42,max_tree_depth=31,ratio_per_tree=0.46)\n",
    "rf_classifier.fit(X_train, y_train)"
   ]
  },
  {
   "cell_type": "code",
   "execution_count": 11,
   "metadata": {
    "collapsed": false
   },
   "outputs": [
    {
     "name": "stdout",
     "output_type": "stream",
     "text": [
      "Decesion tree accuracy: 79.6\n"
     ]
    }
   ],
   "source": [
    "print(\"Decesion tree accuracy: %0.1f\" % (100.*accuracy_score(y_test, rf_classifier.predict(X_test))))"
   ]
  }
 ],
 "metadata": {
  "kernelspec": {
   "display_name": "Python 2",
   "language": "python",
   "name": "python2"
  },
  "language_info": {
   "codemirror_mode": {
    "name": "ipython",
    "version": 2
   },
   "file_extension": ".py",
   "mimetype": "text/x-python",
   "name": "python",
   "nbconvert_exporter": "python",
   "pygments_lexer": "ipython2",
   "version": "2.7.13"
  }
 },
 "nbformat": 4,
 "nbformat_minor": 1
}
