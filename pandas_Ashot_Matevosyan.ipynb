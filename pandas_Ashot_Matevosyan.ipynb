{
 "cells": [
  {
   "cell_type": "code",
   "execution_count": 5,
   "metadata": {
    "collapsed": true
   },
   "outputs": [],
   "source": [
    "import matplotlib.pyplot as plt\n",
    "%matplotlib inline\n",
    "import numpy as np\n",
    "import pandas as pd"
   ]
  },
  {
   "cell_type": "code",
   "execution_count": 6,
   "metadata": {},
   "outputs": [
    {
     "data": {
      "text/plain": [
       "(267, 45)"
      ]
     },
     "execution_count": 6,
     "metadata": {},
     "output_type": "execute_result"
    }
   ],
   "source": [
    "df = pd.read_csv(\"data/SPECTF.csv\") \n",
    "df.shape"
   ]
  },
  {
   "cell_type": "code",
   "execution_count": 7,
   "metadata": {},
   "outputs": [
    {
     "data": {
      "text/html": [
       "<div>\n",
       "<table border=\"1\" class=\"dataframe\">\n",
       "  <thead>\n",
       "    <tr style=\"text-align: right;\">\n",
       "      <th></th>\n",
       "      <th>label</th>\n",
       "      <th>feature1</th>\n",
       "      <th>feature2</th>\n",
       "      <th>feature3</th>\n",
       "      <th>feature4</th>\n",
       "      <th>feature5</th>\n",
       "      <th>feature6</th>\n",
       "      <th>feature7</th>\n",
       "      <th>feature8</th>\n",
       "      <th>feature9</th>\n",
       "      <th>...</th>\n",
       "      <th>feature35</th>\n",
       "      <th>feature36</th>\n",
       "      <th>feature37</th>\n",
       "      <th>feature38</th>\n",
       "      <th>feature39</th>\n",
       "      <th>feature40</th>\n",
       "      <th>feature41</th>\n",
       "      <th>feature42</th>\n",
       "      <th>feature43</th>\n",
       "      <th>feature44</th>\n",
       "    </tr>\n",
       "  </thead>\n",
       "  <tbody>\n",
       "    <tr>\n",
       "      <th>0</th>\n",
       "      <td>1</td>\n",
       "      <td>59</td>\n",
       "      <td>52</td>\n",
       "      <td>70</td>\n",
       "      <td>67</td>\n",
       "      <td>73</td>\n",
       "      <td>66</td>\n",
       "      <td>72</td>\n",
       "      <td>61</td>\n",
       "      <td>58</td>\n",
       "      <td>...</td>\n",
       "      <td>66</td>\n",
       "      <td>56</td>\n",
       "      <td>62</td>\n",
       "      <td>56</td>\n",
       "      <td>72</td>\n",
       "      <td>62</td>\n",
       "      <td>74</td>\n",
       "      <td>74</td>\n",
       "      <td>64</td>\n",
       "      <td>67</td>\n",
       "    </tr>\n",
       "    <tr>\n",
       "      <th>1</th>\n",
       "      <td>1</td>\n",
       "      <td>72</td>\n",
       "      <td>62</td>\n",
       "      <td>69</td>\n",
       "      <td>67</td>\n",
       "      <td>78</td>\n",
       "      <td>82</td>\n",
       "      <td>74</td>\n",
       "      <td>65</td>\n",
       "      <td>69</td>\n",
       "      <td>...</td>\n",
       "      <td>65</td>\n",
       "      <td>71</td>\n",
       "      <td>63</td>\n",
       "      <td>60</td>\n",
       "      <td>69</td>\n",
       "      <td>73</td>\n",
       "      <td>67</td>\n",
       "      <td>71</td>\n",
       "      <td>56</td>\n",
       "      <td>58</td>\n",
       "    </tr>\n",
       "  </tbody>\n",
       "</table>\n",
       "<p>2 rows × 45 columns</p>\n",
       "</div>"
      ],
      "text/plain": [
       "   label  feature1  feature2  feature3  feature4  feature5  feature6  \\\n",
       "0      1        59        52        70        67        73        66   \n",
       "1      1        72        62        69        67        78        82   \n",
       "\n",
       "   feature7  feature8  feature9    ...      feature35  feature36  feature37  \\\n",
       "0        72        61        58    ...             66         56         62   \n",
       "1        74        65        69    ...             65         71         63   \n",
       "\n",
       "   feature38  feature39  feature40  feature41  feature42  feature43  feature44  \n",
       "0         56         72         62         74         74         64         67  \n",
       "1         60         69         73         67         71         56         58  \n",
       "\n",
       "[2 rows x 45 columns]"
      ]
     },
     "execution_count": 7,
     "metadata": {},
     "output_type": "execute_result"
    }
   ],
   "source": [
    "df[:2]"
   ]
  },
  {
   "cell_type": "code",
   "execution_count": 8,
   "metadata": {},
   "outputs": [
    {
     "data": {
      "text/plain": [
       "<matplotlib.text.Text at 0x7fc2744cf0b8>"
      ]
     },
     "execution_count": 8,
     "metadata": {},
     "output_type": "execute_result"
    },
    {
     "data": {
      "image/png": "[encoded data removed]",
      "text/plain": [
       "<matplotlib.figure.Figure at 0x7fc274594eb8>"
      ]
     },
     "metadata": {},
     "output_type": "display_data"
    }
   ],
   "source": [
    "df[df.columns[0]].value_counts().plot(kind='bar')\n",
    "plt.title(\"Distribution of 1\")    "
   ]
  },
  {
   "cell_type": "code",
   "execution_count": 11,
   "metadata": {},
   "outputs": [
    {
     "data": {
      "image/png": "[encoded data removed]",
      "text/plain": [
       "<matplotlib.figure.Figure at 0x7fc2685ea470>"
      ]
     },
     "metadata": {},
     "output_type": "display_data"
    },
    {
     "data": {
      "image/png": "[encoded data removed]",
      "text/plain": [
       "<matplotlib.figure.Figure at 0x7fc27439dac8>"
      ]
     },
     "metadata": {},
     "output_type": "display_data"
    },
    {
     "data": {
      "image/png": "[encoded data removed]",
      "text/plain": [
       "<matplotlib.figure.Figure at 0x7fc273ee4c88>"
      ]
     },
     "metadata": {},
     "output_type": "display_data"
    },
    {
     "data": {
      "image/png": "[encoded data removed]",
      "text/plain": [
       "<matplotlib.figure.Figure at 0x7fc26848cfd0>"
      ]
     },
     "metadata": {},
     "output_type": "display_data"
    },
    {
     "data": {
      "image/png": "[encoded data removed]",
      "text/plain": [
       "<matplotlib.figure.Figure at 0x7fc2742d0c88>"
      ]
     },
     "metadata": {},
     "output_type": "display_data"
    },
    {
     "data": {
      "image/png": "[encoded data removed]",
      "text/plain": [
       "<matplotlib.figure.Figure at 0x7fc2744822b0>"
      ]
     },
     "metadata": {},
     "output_type": "display_data"
    },
    {
     "data": {
      "image/png": "[encoded data removed]",
      "text/plain": [
       "<matplotlib.figure.Figure at 0x7fc2682de5c0>"
      ]
     },
     "metadata": {},
     "output_type": "display_data"
    },
    {
     "data": {
      "image/png": "[encoded data removed]",
      "text/plain": [
       "<matplotlib.figure.Figure at 0x7fc26834af60>"
      ]
     },
     "metadata": {},
     "output_type": "display_data"
    },
    {
     "data": {
      "image/png": "[encoded data removed]",
      "text/plain": [
       "<matplotlib.figure.Figure at 0x7fc268345438>"
      ]
     },
     "metadata": {},
     "output_type": "display_data"
    }
   ],
   "source": [
    "for i, feature in enumerate(df.columns[1:10]):\n",
    "    plt.title(feature)\n",
    "    plt.scatter(df.get(feature),df.get(df.columns[0]))\n",
    "    plt.show()"
   ]
  },
  {
   "cell_type": "code",
   "execution_count": 12,
   "metadata": {
    "collapsed": true
   },
   "outputs": [],
   "source": [
    "from sklearn.linear_model import LogisticRegression as LogisticRegression_sklearn\n",
    "from logistic_regression import LogisticRegression\n",
    "from random_forest import RandomForest\n",
    "from sklearn.ensemble import RandomForestClassifier as RandomForest_sklearn"
   ]
  },
  {
   "cell_type": "code",
   "execution_count": 13,
   "metadata": {
    "collapsed": true
   },
   "outputs": [],
   "source": [
    "y = df[df.columns[0]].values.astype('float32')\n",
    "X = df[df.columns[1:]].values.astype('float32')"
   ]
  },
  {
   "cell_type": "code",
   "execution_count": 14,
   "metadata": {},
   "outputs": [
    {
     "data": {
      "text/plain": [
       "((267, 44), (267,))"
      ]
     },
     "execution_count": 14,
     "metadata": {},
     "output_type": "execute_result"
    }
   ],
   "source": [
    "X.shape, y.shape"
   ]
  },
  {
   "cell_type": "code",
   "execution_count": 15,
   "metadata": {
    "collapsed": true
   },
   "outputs": [],
   "source": [
    "def split_data(X, y, fraction=0.6):\n",
    "    split_point = int(X.shape[0] * fraction)\n",
    "    perm = np.random.permutation(X.shape[0])\n",
    "    X = X[perm]\n",
    "    y = y[perm]\n",
    "    return X[:split_point], y[:split_point], X[split_point:], y[split_point]"
   ]
  },
  {
   "cell_type": "code",
   "execution_count": 16,
   "metadata": {
    "collapsed": true
   },
   "outputs": [],
   "source": [
    "def accuracy(y1,y2):\n",
    "    return len(y1[y1 == y2])*1./len(y1)"
   ]
  },
  {
   "cell_type": "code",
   "execution_count": 17,
   "metadata": {
    "collapsed": true
   },
   "outputs": [],
   "source": [
    "def mean_accuracy(X,y):\n",
    "    table = []\n",
    "    accuracies = {}\n",
    "    \n",
    "    row = {}\n",
    "    row['model'] = 'my logistic regression'\n",
    "    row['trials'] = 100\n",
    "    row['accuracies'] = []\n",
    "    for trial in range(row['trials']):\n",
    "        classifier = LogisticRegression() \n",
    "        X_train, y_train, X_test, y_test = split_data(X, y, 0.5)\n",
    "        classifier.fit(X_train, y_train)        \n",
    "        row['accuracies'].append(accuracy(classifier.predict(X_test),y_test))\n",
    "    row['test data size'] = X_test.shape[0]\n",
    "    row['train data size'] = X_train.shape[0]\n",
    "    row['mean accuracy'] = np.mean(row['accuracies'])    \n",
    "    row['accuracy variance'] = np.var(row['accuracies'])\n",
    "    table.append(row)\n",
    "    \n",
    "    \n",
    "    row = {}\n",
    "    row['model'] = 'sklearn logistic regression'\n",
    "    row['trials'] = 100\n",
    "    row['accuracies'] = []\n",
    "    for trial in range(row['trials']):\n",
    "        classifier = LogisticRegression_sklearn() \n",
    "        X_train, y_train, X_test, y_test = split_data(X, y, 0.5)\n",
    "        classifier.fit(X_train, y_train)        \n",
    "        row['accuracies'].append(accuracy(classifier.predict(X_test),y_test))\n",
    "    row['test data size'] = X_test.shape[0]\n",
    "    row['train data size'] = X_train.shape[0]\n",
    "    row['mean accuracy'] = np.mean(row['accuracies'])    \n",
    "    row['accuracy variance'] = np.var(row['accuracies'])\n",
    "    table.append(row)\n",
    "    \n",
    "    row = {}\n",
    "    row['model'] = 'my random forest'\n",
    "    row['trials'] = 5\n",
    "    row['accuracies'] = []\n",
    "    for trial in range(row['trials']):\n",
    "        classifier = RandomForest(10,50,0.4) \n",
    "        X_train, y_train, X_test, y_test = split_data(X, y, 0.5)\n",
    "        classifier.fit(X_train, y_train)        \n",
    "        row['accuracies'].append(accuracy(classifier.predict(X_test)[0],y_test))\n",
    "    row['test data size'] = X_test.shape[0]\n",
    "    row['train data size'] = X_train.shape[0]\n",
    "    row['mean accuracy'] = np.mean(row['accuracies'])    \n",
    "    row['accuracy variance'] = np.var(row['accuracies'])\n",
    "    table.append(row)\n",
    "    \n",
    "\n",
    "    \n",
    "    row = {}\n",
    "    row['model'] = 'sklearn random forest'\n",
    "    row['trials'] = 100\n",
    "    row['accuracies'] = []\n",
    "    for trial in range(row['trials']):\n",
    "        classifier = RandomForest_sklearn()\n",
    "        X_train, y_train, X_test, y_test = split_data(X, y, 0.5)\n",
    "        classifier.fit(X_train, y_train)        \n",
    "        row['accuracies'].append(accuracy(classifier.predict(X_test),y_test))\n",
    "    row['test data size'] = X_test.shape[0]\n",
    "    row['train data size'] = X_train.shape[0]\n",
    "    row['mean accuracy'] = np.mean(row['accuracies'])    \n",
    "    row['accuracy variance'] = np.var(row['accuracies'])\n",
    "    table.append(row)\n",
    "    \n",
    "    \n",
    "    return table\n"
   ]
  },
  {
   "cell_type": "code",
   "execution_count": 21,
   "metadata": {
    "collapsed": true
   },
   "outputs": [],
   "source": [
    "table = mean_accuracy(X,y)"
   ]
  },
  {
   "cell_type": "code",
   "execution_count": 22,
   "metadata": {},
   "outputs": [
    {
     "data": {
      "text/html": [
       "<div>\n",
       "<table border=\"1\" class=\"dataframe\">\n",
       "  <thead>\n",
       "    <tr style=\"text-align: right;\">\n",
       "      <th></th>\n",
       "      <th>accuracy variance</th>\n",
       "      <th>mean accuracy</th>\n",
       "      <th>model</th>\n",
       "      <th>test data size</th>\n",
       "      <th>train data size</th>\n",
       "      <th>trials</th>\n",
       "    </tr>\n",
       "  </thead>\n",
       "  <tbody>\n",
       "    <tr>\n",
       "      <th>0</th>\n",
       "      <td>0.045292</td>\n",
       "      <td>0.684925</td>\n",
       "      <td>my logistic regression</td>\n",
       "      <td>134</td>\n",
       "      <td>133</td>\n",
       "      <td>100</td>\n",
       "    </tr>\n",
       "    <tr>\n",
       "      <th>1</th>\n",
       "      <td>0.037887</td>\n",
       "      <td>0.642761</td>\n",
       "      <td>sklearn logistic regression</td>\n",
       "      <td>134</td>\n",
       "      <td>133</td>\n",
       "      <td>100</td>\n",
       "    </tr>\n",
       "    <tr>\n",
       "      <th>2</th>\n",
       "      <td>0.082232</td>\n",
       "      <td>0.725373</td>\n",
       "      <td>my random forest</td>\n",
       "      <td>134</td>\n",
       "      <td>133</td>\n",
       "      <td>5</td>\n",
       "    </tr>\n",
       "    <tr>\n",
       "      <th>3</th>\n",
       "      <td>0.104397</td>\n",
       "      <td>0.666866</td>\n",
       "      <td>sklearn random forest</td>\n",
       "      <td>134</td>\n",
       "      <td>133</td>\n",
       "      <td>100</td>\n",
       "    </tr>\n",
       "  </tbody>\n",
       "</table>\n",
       "</div>"
      ],
      "text/plain": [
       "   accuracy variance  mean accuracy                        model  \\\n",
       "0           0.045292       0.684925       my logistic regression   \n",
       "1           0.037887       0.642761  sklearn logistic regression   \n",
       "2           0.082232       0.725373             my random forest   \n",
       "3           0.104397       0.666866        sklearn random forest   \n",
       "\n",
       "   test data size  train data size  trials  \n",
       "0             134              133     100  \n",
       "1             134              133     100  \n",
       "2             134              133       5  \n",
       "3             134              133     100  "
      ]
     },
     "execution_count": 22,
     "metadata": {},
     "output_type": "execute_result"
    }
   ],
   "source": [
    "my_df = pd.DataFrame(table)\n",
    "my_df.pop('accuracies')\n",
    "my_df\n"
   ]
  },
  {
   "cell_type": "code",
   "execution_count": null,
   "metadata": {
    "collapsed": true
   },
   "outputs": [],
   "source": []
  }
 ],
 "metadata": {
  "kernelspec": {
   "display_name": "Python 3",
   "language": "python",
   "name": "python3"
  },
  "language_info": {
   "codemirror_mode": {
    "name": "ipython",
    "version": 3
   },
   "file_extension": ".py",
   "mimetype": "text/x-python",
   "name": "python",
   "nbconvert_exporter": "python",
   "pygments_lexer": "ipython3",
   "version": "3.6.1"
  }
 },
 "nbformat": 4,
 "nbformat_minor": 2
}
