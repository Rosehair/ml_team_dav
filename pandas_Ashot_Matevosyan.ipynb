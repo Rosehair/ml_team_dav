{
 "cells": [
  {
   "cell_type": "code",
   "execution_count": 1,
   "metadata": {
    "collapsed": true
   },
   "outputs": [],
   "source": [
    "import matplotlib.pyplot as plt\n",
    "%matplotlib inline\n",
    "import numpy as np\n",
    "import pandas as pd"
   ]
  },
  {
   "cell_type": "code",
   "execution_count": 2,
   "metadata": {},
   "outputs": [
    {
     "name": "stdout",
     "output_type": "stream",
     "text": [
      "test passed\n"
     ]
    },
    {
     "data": {
      "text/plain": [
       "(267, 45)"
      ]
     },
     "execution_count": 2,
     "metadata": {},
     "output_type": "execute_result"
    }
   ],
   "source": [
    "from csv_utils import read_csv as present_from_vardges\n",
    "df = present_from_vardges(\"data/SPECTF.dat\") \n",
    "df.shape"
   ]
  },
  {
   "cell_type": "code",
   "execution_count": 3,
   "metadata": {},
   "outputs": [
    {
     "data": {
      "text/html": [
       "<div>\n",
       "<table border=\"1\" class=\"dataframe\">\n",
       "  <thead>\n",
       "    <tr style=\"text-align: right;\">\n",
       "      <th></th>\n",
       "      <th>f1</th>\n",
       "      <th>f10</th>\n",
       "      <th>f11</th>\n",
       "      <th>f12</th>\n",
       "      <th>f13</th>\n",
       "      <th>f14</th>\n",
       "      <th>f15</th>\n",
       "      <th>f16</th>\n",
       "      <th>f17</th>\n",
       "      <th>f18</th>\n",
       "      <th>...</th>\n",
       "      <th>f41</th>\n",
       "      <th>f42</th>\n",
       "      <th>f43</th>\n",
       "      <th>f44</th>\n",
       "      <th>f5</th>\n",
       "      <th>f6</th>\n",
       "      <th>f7</th>\n",
       "      <th>f8</th>\n",
       "      <th>f9</th>\n",
       "      <th>result</th>\n",
       "    </tr>\n",
       "  </thead>\n",
       "  <tbody>\n",
       "    <tr>\n",
       "      <th>0</th>\n",
       "      <td>59</td>\n",
       "      <td>52</td>\n",
       "      <td>72</td>\n",
       "      <td>71</td>\n",
       "      <td>70</td>\n",
       "      <td>77</td>\n",
       "      <td>66</td>\n",
       "      <td>65</td>\n",
       "      <td>67</td>\n",
       "      <td>55</td>\n",
       "      <td>...</td>\n",
       "      <td>74</td>\n",
       "      <td>74</td>\n",
       "      <td>64</td>\n",
       "      <td>67</td>\n",
       "      <td>73</td>\n",
       "      <td>66</td>\n",
       "      <td>72</td>\n",
       "      <td>61</td>\n",
       "      <td>58</td>\n",
       "      <td>1</td>\n",
       "    </tr>\n",
       "    <tr>\n",
       "      <th>1</th>\n",
       "      <td>72</td>\n",
       "      <td>63</td>\n",
       "      <td>70</td>\n",
       "      <td>70</td>\n",
       "      <td>72</td>\n",
       "      <td>74</td>\n",
       "      <td>70</td>\n",
       "      <td>71</td>\n",
       "      <td>72</td>\n",
       "      <td>75</td>\n",
       "      <td>...</td>\n",
       "      <td>67</td>\n",
       "      <td>71</td>\n",
       "      <td>56</td>\n",
       "      <td>58</td>\n",
       "      <td>78</td>\n",
       "      <td>82</td>\n",
       "      <td>74</td>\n",
       "      <td>65</td>\n",
       "      <td>69</td>\n",
       "      <td>1</td>\n",
       "    </tr>\n",
       "  </tbody>\n",
       "</table>\n",
       "<p>2 rows × 45 columns</p>\n",
       "</div>"
      ],
      "text/plain": [
       "   f1  f10  f11  f12  f13  f14  f15  f16  f17  f18   ...    f41  f42  f43  \\\n",
       "0  59   52   72   71   70   77   66   65   67   55   ...     74   74   64   \n",
       "1  72   63   70   70   72   74   70   71   72   75   ...     67   71   56   \n",
       "\n",
       "   f44  f5  f6  f7  f8  f9  result  \n",
       "0   67  73  66  72  61  58       1  \n",
       "1   58  78  82  74  65  69       1  \n",
       "\n",
       "[2 rows x 45 columns]"
      ]
     },
     "execution_count": 3,
     "metadata": {},
     "output_type": "execute_result"
    }
   ],
   "source": [
    "df[:2]"
   ]
  },
  {
   "cell_type": "code",
   "execution_count": 4,
   "metadata": {},
   "outputs": [
    {
     "data": {
      "text/plain": [
       "('result',\n",
       " Index(['f1', 'f10', 'f11', 'f12', 'f13', 'f14', 'f15', 'f16', 'f17', 'f18',\n",
       "        'f19', 'f2', 'f20', 'f21', 'f22', 'f23', 'f24', 'f25', 'f26', 'f27',\n",
       "        'f28', 'f29', 'f3', 'f30', 'f31', 'f32', 'f33', 'f34', 'f35', 'f36',\n",
       "        'f37', 'f38', 'f39', 'f4', 'f40', 'f41', 'f42', 'f43', 'f44', 'f5',\n",
       "        'f6', 'f7', 'f8', 'f9'],\n",
       "       dtype='object'))"
      ]
     },
     "execution_count": 4,
     "metadata": {},
     "output_type": "execute_result"
    }
   ],
   "source": [
    "# depends on data\n",
    "label = df.columns[df.columns == 'result'][0]\n",
    "features = df.columns[df.columns != 'result']\n",
    "label,features"
   ]
  },
  {
   "cell_type": "code",
   "execution_count": 5,
   "metadata": {},
   "outputs": [
    {
     "data": {
      "text/plain": [
       "<matplotlib.text.Text at 0x7f2155733cf8>"
      ]
     },
     "execution_count": 5,
     "metadata": {},
     "output_type": "execute_result"
    },
    {
     "data": {
      "image/png": "[encoded data removed]",
      "text/plain": [
       "<matplotlib.figure.Figure at 0x7f2158ab5a58>"
      ]
     },
     "metadata": {},
     "output_type": "display_data"
    }
   ],
   "source": [
    "df[label].value_counts().plot(kind='bar')\n",
    "plt.title(\"Distribution of 1\")    "
   ]
  },
  {
   "cell_type": "code",
   "execution_count": 6,
   "metadata": {},
   "outputs": [
    {
     "data": {
      "image/png": "[encoded data removed]",
      "text/plain": [
       "<matplotlib.figure.Figure at 0x7f21556fef98>"
      ]
     },
     "metadata": {},
     "output_type": "display_data"
    },
    {
     "data": {
      "image/png": "[encoded data removed]",
      "text/plain": [
       "<matplotlib.figure.Figure at 0x7f21555fba58>"
      ]
     },
     "metadata": {},
     "output_type": "display_data"
    },
    {
     "data": {
      "image/png": "[encoded data removed]",
      "text/plain": [
       "<matplotlib.figure.Figure at 0x7f21557a4748>"
      ]
     },
     "metadata": {},
     "output_type": "display_data"
    },
    {
     "data": {
      "image/png": "[encoded data removed]",
      "text/plain": [
       "<matplotlib.figure.Figure at 0x7f2155647048>"
      ]
     },
     "metadata": {},
     "output_type": "display_data"
    },
    {
     "data": {
      "image/png": "[encoded data removed]",
      "text/plain": [
       "<matplotlib.figure.Figure at 0x7f2155669ba8>"
      ]
     },
     "metadata": {},
     "output_type": "display_data"
    },
    {
     "data": {
      "image/png": "[encoded data removed]",
      "text/plain": [
       "<matplotlib.figure.Figure at 0x7f21553e5eb8>"
      ]
     },
     "metadata": {},
     "output_type": "display_data"
    },
    {
     "data": {
      "image/png": "[encoded data removed]",
      "text/plain": [
       "<matplotlib.figure.Figure at 0x7f2155412a90>"
      ]
     },
     "metadata": {},
     "output_type": "display_data"
    },
    {
     "data": {
      "image/png": "[encoded data removed]",
      "text/plain": [
       "<matplotlib.figure.Figure at 0x7f21553c9cc0>"
      ]
     },
     "metadata": {},
     "output_type": "display_data"
    },
    {
     "data": {
      "image/png": "[encoded data removed]",
      "text/plain": [
       "<matplotlib.figure.Figure at 0x7f21554faf28>"
      ]
     },
     "metadata": {},
     "output_type": "display_data"
    }
   ],
   "source": [
    "for i, feature in enumerate(df.columns[1:10]):\n",
    "    plt.title(feature)\n",
    "    plt.scatter(df.get(feature),df.get(label))\n",
    "    plt.show()"
   ]
  },
  {
   "cell_type": "code",
   "execution_count": 7,
   "metadata": {
    "collapsed": true
   },
   "outputs": [],
   "source": [
    "from sklearn.linear_model import LogisticRegression as LogisticRegression_sklearn\n",
    "from logistic_regression import LogisticRegression\n",
    "from random_forest import RandomForest\n",
    "from sklearn.ensemble import RandomForestClassifier as RandomForest_sklearn"
   ]
  },
  {
   "cell_type": "code",
   "execution_count": 8,
   "metadata": {
    "collapsed": true
   },
   "outputs": [],
   "source": [
    "y = df[label].values.astype('float32')\n",
    "X = df[features].values.astype('float32')"
   ]
  },
  {
   "cell_type": "code",
   "execution_count": 9,
   "metadata": {},
   "outputs": [
    {
     "data": {
      "text/plain": [
       "((267, 44), (267,))"
      ]
     },
     "execution_count": 9,
     "metadata": {},
     "output_type": "execute_result"
    }
   ],
   "source": [
    "X.shape, y.shape"
   ]
  },
  {
   "cell_type": "code",
   "execution_count": 10,
   "metadata": {
    "collapsed": true
   },
   "outputs": [],
   "source": [
    "def split_data(X, y, fraction=0.6):\n",
    "    split_point = int(X.shape[0] * fraction)\n",
    "    perm = np.random.permutation(X.shape[0])\n",
    "    X = X[perm]\n",
    "    y = y[perm]\n",
    "    return X[:split_point], y[:split_point], X[split_point:], y[split_point:]"
   ]
  },
  {
   "cell_type": "code",
   "execution_count": 11,
   "metadata": {
    "collapsed": true
   },
   "outputs": [],
   "source": [
    "def accuracy(y1,y2):\n",
    "    return len(y1[y1 == y2])*1./len(y1)"
   ]
  },
  {
   "cell_type": "code",
   "execution_count": 12,
   "metadata": {
    "collapsed": true
   },
   "outputs": [],
   "source": [
    "def mean_accuracy(X,y):\n",
    "    table = []\n",
    "    \n",
    "    row = {}\n",
    "    row['model'] = 'my logistic regression'\n",
    "    row['trials'] = 100\n",
    "    row['accuracies'] = []\n",
    "    for trial in range(row['trials']):\n",
    "        classifier = LogisticRegression() \n",
    "        X_train, y_train, X_test, y_test = split_data(X, y, 0.5)\n",
    "        classifier.train(X_train, y_train)        \n",
    "        row['accuracies'].append(accuracy(classifier.predict(X_test),y_test))\n",
    "    row['test data size'] = X_test.shape[0]\n",
    "    row['train data size'] = X_train.shape[0]\n",
    "    row['mean accuracy'] = np.mean(row['accuracies'])    \n",
    "    row['accuracy variance'] = np.var(row['accuracies'])\n",
    "    table.append(row)\n",
    "    \n",
    "    \n",
    "    row = {}\n",
    "    row['model'] = 'sklearn logistic regression'\n",
    "    row['trials'] = 100\n",
    "    row['accuracies'] = []\n",
    "    for trial in range(row['trials']):\n",
    "        classifier = LogisticRegression_sklearn() \n",
    "        X_train, y_train, X_test, y_test = split_data(X, y, 0.5)\n",
    "        classifier.fit(X_train, y_train)        \n",
    "        row['accuracies'].append(accuracy(classifier.predict(X_test),y_test))\n",
    "    row['test data size'] = X_test.shape[0]\n",
    "    row['train data size'] = X_train.shape[0]\n",
    "    row['mean accuracy'] = np.mean(row['accuracies'])    \n",
    "    row['accuracy variance'] = np.var(row['accuracies'])\n",
    "    table.append(row)\n",
    "    \n",
    "    row = {}\n",
    "    row['model'] = 'my random forest'\n",
    "    row['trials'] = 5\n",
    "    row['accuracies'] = []\n",
    "    for trial in range(row['trials']):\n",
    "        classifier = RandomForest(10,50,0.4) \n",
    "        X_train, y_train, X_test, y_test = split_data(X, y, 0.5)\n",
    "        classifier.fit(X_train, y_train)        \n",
    "        row['accuracies'].append(accuracy(classifier.predict(X_test),y_test))\n",
    "    row['test data size'] = X_test.shape[0]\n",
    "    row['train data size'] = X_train.shape[0]\n",
    "    row['mean accuracy'] = np.mean(row['accuracies'])    \n",
    "    row['accuracy variance'] = np.var(row['accuracies'])\n",
    "    table.append(row)\n",
    "    \n",
    "\n",
    "    \n",
    "    row = {}\n",
    "    row['model'] = 'sklearn random forest'\n",
    "    row['trials'] = 100\n",
    "    row['accuracies'] = []\n",
    "    for trial in range(row['trials']):\n",
    "        classifier = RandomForest_sklearn()\n",
    "        X_train, y_train, X_test, y_test = split_data(X, y, 0.5)\n",
    "        classifier.fit(X_train, y_train)        \n",
    "        row['accuracies'].append(accuracy(classifier.predict(X_test),y_test))\n",
    "    row['test data size'] = X_test.shape[0]\n",
    "    row['train data size'] = X_train.shape[0]\n",
    "    row['mean accuracy'] = np.mean(row['accuracies'])    \n",
    "    row['accuracy variance'] = np.var(row['accuracies'])\n",
    "    table.append(row)\n",
    "    \n",
    "    \n",
    "    return table\n"
   ]
  },
  {
   "cell_type": "code",
   "execution_count": 13,
   "metadata": {},
   "outputs": [],
   "source": [
    "table = mean_accuracy(X,y)"
   ]
  },
  {
   "cell_type": "code",
   "execution_count": 14,
   "metadata": {},
   "outputs": [
    {
     "data": {
      "text/html": [
       "<div>\n",
       "<table border=\"1\" class=\"dataframe\">\n",
       "  <thead>\n",
       "    <tr style=\"text-align: right;\">\n",
       "      <th></th>\n",
       "      <th>accuracy variance</th>\n",
       "      <th>mean accuracy</th>\n",
       "      <th>model</th>\n",
       "      <th>test data size</th>\n",
       "      <th>train data size</th>\n",
       "      <th>trials</th>\n",
       "    </tr>\n",
       "  </thead>\n",
       "  <tbody>\n",
       "    <tr>\n",
       "      <th>0</th>\n",
       "      <td>0.000519</td>\n",
       "      <td>0.794254</td>\n",
       "      <td>my logistic regression</td>\n",
       "      <td>134</td>\n",
       "      <td>133</td>\n",
       "      <td>100</td>\n",
       "    </tr>\n",
       "    <tr>\n",
       "      <th>1</th>\n",
       "      <td>0.001679</td>\n",
       "      <td>0.709627</td>\n",
       "      <td>sklearn logistic regression</td>\n",
       "      <td>134</td>\n",
       "      <td>133</td>\n",
       "      <td>100</td>\n",
       "    </tr>\n",
       "    <tr>\n",
       "      <th>2</th>\n",
       "      <td>0.000321</td>\n",
       "      <td>0.737313</td>\n",
       "      <td>my random forest</td>\n",
       "      <td>134</td>\n",
       "      <td>133</td>\n",
       "      <td>5</td>\n",
       "    </tr>\n",
       "    <tr>\n",
       "      <th>3</th>\n",
       "      <td>0.000783</td>\n",
       "      <td>0.789030</td>\n",
       "      <td>sklearn random forest</td>\n",
       "      <td>134</td>\n",
       "      <td>133</td>\n",
       "      <td>100</td>\n",
       "    </tr>\n",
       "  </tbody>\n",
       "</table>\n",
       "</div>"
      ],
      "text/plain": [
       "   accuracy variance  mean accuracy                        model  \\\n",
       "0           0.000519       0.794254       my logistic regression   \n",
       "1           0.001679       0.709627  sklearn logistic regression   \n",
       "2           0.000321       0.737313             my random forest   \n",
       "3           0.000783       0.789030        sklearn random forest   \n",
       "\n",
       "   test data size  train data size  trials  \n",
       "0             134              133     100  \n",
       "1             134              133     100  \n",
       "2             134              133       5  \n",
       "3             134              133     100  "
      ]
     },
     "execution_count": 14,
     "metadata": {},
     "output_type": "execute_result"
    }
   ],
   "source": [
    "my_df = pd.DataFrame(table)\n",
    "my_df.pop('accuracies')\n",
    "my_df\n"
   ]
  }
 ],
 "metadata": {
  "kernelspec": {
   "display_name": "Python 3",
   "language": "python",
   "name": "python3"
  },
  "language_info": {
   "codemirror_mode": {
    "name": "ipython",
    "version": 3
   },
   "file_extension": ".py",
   "mimetype": "text/x-python",
   "name": "python",
   "nbconvert_exporter": "python",
   "pygments_lexer": "ipython3",
   "version": "3.6.1"
  }
 },
 "nbformat": 4,
 "nbformat_minor": 2
}
