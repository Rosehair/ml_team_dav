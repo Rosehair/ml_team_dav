{
 "cells": [
  {
   "cell_type": "code",
   "execution_count": null,
   "metadata": {
    "collapsed": true
   },
   "outputs": [],
   "source": [
    "import matplotlib.pyplot as plt\n",
    "%matplotlib inline\n",
    "import numpy as np\n",
    "import pandas as pd"
   ]
  },
  {
   "cell_type": "code",
   "execution_count": null,
   "metadata": {},
   "outputs": [],
   "source": [
    "df = pd.read_csv(\"data/SPECTF.csv\") \n",
    "df.shape"
   ]
  },
  {
   "cell_type": "code",
   "execution_count": null,
   "metadata": {},
   "outputs": [],
   "source": [
    "df[:2]"
   ]
  },
  {
   "cell_type": "code",
   "execution_count": null,
   "metadata": {},
   "outputs": [],
   "source": [
    "df[df.columns[0]].value_counts().plot(kind='bar')\n",
    "plt.title(\"Distribution of 1\")    "
   ]
  },
  {
   "cell_type": "code",
   "execution_count": null,
   "metadata": {},
   "outputs": [],
   "source": [
    "for i, feature in enumerate(df.columns[1:10]):\n",
    "    plt.title(feature)\n",
    "    plt.scatter(df.get(feature),df.get(df.columns[0]))\n",
    "    plt.show()"
   ]
  },
  {
   "cell_type": "code",
   "execution_count": null,
   "metadata": {
    "collapsed": true
   },
   "outputs": [],
   "source": [
    "from sklearn.linear_model import LogisticRegression as LogisticRegression_sklearn\n",
    "from logistic_regression import LogisticRegression\n",
    "from random_forest import RandomForest\n",
    "from sklearn.ensemble import RandomForestClassifier as RandomForest_sklearn"
   ]
  },
  {
   "cell_type": "code",
   "execution_count": null,
   "metadata": {
    "collapsed": true
   },
   "outputs": [],
   "source": [
    "y = df[df.columns[0]].values.astype('float32')\n",
    "X = df[df.columns[1:]].values.astype('float32')"
   ]
  },
  {
   "cell_type": "code",
   "execution_count": null,
   "metadata": {},
   "outputs": [],
   "source": [
    "X.shape, y.shape"
   ]
  },
  {
   "cell_type": "code",
   "execution_count": null,
   "metadata": {
    "collapsed": true
   },
   "outputs": [],
   "source": [
    "def split_data(X, y, fraction=0.6):\n",
    "    split_point = int(X.shape[0] * fraction)\n",
    "    perm = np.random.permutation(X.shape[0])\n",
    "    X = X[perm]\n",
    "    y = y[perm]\n",
    "    return X[:split_point], y[:split_point], X[split_point:], y[split_point]"
   ]
  },
  {
   "cell_type": "code",
   "execution_count": null,
   "metadata": {
    "collapsed": true
   },
   "outputs": [],
   "source": [
    "def accuracy(y1,y2):\n",
    "    return len(y1[y1 == y2])*1./len(y1)"
   ]
  },
  {
   "cell_type": "code",
   "execution_count": null,
   "metadata": {
    "collapsed": true
   },
   "outputs": [],
   "source": [
    "def mean_accuracy(X,y):\n",
    "    table = []\n",
    "    accuracies = {}\n",
    "    \n",
    "    row = {}\n",
    "    row['model'] = 'my logistic regression'\n",
    "    row['trials'] = 100\n",
    "    row['accuracies'] = []\n",
    "    for trial in range(row['trials']):\n",
    "        classifier = LogisticRegression() \n",
    "        X_train, y_train, X_test, y_test = split_data(X, y, 0.5)\n",
    "        classifier.train(X_train, y_train)        \n",
    "        row['accuracies'].append(accuracy(classifier.predict(X_test),y_test))\n",
    "    row['test data size'] = X_test.shape[0]\n",
    "    row['train data size'] = X_train.shape[0]\n",
    "    row['mean accuracy'] = np.mean(row['accuracies'])    \n",
    "    row['accuracy variance'] = np.var(row['accuracies'])\n",
    "    table.append(row)\n",
    "    \n",
    "    \n",
    "    row = {}\n",
    "    row['model'] = 'sklearn logistic regression'\n",
    "    row['trials'] = 100\n",
    "    row['accuracies'] = []\n",
    "    for trial in range(row['trials']):\n",
    "        classifier = LogisticRegression_sklearn() \n",
    "        X_train, y_train, X_test, y_test = split_data(X, y, 0.5)\n",
    "        classifier.fit(X_train, y_train)        \n",
    "        row['accuracies'].append(accuracy(classifier.predict(X_test),y_test))\n",
    "    row['test data size'] = X_test.shape[0]\n",
    "    row['train data size'] = X_train.shape[0]\n",
    "    row['mean accuracy'] = np.mean(row['accuracies'])    \n",
    "    row['accuracy variance'] = np.var(row['accuracies'])\n",
    "    table.append(row)\n",
    "    \n",
    "    row = {}\n",
    "    row['model'] = 'my random forest'\n",
    "    row['trials'] = 5\n",
    "    row['accuracies'] = []\n",
    "    for trial in range(row['trials']):\n",
    "        classifier = RandomForest(10,50,0.4) \n",
    "        X_train, y_train, X_test, y_test = split_data(X, y, 0.5)\n",
    "        classifier.fit(X_train, y_train)        \n",
    "        row['accuracies'].append(accuracy(classifier.predict(X_test)[0],y_test))\n",
    "    row['test data size'] = X_test.shape[0]\n",
    "    row['train data size'] = X_train.shape[0]\n",
    "    row['mean accuracy'] = np.mean(row['accuracies'])    \n",
    "    row['accuracy variance'] = np.var(row['accuracies'])\n",
    "    table.append(row)\n",
    "    \n",
    "\n",
    "    \n",
    "    row = {}\n",
    "    row['model'] = 'sklearn random forest'\n",
    "    row['trials'] = 100\n",
    "    row['accuracies'] = []\n",
    "    for trial in range(row['trials']):\n",
    "        classifier = RandomForest_sklearn()\n",
    "        X_train, y_train, X_test, y_test = split_data(X, y, 0.5)\n",
    "        classifier.fit(X_train, y_train)        \n",
    "        row['accuracies'].append(accuracy(classifier.predict(X_test),y_test))\n",
    "    row['test data size'] = X_test.shape[0]\n",
    "    row['train data size'] = X_train.shape[0]\n",
    "    row['mean accuracy'] = np.mean(row['accuracies'])    \n",
    "    row['accuracy variance'] = np.var(row['accuracies'])\n",
    "    table.append(row)\n",
    "    \n",
    "    \n",
    "    return table\n"
   ]
  },
  {
   "cell_type": "code",
   "execution_count": null,
   "metadata": {
    "collapsed": true
   },
   "outputs": [],
   "source": [
    "table = mean_accuracy(X,y)"
   ]
  },
  {
   "cell_type": "code",
   "execution_count": null,
   "metadata": {},
   "outputs": [],
   "source": [
    "my_df = pd.DataFrame(table)\n",
    "my_df.pop('accuracies')\n",
    "my_df\n"
   ]
  },
  {
   "cell_type": "code",
   "execution_count": null,
   "metadata": {
    "collapsed": true
   },
   "outputs": [],
   "source": []
  }
 ],
 "metadata": {
  "kernelspec": {
   "display_name": "Python 3",
   "language": "python",
   "name": "python3"
  },
  "language_info": {
   "codemirror_mode": {
    "name": "ipython",
    "version": 3
   },
   "file_extension": ".py",
   "mimetype": "text/x-python",
   "name": "python",
   "nbconvert_exporter": "python",
   "pygments_lexer": "ipython3",
   "version": "3.6.1"
  }
 },
 "nbformat": 4,
 "nbformat_minor": 2
}
