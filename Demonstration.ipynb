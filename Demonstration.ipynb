{
 "cells": [
  {
   "cell_type": "code",
   "execution_count": 1,
   "metadata": {
    "collapsed": true
   },
   "outputs": [],
   "source": [
    "from random_forest import RandomForest\n",
    "from logistic_regression import LogisticRegression\n",
    "from decision_tree import DecisionTree\n",
    "from runner import accuracy_score\n",
    "import numpy as np\n"
   ]
  },
  {
   "cell_type": "markdown",
   "metadata": {},
   "source": [
    "# Demonstration"
   ]
  },
  {
   "cell_type": "markdown",
   "metadata": {
    "collapsed": true
   },
   "source": [
    "### Test data"
   ]
  },
  {
   "cell_type": "code",
   "execution_count": 2,
   "metadata": {},
   "outputs": [
    {
     "name": "stdout",
     "output_type": "stream",
     "text": [
      "samples: 267\n",
      "Features: 44\n"
     ]
    }
   ],
   "source": [
    "filename = 'data/SPECTF.dat'\n",
    "data = np.loadtxt(filename, delimiter=',')\n",
    "np.random.shuffle(data)\n",
    "X = data[:, 1:]\n",
    "y = np.array(data[:, 0])\n",
    "n, d = X.shape\n",
    "print(\"samples:\", n)\n",
    "print(\"Features:\",d)"
   ]
  },
  {
   "cell_type": "markdown",
   "metadata": {},
   "source": [
    "#### Divide data into training set and test set"
   ]
  },
  {
   "cell_type": "code",
   "execution_count": 3,
   "metadata": {
    "collapsed": true
   },
   "outputs": [],
   "source": [
    "X_train = X[0:100, :]  # train on first 100 instances\n",
    "X_test = X[100:, :]\n",
    "y_train = y[0:100]  # test on remaining instances\n",
    "y_test = y[100:]"
   ]
  },
  {
   "cell_type": "markdown",
   "metadata": {},
   "source": [
    "#### Data sample"
   ]
  },
  {
   "cell_type": "code",
   "execution_count": 4,
   "metadata": {},
   "outputs": [
    {
     "name": "stdout",
     "output_type": "stream",
     "text": [
      "[ 79.  58.  73.  78.  67.  65.  74.  71.  64.  54.  76.  68.  72.  69.  70.\n",
      "  64.  69.  64.  63.  53.  74.  64.  73.  67.  60.  57.  58.  51.  65.  68.\n",
      "  76.  75.  66.  63.  66.  62.  66.  58.  71.  67.  71.  68.  62.  60.] -> 1.0\n"
     ]
    }
   ],
   "source": [
    "print(X[1], \"->\", y[1])"
   ]
  },
  {
   "cell_type": "markdown",
   "metadata": {},
   "source": [
    "### Decesion tree"
   ]
  },
  {
   "cell_type": "code",
   "execution_count": 5,
   "metadata": {},
   "outputs": [],
   "source": [
    "dt_classifier = DecisionTree(max_tree_depth=6)\n",
    "dt_classifier.fit(X_train,y_train)"
   ]
  },
  {
   "cell_type": "code",
   "execution_count": 6,
   "metadata": {},
   "outputs": [
    {
     "name": "stdout",
     "output_type": "stream",
     "text": [
      "Decesion tree accuracy: 71.9\n"
     ]
    }
   ],
   "source": [
    "print(\"Decesion tree accuracy: %0.1f\" % (100.*accuracy_score(y_test, dt_classifier.predict(X_test))))"
   ]
  },
  {
   "cell_type": "markdown",
   "metadata": {},
   "source": [
    "### Logistic regression"
   ]
  },
  {
   "cell_type": "code",
   "execution_count": 7,
   "metadata": {},
   "outputs": [],
   "source": [
    "lr_classifier = LogisticRegression()\n",
    "lr_classifier.train(X_train, y_train)"
   ]
  },
  {
   "cell_type": "code",
   "execution_count": 8,
   "metadata": {},
   "outputs": [
    {
     "name": "stdout",
     "output_type": "stream",
     "text": [
      "Decesion tree accuracy: 80.2\n"
     ]
    }
   ],
   "source": [
    "print(\"Decesion tree accuracy: %0.1f\" % (100.*accuracy_score(y_test, lr_classifier.predict(X_test))))"
   ]
  },
  {
   "cell_type": "markdown",
   "metadata": {},
   "source": [
    "### Random forest"
   ]
  },
  {
   "cell_type": "code",
   "execution_count": 9,
   "metadata": {},
   "outputs": [],
   "source": [
    "rf_classifier = RandomForest(num_trees=42,max_tree_depth=31,ratio_per_tree=0.46)\n",
    "rf_classifier.fit(X_train, y_train)"
   ]
  },
  {
   "cell_type": "code",
   "execution_count": 10,
   "metadata": {},
   "outputs": [
    {
     "name": "stdout",
     "output_type": "stream",
     "text": [
      "Decesion tree accuracy: 82.6\n"
     ]
    }
   ],
   "source": [
    "print(\"Decesion tree accuracy: %0.1f\" % (100.*accuracy_score(y_test, rf_classifier.predict(X_test))))"
   ]
  },
  {
   "cell_type": "markdown",
   "metadata": {},
   "source": [
    "For better evaluation use ** runner.py **"
   ]
  },
  {
   "cell_type": "code",
   "execution_count": null,
   "metadata": {
    "collapsed": true
   },
   "outputs": [],
   "source": []
  }
 ],
 "metadata": {
  "kernelspec": {
   "display_name": "Python 3",
   "language": "python",
   "name": "python3"
  },
  "language_info": {
   "codemirror_mode": {
    "name": "ipython",
    "version": 3
   },
   "file_extension": ".py",
   "mimetype": "text/x-python",
   "name": "python",
   "nbconvert_exporter": "python",
   "pygments_lexer": "ipython3",
   "version": "3.6.1"
  }
 },
 "nbformat": 4,
 "nbformat_minor": 1
}
