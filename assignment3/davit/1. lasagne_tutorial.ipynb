{
 "cells": [
  {
   "cell_type": "markdown",
   "metadata": {},
   "source": [
    "# lasagne\n",
    "* lasagne is a library for neural network building and training\n",
    "* it's a low-level library with almost seamless integration with theano\n",
    "\n",
    "For a demo we shall solve the same digit recognition problem, but at a different scale\n",
    "* images are now 28x28\n",
    "* 10 different digits\n",
    "* 50k samples"
   ]
  },
  {
   "cell_type": "code",
   "execution_count": 64,
   "metadata": {
    "collapsed": true
   },
   "outputs": [],
   "source": [
    "import numpy as np\n",
    "import theano\n",
    "import theano.tensor as T\n",
    "import matplotlib.pyplot as plt\n",
    "%matplotlib inline"
   ]
  },
  {
   "cell_type": "code",
   "execution_count": 65,
   "metadata": {},
   "outputs": [
    {
     "name": "stdout",
     "output_type": "stream",
     "text": [
      "(50000, 1, 28, 28) (50000,)\n"
     ]
    }
   ],
   "source": [
    "from mnist import load_dataset\n",
    "X_train,y_train,X_val,y_val,X_test,y_test = load_dataset()\n",
    "\n",
    "print(X_train.shape,y_train.shape)"
   ]
  },
  {
   "cell_type": "code",
   "execution_count": 66,
   "metadata": {
    "collapsed": true
   },
   "outputs": [],
   "source": [
    "input_X = T.tensor4(\"X\")\n",
    "\n",
    "#input dimention (None means \"Arbitrary\" and only works at  the first axes [samples])\n",
    "input_shape = [None,1,28,28]\n",
    "\n",
    "target_y = T.vector(\"target Y integer\",dtype='int32')"
   ]
  },
  {
   "cell_type": "markdown",
   "metadata": {},
   "source": [
    "Defining network architecture"
   ]
  },
  {
   "cell_type": "code",
   "execution_count": 67,
   "metadata": {
    "collapsed": true
   },
   "outputs": [],
   "source": [
    "import lasagne\n",
    "from lasagne.layers import *\n",
    "\n",
    "#Input layer (auxilary)\n",
    "# l1 = InputLayer(shape = input_shape,input_var=input_X)\n",
    "\n",
    "# drop = DropoutLayer(l1, p=0.15)\n",
    "# pool1 = MaxPool2DLayer(l1, pool_size=(2, 2))\n",
    "# Conv3DLayer(l1, num_filters=)\n",
    "# layer = Conv2DLayer(pool1, num_filters=15, filter_size=(5, 5), pad='same', nonlinearity=lasagne.nonlinearities.linear)\n",
    "\n",
    "#fully connected layer, that takes input layer and applies 50 neurons to it.\n",
    "# nonlinearity here is sigmoid as in logistic regression\n",
    "# you can give a name to each layer (optional)\n",
    "# l2 = DenseLayer(layer, num_units=196, nonlinearity = lasagne.nonlinearities.elu)\n",
    "\n",
    "# pool2 = MaxPool1DLayer(l2, pool_size=(2, 2))\n",
    "# l3 = BatchNormLayer(l2)\n",
    "# l3 = DropoutLayer(l2, p=0.2)\n",
    "# l3 = DenseLayer(l2, num_units=49, nonlinearity=lasagne.nonlinearities.elu)\n",
    "\n",
    "# l4 = DenseLayer(l3, num_units=50, nonlinearity= lasagne.nonlinearities.elu)\n",
    "\n",
    "# drop = DropoutLayer(l3, p=0.2)\n",
    "# l5 = GaussianNoiseLayer(l4)\n",
    "\n",
    "#fully connected output layer that takes dense_1 as input and has 10 neurons (1 for each digit)\n",
    "#We use softmax nonlinearity to make probabilities add up to 1\n",
    "\n",
    "\n",
    "\n",
    "\n",
    "layer = InputLayer(shape = input_shape,input_var=input_X)\n",
    "\n",
    "layer = Conv2DLayer(layer, num_filters=20, filter_size=(5, 5), nonlinearity=lasagne.nonlinearities.linear)\n",
    "\n",
    "layer = MaxPool2DLayer(layer, pool_size=(2, 2))\n",
    "\n",
    "layer = Conv2DLayer(layer, num_filters=50, filter_size=(5, 5), nonlinearity=lasagne.nonlinearities.linear)\n",
    "\n",
    "layer = MaxPool2DLayer(layer, pool_size=(2, 2))\n",
    "\n",
    "layer = DenseLayer(layer, num_units=500, nonlinearity=lasagne.nonlinearities.rectify)\n",
    "\n",
    "\n",
    "l_out = DenseLayer(layer, num_units = 10, nonlinearity=lasagne.nonlinearities.softmax)\n"
   ]
  },
  {
   "cell_type": "code",
   "execution_count": 68,
   "metadata": {
    "collapsed": true
   },
   "outputs": [],
   "source": [
    "#network prediction (theano-transformation)\n",
    "y_predicted = lasagne.layers.get_output(l_out, deterministic = False)\n",
    "y_testing = lasagne.layers.get_output(l_out, deterministic = True)"
   ]
  },
  {
   "cell_type": "code",
   "execution_count": 69,
   "metadata": {},
   "outputs": [
    {
     "name": "stdout",
     "output_type": "stream",
     "text": [
      "[W, b, W, b, W, b, W, b]\n"
     ]
    }
   ],
   "source": [
    "#all network weights (shared variables)\n",
    "all_weights = lasagne.layers.get_all_params(l_out)\n",
    "print(all_weights)"
   ]
  },
  {
   "cell_type": "markdown",
   "metadata": {},
   "source": [
    "### Than you could simply\n",
    "* define loss function manually\n",
    "* compute error gradient over all weights\n",
    "* define updates\n",
    "* But that's a whole lot of work and life's short\n",
    "  * not to mention life's too short to wait for SGD to converge\n",
    "\n",
    "Instead, we shall use Lasagne builtins"
   ]
  },
  {
   "cell_type": "code",
   "execution_count": 70,
   "metadata": {
    "collapsed": true
   },
   "outputs": [],
   "source": [
    "#Mean categorical crossentropy as a loss function - similar to logistic loss but for multiclass targets\n",
    "loss = lasagne.objectives.categorical_crossentropy(y_predicted,target_y).mean()\n",
    "\n",
    "#prediction accuracy\n",
    "accuracy = lasagne.objectives.categorical_accuracy(y_testing,target_y).mean()\n",
    "\n",
    "#This function computes gradient AND composes weight updates just like you did earlier\n",
    "updates_sgd = lasagne.updates.adadelta(loss, all_weights, learning_rate=0.125)"
   ]
  },
  {
   "cell_type": "code",
   "execution_count": 71,
   "metadata": {},
   "outputs": [],
   "source": [
    "#function that computes loss and updates weights\n",
    "train_fun = theano.function([input_X,target_y],[loss,accuracy],updates= updates_sgd)\n",
    "\n",
    "#function that just computes accuracy\n",
    "accuracy_fun = theano.function([input_X,target_y],accuracy)"
   ]
  },
  {
   "cell_type": "markdown",
   "metadata": {},
   "source": [
    "### That's all, now let's train it!\n",
    "* We got a lot of data, so it's recommended that you use SGD\n",
    "* So let's implement a function that splits the training sample into minibatches"
   ]
  },
  {
   "cell_type": "code",
   "execution_count": 72,
   "metadata": {
    "collapsed": true
   },
   "outputs": [],
   "source": [
    "# An auxilary function that returns mini-batches for neural network training\n",
    "\n",
    "#Parameters\n",
    "# inputs - a tensor of images with shape (many, 1, 28, 28), e.g. X_train\n",
    "# outputs - a vector of answers for corresponding images e.g. Y_train\n",
    "#batch_size - a single number - the intended size of each batches\n",
    "\n",
    "def iterate_minibatches(inputs, targets, batchsize):\n",
    "    assert len(inputs) == len(targets)\n",
    "    indices = np.arange(len(inputs))\n",
    "    np.random.shuffle(indices)\n",
    "    for start_idx in range(0, len(inputs) - batchsize + 1, batchsize):\n",
    "        excerpt = indices[start_idx:start_idx + batchsize]\n",
    "        yield inputs[excerpt], targets[excerpt]"
   ]
  },
  {
   "cell_type": "markdown",
   "metadata": {},
   "source": [
    "# Training loop"
   ]
  },
  {
   "cell_type": "code",
   "execution_count": 77,
   "metadata": {
    "scrolled": true
   },
   "outputs": [
    {
     "name": "stdout",
     "output_type": "stream",
     "text": [
      "Epoch 1 of 1000 took 118.139s\n",
      "  training loss (in-iteration):\t\t0.007225\n",
      "  train accuracy:\t\t99.79 %\n",
      "  validation accuracy:\t\t98.63 %\n",
      "Epoch 2 of 1000 took 143.497s\n",
      "  training loss (in-iteration):\t\t0.009446\n",
      "  train accuracy:\t\t99.69 %\n",
      "  validation accuracy:\t\t98.90 %\n",
      "Epoch 3 of 1000 took 111.579s\n",
      "  training loss (in-iteration):\t\t0.008002\n",
      "  train accuracy:\t\t99.72 %\n",
      "  validation accuracy:\t\t98.73 %\n",
      "Epoch 4 of 1000 took 106.271s\n",
      "  training loss (in-iteration):\t\t0.007021\n",
      "  train accuracy:\t\t99.76 %\n",
      "  validation accuracy:\t\t98.80 %\n",
      "Epoch 5 of 1000 took 106.715s\n",
      "  training loss (in-iteration):\t\t0.003627\n",
      "  train accuracy:\t\t99.88 %\n",
      "  validation accuracy:\t\t98.66 %\n",
      "Epoch 6 of 1000 took 107.852s\n",
      "  training loss (in-iteration):\t\t0.002684\n",
      "  train accuracy:\t\t99.92 %\n",
      "  validation accuracy:\t\t98.67 %\n",
      "Epoch 7 of 1000 took 108.404s\n",
      "  training loss (in-iteration):\t\t0.002223\n",
      "  train accuracy:\t\t99.93 %\n",
      "  validation accuracy:\t\t98.93 %\n",
      "Epoch 8 of 1000 took 109.004s\n",
      "  training loss (in-iteration):\t\t0.001124\n",
      "  train accuracy:\t\t99.97 %\n",
      "  validation accuracy:\t\t98.96 %\n",
      "Epoch 9 of 1000 took 112.787s\n",
      "  training loss (in-iteration):\t\t0.000575\n",
      "  train accuracy:\t\t99.99 %\n",
      "  validation accuracy:\t\t98.93 %\n",
      "Epoch 10 of 1000 took 108.444s\n",
      "  training loss (in-iteration):\t\t0.000245\n",
      "  train accuracy:\t\t100.00 %\n",
      "  validation accuracy:\t\t98.92 %\n",
      "Epoch 11 of 1000 took 107.273s\n",
      "  training loss (in-iteration):\t\t0.000205\n",
      "  train accuracy:\t\t99.99 %\n",
      "  validation accuracy:\t\t98.97 %\n",
      "Epoch 12 of 1000 took 106.795s\n",
      "  training loss (in-iteration):\t\t0.000187\n",
      "  train accuracy:\t\t100.00 %\n",
      "  validation accuracy:\t\t98.95 %\n",
      "Epoch 13 of 1000 took 106.928s\n",
      "  training loss (in-iteration):\t\t0.000147\n",
      "  train accuracy:\t\t100.00 %\n",
      "  validation accuracy:\t\t98.97 %\n",
      "Epoch 14 of 1000 took 107.482s\n",
      "  training loss (in-iteration):\t\t0.000100\n",
      "  train accuracy:\t\t100.00 %\n",
      "  validation accuracy:\t\t98.98 %\n",
      "Epoch 15 of 1000 took 106.875s\n",
      "  training loss (in-iteration):\t\t0.000086\n",
      "  train accuracy:\t\t100.00 %\n",
      "  validation accuracy:\t\t99.01 %\n",
      "Epoch 16 of 1000 took 107.424s\n",
      "  training loss (in-iteration):\t\t0.000082\n",
      "  train accuracy:\t\t100.00 %\n",
      "  validation accuracy:\t\t99.00 %\n",
      "Epoch 17 of 1000 took 107.713s\n",
      "  training loss (in-iteration):\t\t0.000073\n",
      "  train accuracy:\t\t100.00 %\n",
      "  validation accuracy:\t\t99.01 %\n",
      "Epoch 18 of 1000 took 107.109s\n",
      "  training loss (in-iteration):\t\t0.000069\n",
      "  train accuracy:\t\t100.00 %\n",
      "  validation accuracy:\t\t98.97 %\n",
      "Epoch 19 of 1000 took 106.855s\n",
      "  training loss (in-iteration):\t\t0.000065\n",
      "  train accuracy:\t\t100.00 %\n",
      "  validation accuracy:\t\t98.97 %\n",
      "Epoch 20 of 1000 took 106.443s\n",
      "  training loss (in-iteration):\t\t0.000061\n",
      "  train accuracy:\t\t100.00 %\n",
      "  validation accuracy:\t\t98.99 %\n",
      "Epoch 21 of 1000 took 106.787s\n",
      "  training loss (in-iteration):\t\t0.000057\n",
      "  train accuracy:\t\t100.00 %\n",
      "  validation accuracy:\t\t99.00 %\n",
      "Epoch 22 of 1000 took 106.302s\n",
      "  training loss (in-iteration):\t\t0.000054\n",
      "  train accuracy:\t\t100.00 %\n",
      "  validation accuracy:\t\t98.99 %\n",
      "Epoch 23 of 1000 took 107.733s\n",
      "  training loss (in-iteration):\t\t0.000051\n",
      "  train accuracy:\t\t100.00 %\n",
      "  validation accuracy:\t\t98.99 %\n",
      "Epoch 24 of 1000 took 131.890s\n",
      "  training loss (in-iteration):\t\t0.000049\n",
      "  train accuracy:\t\t100.00 %\n",
      "  validation accuracy:\t\t99.01 %\n",
      "Epoch 25 of 1000 took 163.079s\n",
      "  training loss (in-iteration):\t\t0.000048\n",
      "  train accuracy:\t\t100.00 %\n",
      "  validation accuracy:\t\t99.01 %\n",
      "Epoch 26 of 1000 took 136.589s\n",
      "  training loss (in-iteration):\t\t0.000045\n",
      "  train accuracy:\t\t100.00 %\n",
      "  validation accuracy:\t\t98.99 %\n",
      "Epoch 27 of 1000 took 143.594s\n",
      "  training loss (in-iteration):\t\t0.000043\n",
      "  train accuracy:\t\t100.00 %\n",
      "  validation accuracy:\t\t99.00 %\n",
      "Epoch 28 of 1000 took 117.615s\n",
      "  training loss (in-iteration):\t\t0.000042\n",
      "  train accuracy:\t\t100.00 %\n",
      "  validation accuracy:\t\t99.01 %\n",
      "Epoch 29 of 1000 took 193.286s\n",
      "  training loss (in-iteration):\t\t0.000040\n",
      "  train accuracy:\t\t100.00 %\n",
      "  validation accuracy:\t\t99.00 %\n"
     ]
    },
    {
     "ename": "KeyboardInterrupt",
     "evalue": "",
     "output_type": "error",
     "traceback": [
      "\u001b[0;31m---------------------------------------------------------------------------\u001b[0m",
      "\u001b[0;31mKeyboardInterrupt\u001b[0m                         Traceback (most recent call last)",
      "\u001b[0;32m<ipython-input-77-c61130760721>\u001b[0m in \u001b[0;36m<module>\u001b[0;34m()\u001b[0m\n\u001b[1;32m     17\u001b[0m     \u001b[0;32mfor\u001b[0m \u001b[0mbatch\u001b[0m \u001b[0;32min\u001b[0m \u001b[0miterate_minibatches\u001b[0m\u001b[0;34m(\u001b[0m\u001b[0mX_train\u001b[0m\u001b[0;34m,\u001b[0m \u001b[0my_train\u001b[0m\u001b[0;34m,\u001b[0m\u001b[0mbatch_size\u001b[0m\u001b[0;34m)\u001b[0m\u001b[0;34m:\u001b[0m\u001b[0;34m\u001b[0m\u001b[0m\n\u001b[1;32m     18\u001b[0m         \u001b[0minputs\u001b[0m\u001b[0;34m,\u001b[0m \u001b[0mtargets\u001b[0m \u001b[0;34m=\u001b[0m \u001b[0mbatch\u001b[0m\u001b[0;34m\u001b[0m\u001b[0m\n\u001b[0;32m---> 19\u001b[0;31m         \u001b[0mtrain_err_batch\u001b[0m\u001b[0;34m,\u001b[0m \u001b[0mtrain_acc_batch\u001b[0m\u001b[0;34m=\u001b[0m \u001b[0mtrain_fun\u001b[0m\u001b[0;34m(\u001b[0m\u001b[0minputs\u001b[0m\u001b[0;34m,\u001b[0m \u001b[0mtargets\u001b[0m\u001b[0;34m)\u001b[0m\u001b[0;34m\u001b[0m\u001b[0m\n\u001b[0m\u001b[1;32m     20\u001b[0m         \u001b[0mtrain_err\u001b[0m \u001b[0;34m+=\u001b[0m \u001b[0mtrain_err_batch\u001b[0m\u001b[0;34m\u001b[0m\u001b[0m\n\u001b[1;32m     21\u001b[0m         \u001b[0mtrain_acc\u001b[0m \u001b[0;34m+=\u001b[0m \u001b[0mtrain_acc_batch\u001b[0m\u001b[0;34m\u001b[0m\u001b[0m\n",
      "\u001b[0;32m/home/david/miniconda3/lib/python3.6/site-packages/theano/compile/function_module.py\u001b[0m in \u001b[0;36m__call__\u001b[0;34m(self, *args, **kwargs)\u001b[0m\n\u001b[1;32m    882\u001b[0m         \u001b[0;32mtry\u001b[0m\u001b[0;34m:\u001b[0m\u001b[0;34m\u001b[0m\u001b[0m\n\u001b[1;32m    883\u001b[0m             \u001b[0moutputs\u001b[0m \u001b[0;34m=\u001b[0m\u001b[0;31m\\\u001b[0m\u001b[0;34m\u001b[0m\u001b[0m\n\u001b[0;32m--> 884\u001b[0;31m                 \u001b[0mself\u001b[0m\u001b[0;34m.\u001b[0m\u001b[0mfn\u001b[0m\u001b[0;34m(\u001b[0m\u001b[0;34m)\u001b[0m \u001b[0;32mif\u001b[0m \u001b[0moutput_subset\u001b[0m \u001b[0;32mis\u001b[0m \u001b[0;32mNone\u001b[0m \u001b[0;32melse\u001b[0m\u001b[0;31m\\\u001b[0m\u001b[0;34m\u001b[0m\u001b[0m\n\u001b[0m\u001b[1;32m    885\u001b[0m                 \u001b[0mself\u001b[0m\u001b[0;34m.\u001b[0m\u001b[0mfn\u001b[0m\u001b[0;34m(\u001b[0m\u001b[0moutput_subset\u001b[0m\u001b[0;34m=\u001b[0m\u001b[0moutput_subset\u001b[0m\u001b[0;34m)\u001b[0m\u001b[0;34m\u001b[0m\u001b[0m\n\u001b[1;32m    886\u001b[0m         \u001b[0;32mexcept\u001b[0m \u001b[0mException\u001b[0m\u001b[0;34m:\u001b[0m\u001b[0;34m\u001b[0m\u001b[0m\n",
      "\u001b[0;32m/home/david/miniconda3/lib/python3.6/site-packages/theano/gof/op.py\u001b[0m in \u001b[0;36mrval\u001b[0;34m(p, i, o, n)\u001b[0m\n\u001b[1;32m    885\u001b[0m         \u001b[0;32mif\u001b[0m \u001b[0mparams\u001b[0m \u001b[0;32mis\u001b[0m \u001b[0mgraph\u001b[0m\u001b[0;34m.\u001b[0m\u001b[0mNoParams\u001b[0m\u001b[0;34m:\u001b[0m\u001b[0;34m\u001b[0m\u001b[0m\n\u001b[1;32m    886\u001b[0m             \u001b[0;31m# default arguments are stored in the closure of `rval`\u001b[0m\u001b[0;34m\u001b[0m\u001b[0;34m\u001b[0m\u001b[0m\n\u001b[0;32m--> 887\u001b[0;31m             \u001b[0;32mdef\u001b[0m \u001b[0mrval\u001b[0m\u001b[0;34m(\u001b[0m\u001b[0mp\u001b[0m\u001b[0;34m=\u001b[0m\u001b[0mp\u001b[0m\u001b[0;34m,\u001b[0m \u001b[0mi\u001b[0m\u001b[0;34m=\u001b[0m\u001b[0mnode_input_storage\u001b[0m\u001b[0;34m,\u001b[0m \u001b[0mo\u001b[0m\u001b[0;34m=\u001b[0m\u001b[0mnode_output_storage\u001b[0m\u001b[0;34m,\u001b[0m \u001b[0mn\u001b[0m\u001b[0;34m=\u001b[0m\u001b[0mnode\u001b[0m\u001b[0;34m)\u001b[0m\u001b[0;34m:\u001b[0m\u001b[0;34m\u001b[0m\u001b[0m\n\u001b[0m\u001b[1;32m    888\u001b[0m                 \u001b[0mr\u001b[0m \u001b[0;34m=\u001b[0m \u001b[0mp\u001b[0m\u001b[0;34m(\u001b[0m\u001b[0mn\u001b[0m\u001b[0;34m,\u001b[0m \u001b[0;34m[\u001b[0m\u001b[0mx\u001b[0m\u001b[0;34m[\u001b[0m\u001b[0;36m0\u001b[0m\u001b[0;34m]\u001b[0m \u001b[0;32mfor\u001b[0m \u001b[0mx\u001b[0m \u001b[0;32min\u001b[0m \u001b[0mi\u001b[0m\u001b[0;34m]\u001b[0m\u001b[0;34m,\u001b[0m \u001b[0mo\u001b[0m\u001b[0;34m)\u001b[0m\u001b[0;34m\u001b[0m\u001b[0m\n\u001b[1;32m    889\u001b[0m                 \u001b[0;32mfor\u001b[0m \u001b[0mo\u001b[0m \u001b[0;32min\u001b[0m \u001b[0mnode\u001b[0m\u001b[0;34m.\u001b[0m\u001b[0moutputs\u001b[0m\u001b[0;34m:\u001b[0m\u001b[0;34m\u001b[0m\u001b[0m\n",
      "\u001b[0;31mKeyboardInterrupt\u001b[0m: "
     ]
    }
   ],
   "source": [
    "import time\n",
    "\n",
    "num_epochs = 1000 #amount of passes through the data\n",
    "\n",
    "batch_size = 64 #number of samples processed at each function call\n",
    "\n",
    "accuracy_vals = []\n",
    "test_vals = []\n",
    "validation_vals = []\n",
    "\n",
    "for epoch in range(num_epochs):\n",
    "    # In each epoch, we do a full pass over the training data:\n",
    "    train_err = 0\n",
    "    train_acc = 0\n",
    "    train_batches = 0\n",
    "    start_time = time.time()\n",
    "    for batch in iterate_minibatches(X_train, y_train,batch_size):\n",
    "        inputs, targets = batch\n",
    "        train_err_batch, train_acc_batch= train_fun(inputs, targets)\n",
    "        train_err += train_err_batch\n",
    "        train_acc += train_acc_batch\n",
    "        train_batches += 1\n",
    "\n",
    "    # And a full pass over the validation data:\n",
    "    val_acc = 0\n",
    "    val_batches = 0\n",
    "    for batch in iterate_minibatches(X_val, y_val, batch_size):\n",
    "        inputs, targets = batch\n",
    "        val_acc += accuracy_fun(inputs, targets)\n",
    "        val_batches += 1\n",
    "\n",
    "    \n",
    "    # Then we print the results for this epoch:\n",
    "    print(\"Epoch {} of {} took {:.3f}s\".format(\n",
    "        epoch + 1, num_epochs, time.time() - start_time))\n",
    "\n",
    "    print(\"  training loss (in-iteration):\\t\\t{:.6f}\".format(train_err / train_batches))\n",
    "    print(\"  train accuracy:\\t\\t{:.2f} %\".format(\n",
    "        train_acc / train_batches * 100))\n",
    "    print(\"  validation accuracy:\\t\\t{:.2f} %\".format(\n",
    "        val_acc / val_batches * 100))\n",
    "    \n",
    "    accuracy_vals.append(train_err / train_batches)\n",
    "    test_vals.append(train_acc / train_batches * 100)\n",
    "    validation_vals.append(val_acc / val_batches * 100)"
   ]
  },
  {
   "cell_type": "code",
   "execution_count": 78,
   "metadata": {},
   "outputs": [
    {
     "data": {
      "image/png": "[encoded data removed]",
      "text/plain": [
       "<matplotlib.figure.Figure at 0x7f4b79c16400>"
      ]
     },
     "metadata": {},
     "output_type": "display_data"
    }
   ],
   "source": [
    "plt.figure(figsize=(15, 9))\n",
    "plt.plot(accuracy_vals)\n",
    "plt.show()"
   ]
  },
  {
   "cell_type": "code",
   "execution_count": 79,
   "metadata": {},
   "outputs": [
    {
     "data": {
      "image/png": "[encoded data removed]",
      "text/plain": [
       "<matplotlib.figure.Figure at 0x7f4b5e2b3198>"
      ]
     },
     "metadata": {},
     "output_type": "display_data"
    }
   ],
   "source": [
    "plt.figure(figsize=(15, 9))\n",
    "plt.plot(test_vals)\n",
    "plt.plot(validation_vals)\n",
    "plt.show()"
   ]
  },
  {
   "cell_type": "code",
   "execution_count": 80,
   "metadata": {},
   "outputs": [
    {
     "name": "stdout",
     "output_type": "stream",
     "text": [
      "Final results:\n",
      "  test accuracy:\t\t99.05 %\n",
      "Achievement unlocked: 80lvl Warlock!\n"
     ]
    }
   ],
   "source": [
    "test_acc = 0\n",
    "test_batches = 0\n",
    "for batch in iterate_minibatches(X_test, y_test, 500):\n",
    "    inputs, targets = batch\n",
    "    acc = accuracy_fun(inputs, targets)\n",
    "    test_acc += acc\n",
    "    test_batches += 1\n",
    "print(\"Final results:\")\n",
    "print(\"  test accuracy:\\t\\t{:.2f} %\".format(\n",
    "    test_acc / test_batches * 100))\n",
    "\n",
    "if test_acc / test_batches * 100 > 99:\n",
    "    print (\"Achievement unlocked: 80lvl Warlock!\")\n",
    "else:\n",
    "    print (\"We need more magic!\")"
   ]
  },
  {
   "cell_type": "markdown",
   "metadata": {
    "collapsed": true
   },
   "source": [
    "# Now improve it!\n",
    "\n",
    "* Moar layers!\n",
    "* Moar units!\n",
    "* Different nonlinearities!"
   ]
  },
  {
   "cell_type": "markdown",
   "metadata": {
    "collapsed": true
   },
   "source": [
    "I have tried different combinations of layers, sizes, nonlinearities, pooling and best result I got was 98,5 %.\n",
    "Then I tried the lenet architecture, and it achieved 99.05 %"
   ]
  },
  {
   "cell_type": "code",
   "execution_count": null,
   "metadata": {
    "collapsed": true
   },
   "outputs": [],
   "source": []
  }
 ],
 "metadata": {
  "kernelspec": {
   "display_name": "Python 3",
   "language": "python",
   "name": "python3"
  },
  "language_info": {
   "codemirror_mode": {
    "name": "ipython",
    "version": 3
   },
   "file_extension": ".py",
   "mimetype": "text/x-python",
   "name": "python",
   "nbconvert_exporter": "python",
   "pygments_lexer": "ipython3",
   "version": "3.6.0"
  }
 },
 "nbformat": 4,
 "nbformat_minor": 1
}
