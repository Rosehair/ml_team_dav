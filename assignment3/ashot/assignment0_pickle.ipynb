{
 "cells": [
  {
   "cell_type": "code",
   "execution_count": 1,
   "metadata": {},
   "outputs": [
    {
     "name": "stderr",
     "output_type": "stream",
     "text": [
      "/home/ashmat/.miniconda3/lib/python3.6/site-packages/theano/gpuarray/dnn.py:135: UserWarning: Your cuDNN version is more recent than Theano. If you encounter problems, try updating Theano or downgrading cuDNN to version 5.1.\n",
      "  warnings.warn(\"Your cuDNN version is more recent than \"\n",
      "Using cuDNN version 6021 on context None\n",
      "Mapped name None to device cuda0: GeForce GTX 950M (0000:01:00.0)\n"
     ]
    }
   ],
   "source": [
    "import numpy as np\n",
    "import theano\n",
    "import theano.tensor as T\n",
    "import lasagne\n",
    "import pickle\n",
    "import os\n",
    "import matplotlib.pyplot as plt\n",
    "%matplotlib inline\n",
    "import scipy\n",
    "from scipy.misc import imread, imsave, imresize\n",
    "from lasagne.utils import floatX"
   ]
  },
  {
   "cell_type": "code",
   "execution_count": 2,
   "metadata": {
    "collapsed": true
   },
   "outputs": [],
   "source": [
    "def accuracy(p, y):\n",
    "    return len(y[p == y]) / len(y)"
   ]
  },
  {
   "cell_type": "code",
   "execution_count": 9,
   "metadata": {
    "collapsed": true
   },
   "outputs": [],
   "source": [
    "processed_train = open('data/processed_train.pkl','rb')"
   ]
  },
  {
   "cell_type": "code",
   "execution_count": 10,
   "metadata": {
    "collapsed": true,
    "scrolled": false
   },
   "outputs": [],
   "source": [
    "y = []\n",
    "X_list = []\n",
    "X = None\n",
    "sz = 5001\n",
    "i = 0\n",
    "while True:\n",
    "    try:\n",
    "        example = pickle.load(processed_train)\n",
    "    except EOFError:\n",
    "        if len(X_list) >0: \n",
    "            X = np.append(X,np.array(X_list),axis=0)\n",
    "            X_list = []\n",
    "        break\n",
    "    X_list.append(example['X'])\n",
    "    if len(X_list) >= sz: \n",
    "        if X is None:\n",
    "            X = np.array(X_list) \n",
    "        else:\n",
    "            X = np.append(X,np.array(X_list),axis=0)\n",
    "        X_list = []\n",
    "    y.append(example['y'])\n",
    "    i = i+1\n",
    "#     if i%1000 == 0:\n",
    "#         print(i)\n"
   ]
  },
  {
   "cell_type": "code",
   "execution_count": 11,
   "metadata": {
    "collapsed": true
   },
   "outputs": [],
   "source": [
    "y = np.array(y)\n",
    "X = X.reshape(-1,512*7*7)"
   ]
  },
  {
   "cell_type": "code",
   "execution_count": 15,
   "metadata": {
    "collapsed": true
   },
   "outputs": [],
   "source": [
    "perm = np.random.permutation(X.shape[0])\n",
    "X = X[perm]\n",
    "y = y[perm]"
   ]
  },
  {
   "cell_type": "code",
   "execution_count": 16,
   "metadata": {},
   "outputs": [
    {
     "data": {
      "text/plain": [
       "((25000, 25088), (25000,))"
      ]
     },
     "execution_count": 16,
     "metadata": {},
     "output_type": "execute_result"
    }
   ],
   "source": [
    "X.shape, y.shape"
   ]
  },
  {
   "cell_type": "code",
   "execution_count": 20,
   "metadata": {
    "collapsed": true
   },
   "outputs": [],
   "source": [
    "pickle.dump((X,y), open('data/train_ndarray.pkl','wb'))"
   ]
  },
  {
   "cell_type": "code",
   "execution_count": 26,
   "metadata": {
    "collapsed": true
   },
   "outputs": [],
   "source": [
    "processed_test = open('data/processed_test.pkl','rb')"
   ]
  },
  {
   "cell_type": "code",
   "execution_count": 27,
   "metadata": {
    "collapsed": true
   },
   "outputs": [],
   "source": [
    "X_list = []\n",
    "yi = []\n",
    "X = None\n",
    "sz = 5001\n",
    "i = 0\n",
    "while True:\n",
    "    try:\n",
    "        example = pickle.load(processed_test)\n",
    "    except EOFError:\n",
    "        if len(X_list) >0: \n",
    "            X = np.append(X,np.array(X_list),axis=0)\n",
    "            X_list = []\n",
    "        break\n",
    "    X_list.append(example['X'])\n",
    "    if len(X_list) >= sz: \n",
    "        if X is None:\n",
    "            X = np.array(X_list) \n",
    "        else:\n",
    "            X = np.append(X,np.array(X_list),axis=0)\n",
    "        X_list = []\n",
    "    i = i+1\n",
    "    yi.append(example['id'])\n",
    "#     if i%1000 == 0:\n",
    "#         print(i)"
   ]
  },
  {
   "cell_type": "code",
   "execution_count": 28,
   "metadata": {
    "collapsed": true
   },
   "outputs": [],
   "source": [
    "yi = np.array(yi)\n",
    "X = X.reshape(-1,512*7*7)"
   ]
  },
  {
   "cell_type": "code",
   "execution_count": 29,
   "metadata": {},
   "outputs": [
    {
     "data": {
      "text/plain": [
       "((12500, 25088), (25000,))"
      ]
     },
     "execution_count": 29,
     "metadata": {},
     "output_type": "execute_result"
    }
   ],
   "source": [
    "X.shape, y.shape"
   ]
  },
  {
   "cell_type": "code",
   "execution_count": 30,
   "metadata": {
    "collapsed": true
   },
   "outputs": [],
   "source": [
    "pickle.dump((X,y), open('data/test_ndarray.pkl','wb'))"
   ]
  }
 ],
 "metadata": {
  "kernelspec": {
   "display_name": "Python 3",
   "language": "python",
   "name": "python3"
  },
  "language_info": {
   "codemirror_mode": {
    "name": "ipython",
    "version": 3
   },
   "file_extension": ".py",
   "mimetype": "text/x-python",
   "name": "python",
   "nbconvert_exporter": "python",
   "pygments_lexer": "ipython3",
   "version": "3.6.1"
  }
 },
 "nbformat": 4,
 "nbformat_minor": 1
}
