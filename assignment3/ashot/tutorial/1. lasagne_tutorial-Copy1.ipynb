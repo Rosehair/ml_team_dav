{
 "cells": [
  {
   "cell_type": "code",
   "execution_count": 1,
   "metadata": {
    "collapsed": true
   },
   "outputs": [],
   "source": [
    "import numpy as np\n",
    "import theano\n",
    "import theano.tensor as T\n",
    "from IPython import display\n",
    "\n",
    "import matplotlib.pyplot as plt\n",
    "import matplotlib\n",
    "# %matplotlib inline\n",
    "matplotlib.style.use('ggplot')"
   ]
  },
  {
   "cell_type": "code",
   "execution_count": 2,
   "metadata": {},
   "outputs": [
    {
     "data": {
      "image/png": "[encoded data removed]",
      "text/plain": [
       "<matplotlib.figure.Figure at 0x7fc816d5bdd8>"
      ]
     },
     "metadata": {},
     "output_type": "display_data"
    },
    {
     "name": "stdout",
     "output_type": "stream",
     "text": [
      "(24, 18)\n"
     ]
    },
    {
     "data": {
      "image/png": "[encoded data removed]",
      "text/plain": [
       "<matplotlib.figure.Figure at 0x7fc814dc68d0>"
      ]
     },
     "metadata": {},
     "output_type": "display_data"
    },
    {
     "name": "stdout",
     "output_type": "stream",
     "text": [
      "Training (50000, 1, 24, 18) (50000,)\n",
      "Validation (10000, 1, 24, 18) (10000,)\n",
      "Test (10000, 1, 24, 18) (10000,)\n"
     ]
    }
   ],
   "source": [
    "from mnist import load_dataset\n",
    "X_train,y_train,X_val,y_val,X_test,y_test = load_dataset()\n",
    "# X_test = X_test[:,0,...]\n",
    "# X_train = X_train[:,0,...]\n",
    "# X_val = X_val[:,0,...]\n",
    "\n",
    "# X_train = X_train.reshape(X_train.shape[0],-1)\n",
    "# X_val = X_val.reshape(X_val.shape[0],-1)\n",
    "# X_test = X_test.reshape(X_test.shape[0],-1)\n",
    "\n",
    "hot_points = np.std(X_train[:,0,...],axis=0)\n",
    "plt.imshow(hot_points, cmap='Greys')\n",
    "plt.show()\n",
    "H = np.arange(2,26)\n",
    "W = np.arange(5,23)\n",
    "print(hot_points[H][:,W].shape)\n",
    "plt.imshow(hot_points[H][:,W], cmap='Greys')\n",
    "plt.show()\n",
    "\n",
    "X_test = X_test[...,H,:][...,W]\n",
    "X_train = X_train[...,H,:][...,W]\n",
    "X_val = X_val[...,H,:][...,W]\n",
    "\n",
    "print('Training', X_train.shape, y_train.shape)\n",
    "print('Validation', X_val.shape, y_val.shape)\n",
    "print('Test', X_test.shape, y_test.shape)"
   ]
  },
  {
   "cell_type": "markdown",
   "metadata": {},
   "source": [
    "### Save weights"
   ]
  },
  {
   "cell_type": "code",
   "execution_count": 3,
   "metadata": {
    "collapsed": true
   },
   "outputs": [],
   "source": [
    "all_weights_saved = []\n",
    "\n",
    "def save_weights(all_weights):\n",
    "    global all_weights_saved\n",
    "    all_weights_saved = []\n",
    "    for weight in all_weights:\n",
    "        all_weights_saved.append(weight.get_value())\n",
    "\n",
    "def restore_weights(all_weights):\n",
    "    global all_weights_saved\n",
    "    assert len(all_weights) == len(all_weights_saved)\n",
    "    for weight, weight_saved in zip(all_weights, all_weights_saved):\n",
    "        weight.set_value(weight_saved)"
   ]
  },
  {
   "cell_type": "code",
   "execution_count": 4,
   "metadata": {},
   "outputs": [
    {
     "name": "stdout",
     "output_type": "stream",
     "text": [
      "Training (50000, 1, 24, 18) (50000,)\n",
      "Validation (10000, 1, 24, 18) (10000,)\n",
      "Test (10000, 1, 24, 18) (10000,)\n"
     ]
    }
   ],
   "source": [
    "print('Training', X_train.shape, y_train.shape)\n",
    "print('Validation', X_val.shape, y_val.shape)\n",
    "print('Test', X_test.shape, y_test.shape)"
   ]
  },
  {
   "cell_type": "markdown",
   "metadata": {},
   "source": [
    "### Building network"
   ]
  },
  {
   "cell_type": "code",
   "execution_count": 5,
   "metadata": {},
   "outputs": [
    {
     "name": "stdout",
     "output_type": "stream",
     "text": [
      "[None, 1, 24, 18]\n"
     ]
    }
   ],
   "source": [
    "input_X = T.tensor4('X')\n",
    "input_shape = [None]\n",
    "input_shape.extend(X_train.shape[1:])\n",
    "print(input_shape)\n",
    "target_y = T.vector(\"target Y integer\",dtype='int32')"
   ]
  },
  {
   "cell_type": "code",
   "execution_count": 6,
   "metadata": {},
   "outputs": [
    {
     "name": "stdout",
     "output_type": "stream",
     "text": [
      "(None, 1, 24, 18) -> (None, 1, 12, 9)\n",
      "(None, 1, 12, 9) -> (None, 20, 12, 9)\n",
      "(None, 20, 12, 9) -> (None, 20, 6, 4)\n",
      "(None, 20, 6, 4) -> (None, 10, 6, 4)\n",
      "(None, 10, 6, 4) -> (None, 10, 6, 4)\n",
      "(None, 10, 6, 4) -> (None, 100)\n",
      "(None, 100) -> (None, 10)\n"
     ]
    }
   ],
   "source": [
    "import lasagne\n",
    "from lasagne.layers import *\n",
    "\n",
    "layer = InputLayer(shape = input_shape,input_var=input_X)\n",
    "\n",
    "layer = MaxPool2DLayer(layer, (2,2))\n",
    "print(layer.input_shape, '->',layer.output_shape)\n",
    "\n",
    "layer = Conv2DLayer(layer, num_filters=20, filter_size=(7,5), pad='same', nonlinearity=lasagne.nonlinearities.linear)\n",
    "print(layer.input_shape, '->',layer.output_shape)\n",
    "\n",
    "\n",
    "# layer = Conv2DLayer(layer, num_filters=20, filter_size=(7,5), pad='same', nonlinearity=lasagne.nonlinearities.linear)\n",
    "# print(layer.input_shape, '->',layer.output_shape)\n",
    "\n",
    "\n",
    "layer = MaxPool2DLayer(layer, (2,2))\n",
    "print(layer.input_shape, '->',layer.output_shape)\n",
    "\n",
    "layer = Conv2DLayer(layer, num_filters=10, filter_size=(3,3), pad='same', nonlinearity=lasagne.nonlinearities.linear)\n",
    "print(layer.input_shape, '->',layer.output_shape)\n",
    "\n",
    "# layer = Conv2DLayer(layer, num_filters=1, filter_size=(3,3))\n",
    "\n",
    "layer = DropoutLayer(layer, p=0.6)\n",
    "print(layer.input_shape, '->',layer.output_shape)\n",
    "\n",
    "layer = DenseLayer(layer, num_units=100, nonlinearity=lasagne.nonlinearities.elu)\n",
    "print(layer.input_shape, '->',layer.output_shape)\n",
    "\n",
    "l_out = DenseLayer(layer,num_units = 10,nonlinearity=lasagne.nonlinearities.softmax)\n",
    "print(l_out.input_shape, '->',l_out.output_shape)\n"
   ]
  },
  {
   "cell_type": "code",
   "execution_count": 7,
   "metadata": {},
   "outputs": [
    {
     "name": "stdout",
     "output_type": "stream",
     "text": [
      "[W, b, W, b, W, b, W, b]\n"
     ]
    }
   ],
   "source": [
    "y_predicted = lasagne.layers.get_output(l_out)\n",
    "y_test_predicted = lasagne.layers.get_output(l_out, deterministic=True)\n",
    "\n",
    "all_weights = lasagne.layers.get_all_params(l_out)\n",
    "print(all_weights)\n",
    "loss = lasagne.objectives.categorical_crossentropy(y_predicted,target_y).mean()\n",
    "accuracy = lasagne.objectives.categorical_accuracy(y_test_predicted,target_y).mean()\n",
    "updates_sgd = lasagne.updates.adadelta(loss, all_weights,learning_rate=0.5,rho=0.8)\n",
    "train_fun = theano.function([input_X,target_y],[loss,accuracy],updates= updates_sgd)\n",
    "accuracy_fun = theano.function([input_X,target_y],accuracy)"
   ]
  },
  {
   "cell_type": "code",
   "execution_count": 8,
   "metadata": {
    "collapsed": true
   },
   "outputs": [],
   "source": [
    "def iterate_minibatches(inputs, targets, batchsize):\n",
    "    assert len(inputs) == len(targets)\n",
    "    indices = np.arange(len(inputs))\n",
    "    np.random.shuffle(indices)\n",
    "    for start_idx in range(0, len(inputs) - batchsize + 1, batchsize):\n",
    "        excerpt = indices[start_idx:start_idx + batchsize]\n",
    "        yield inputs[excerpt], targets[excerpt]"
   ]
  },
  {
   "cell_type": "markdown",
   "metadata": {},
   "source": [
    "## Load reserved weights"
   ]
  },
  {
   "cell_type": "code",
   "execution_count": 11,
   "metadata": {
    "collapsed": true
   },
   "outputs": [],
   "source": [
    "import pickle\n",
    "with open('weights_1432687', 'rb') as input_stream:\n",
    "    saved_params = pickle.load(input_stream)\n",
    "    for saved_param, param in zip(saved_params, all_weights):\n",
    "        param.set_value(saved_param)\n"
   ]
  },
  {
   "cell_type": "code",
   "execution_count": null,
   "metadata": {
    "collapsed": true
   },
   "outputs": [],
   "source": []
  },
  {
   "cell_type": "markdown",
   "metadata": {},
   "source": [
    "# Training loop"
   ]
  },
  {
   "cell_type": "code",
   "execution_count": null,
   "metadata": {
    "collapsed": true
   },
   "outputs": [],
   "source": [
    "loss_history = []\n",
    "val_acc_history = []\n",
    "train_acc_history = []"
   ]
  },
  {
   "cell_type": "code",
   "execution_count": null,
   "metadata": {
    "collapsed": true
   },
   "outputs": [],
   "source": [
    "mas = 0.9\n",
    "loss_history = loss_history[int(len(loss_history) * mas):]\n",
    "val_acc_history = val_acc_history[int(len(val_acc_history) * mas):]\n",
    "train_acc_history = train_acc_history[int(len(train_acc_history) * mas):]"
   ]
  },
  {
   "cell_type": "code",
   "execution_count": null,
   "metadata": {
    "collapsed": true
   },
   "outputs": [],
   "source": [
    "import time\n",
    "\n",
    "num_epochs = 1000 #amount of passes through the data\n",
    "\n",
    "batch_size = 300 #number of samples processed at each function call\n",
    "\n",
    "for epoch in range(num_epochs):\n",
    "    # In each epoch, we do a full pass over the training data:\n",
    "    train_err = 0\n",
    "    train_acc = 0\n",
    "    train_batches = 0\n",
    "    start_time = time.time()\n",
    "    for batch in iterate_minibatches(X_train, y_train,batch_size):\n",
    "        inputs, targets = batch\n",
    "        train_err_batch, train_acc_batch= train_fun(inputs, targets)\n",
    "        train_err += train_err_batch\n",
    "        train_acc += train_acc_batch\n",
    "        train_batches += 1\n",
    "\n",
    "    # And a full pass over the validation data:\n",
    "    val_acc = 0\n",
    "    val_batches = 0\n",
    "    for batch in iterate_minibatches(X_val, y_val, batch_size):\n",
    "        inputs, targets = batch\n",
    "        val_acc += accuracy_fun(inputs, targets)\n",
    "        val_batches += 1\n",
    "\n",
    "    \n",
    "    loss = train_err / train_batches\n",
    "    val_acc = val_acc / val_batches * 100\n",
    "    train_acc = train_acc / train_batches * 100\n",
    "    loss_history.append(loss)\n",
    "    train_acc_history.append(train_acc)\n",
    "    val_acc_history.append(val_acc)\n",
    "    \n",
    "#     print('Current loss: %f' % loss)   \n",
    "    # Then we print the results for this epoch:\n",
    "    if epoch % 1 == 0:\n",
    "        display.clear_output(wait=True)\n",
    "\n",
    "        print(\"Epoch {} of {} took {:.3f}s\".format(\n",
    "            epoch + 1, num_epochs, time.time() - start_time))\n",
    "        print(\"  training loss (in-iteration):\\t\\t{:.6f}\".format(loss))\n",
    "        print(\"  train accuracy:\\t\\t{:.2f} %\".format(train_acc))\n",
    "        print(\"  validation accuracy:\\t\\t{:.2f} %\".format(val_acc))\n",
    "        plt.figure(figsize=(8, 6))\n",
    "        plt.title(\"Training loss\")\n",
    "        plt.xlabel(\"#iteration\")\n",
    "        plt.ylabel(\"loss\")\n",
    "        plt.plot(loss_history, 'b')\n",
    "        plt.figure(figsize=(8, 6))\n",
    "        plt.title(\"Training accuracy\")\n",
    "        plt.xlabel(\"#iteration\")\n",
    "        plt.ylabel(\"loss\")\n",
    "        plt.plot(train_acc_history, 'r')\n",
    "        plt.plot(val_acc_history, 'g')\n",
    "        \n",
    "        plt.show()"
   ]
  },
  {
   "cell_type": "code",
   "execution_count": null,
   "metadata": {
    "collapsed": true
   },
   "outputs": [],
   "source": [
    "save_weights(all_weights)"
   ]
  },
  {
   "cell_type": "code",
   "execution_count": 12,
   "metadata": {},
   "outputs": [
    {
     "name": "stdout",
     "output_type": "stream",
     "text": [
      "validation accuracy:\t\t98.84 %\n"
     ]
    }
   ],
   "source": [
    "val_acc = 0\n",
    "val_batches = 0\n",
    "for batch in iterate_minibatches(X_val, y_val, 500):\n",
    "    inputs, targets = batch\n",
    "    acc = accuracy_fun(inputs, targets)\n",
    "    val_acc += acc\n",
    "    val_batches += 1\n",
    "print(\"validation accuracy:\\t\\t{:.2f} %\".format(\n",
    "    val_acc / val_batches * 100))"
   ]
  },
  {
   "cell_type": "code",
   "execution_count": 14,
   "metadata": {},
   "outputs": [
    {
     "name": "stdout",
     "output_type": "stream",
     "text": [
      "Final results:\n",
      "  test accuracy:\t\t98.94 %\n",
      "We need more magic!\n"
     ]
    }
   ],
   "source": [
    "test_acc = 0\n",
    "test_batches = 0\n",
    "for batch in iterate_minibatches(X_test, y_test, 500):\n",
    "    inputs, targets = batch\n",
    "    acc = accuracy_fun(inputs, targets)\n",
    "    test_acc += acc\n",
    "    test_batches += 1\n",
    "print(\"Final results:\")\n",
    "print(\"  test accuracy:\\t\\t{:.2f} %\".format(\n",
    "    test_acc / test_batches * 100))\n",
    "\n",
    "if test_acc / test_batches * 100 > 99:\n",
    "    print (\"Achievement unlocked: 80lvl Warlock!\")\n",
    "else:\n",
    "    print (\"We need more magic!\")"
   ]
  },
  {
   "cell_type": "code",
   "execution_count": 13,
   "metadata": {},
   "outputs": [
    {
     "ename": "AssertionError",
     "evalue": "",
     "output_type": "error",
     "traceback": [
      "\u001b[0;31m---------------------------------------------------------------------------\u001b[0m",
      "\u001b[0;31mAssertionError\u001b[0m                            Traceback (most recent call last)",
      "\u001b[0;32m<ipython-input-13-c087698d021a>\u001b[0m in \u001b[0;36m<module>\u001b[0;34m()\u001b[0m\n\u001b[0;32m----> 1\u001b[0;31m \u001b[0mrestore_weights\u001b[0m\u001b[0;34m(\u001b[0m\u001b[0mall_weights\u001b[0m\u001b[0;34m)\u001b[0m\u001b[0;34m\u001b[0m\u001b[0m\n\u001b[0m",
      "\u001b[0;32m<ipython-input-3-c82be7da504f>\u001b[0m in \u001b[0;36mrestore_weights\u001b[0;34m(all_weights)\u001b[0m\n\u001b[1;32m      9\u001b[0m \u001b[0;32mdef\u001b[0m \u001b[0mrestore_weights\u001b[0m\u001b[0;34m(\u001b[0m\u001b[0mall_weights\u001b[0m\u001b[0;34m)\u001b[0m\u001b[0;34m:\u001b[0m\u001b[0;34m\u001b[0m\u001b[0m\n\u001b[1;32m     10\u001b[0m     \u001b[0;32mglobal\u001b[0m \u001b[0mall_weights_saved\u001b[0m\u001b[0;34m\u001b[0m\u001b[0m\n\u001b[0;32m---> 11\u001b[0;31m     \u001b[0;32massert\u001b[0m \u001b[0mlen\u001b[0m\u001b[0;34m(\u001b[0m\u001b[0mall_weights\u001b[0m\u001b[0;34m)\u001b[0m \u001b[0;34m==\u001b[0m \u001b[0mlen\u001b[0m\u001b[0;34m(\u001b[0m\u001b[0mall_weights_saved\u001b[0m\u001b[0;34m)\u001b[0m\u001b[0;34m\u001b[0m\u001b[0m\n\u001b[0m\u001b[1;32m     12\u001b[0m     \u001b[0;32mfor\u001b[0m \u001b[0mweight\u001b[0m\u001b[0;34m,\u001b[0m \u001b[0mweight_saved\u001b[0m \u001b[0;32min\u001b[0m \u001b[0mzip\u001b[0m\u001b[0;34m(\u001b[0m\u001b[0mall_weights\u001b[0m\u001b[0;34m,\u001b[0m \u001b[0mall_weights_saved\u001b[0m\u001b[0;34m)\u001b[0m\u001b[0;34m:\u001b[0m\u001b[0;34m\u001b[0m\u001b[0m\n\u001b[1;32m     13\u001b[0m         \u001b[0mweight\u001b[0m\u001b[0;34m.\u001b[0m\u001b[0mset_value\u001b[0m\u001b[0;34m(\u001b[0m\u001b[0mweight_saved\u001b[0m\u001b[0;34m)\u001b[0m\u001b[0;34m\u001b[0m\u001b[0m\n",
      "\u001b[0;31mAssertionError\u001b[0m: "
     ]
    }
   ],
   "source": [
    "restore_weights(all_weights)"
   ]
  },
  {
   "cell_type": "code",
   "execution_count": null,
   "metadata": {
    "collapsed": true
   },
   "outputs": [],
   "source": [
    "for i,j in zip([0,1,2,3,4,5],[0,1,2,3,4,5]):\n",
    "    all_weights[i].set_value(all_weights_saved[j])"
   ]
  },
  {
   "cell_type": "code",
   "execution_count": null,
   "metadata": {
    "collapsed": true
   },
   "outputs": [],
   "source": [
    "all_weights[0].set_value(all_weights_saved[0])\n",
    "all_weights[1].set_value(all_weights_saved[1])\n",
    "all_weights[2].set_value(all_weights_saved[2])\n",
    "all_weights[3].set_value(all_weights_saved[3])"
   ]
  },
  {
   "cell_type": "code",
   "execution_count": null,
   "metadata": {
    "collapsed": true
   },
   "outputs": [],
   "source": [
    "all_weights_saved_3 = all_weights_saved.copy"
   ]
  },
  {
   "cell_type": "code",
   "execution_count": null,
   "metadata": {
    "collapsed": true
   },
   "outputs": [],
   "source": [
    "all_weights[4].get_value(), all_weights_saved[3]"
   ]
  },
  {
   "cell_type": "code",
   "execution_count": null,
   "metadata": {
    "collapsed": true
   },
   "outputs": [],
   "source": [
    "import pickle"
   ]
  },
  {
   "cell_type": "code",
   "execution_count": null,
   "metadata": {
    "collapsed": true
   },
   "outputs": [],
   "source": [
    "with open('weights_1432687','wb') as output_stream:\n",
    "    add_to_file = []\n",
    "    for param in all_weights:\n",
    "        add_to_file.append(param.get_value())\n",
    "    pickle.dump(add_to_file, output_stream, -1)"
   ]
  },
  {
   "cell_type": "code",
   "execution_count": null,
   "metadata": {
    "collapsed": true
   },
   "outputs": [],
   "source": []
  }
 ],
 "metadata": {
  "kernelspec": {
   "display_name": "Python 3",
   "language": "python",
   "name": "python3"
  },
  "language_info": {
   "codemirror_mode": {
    "name": "ipython",
    "version": 3
   },
   "file_extension": ".py",
   "mimetype": "text/x-python",
   "name": "python",
   "nbconvert_exporter": "python",
   "pygments_lexer": "ipython3",
   "version": "3.6.1"
  }
 },
 "nbformat": 4,
 "nbformat_minor": 1
}
