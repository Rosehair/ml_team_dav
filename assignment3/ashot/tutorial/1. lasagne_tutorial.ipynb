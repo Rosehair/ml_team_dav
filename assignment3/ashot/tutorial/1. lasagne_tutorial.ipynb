{
 "cells": [
  {
   "cell_type": "code",
   "execution_count": 3,
   "metadata": {},
   "outputs": [],
   "source": [
    "import numpy as np\n",
    "import theano\n",
    "import theano.tensor as T\n",
    "import pickle\n",
    "\n",
    "from mnist import load_dataset\n",
    "\n",
    "from IPython import display\n",
    "\n",
    "import matplotlib.pyplot as plt\n",
    "import matplotlib\n",
    "# %matplotlib inline\n",
    "matplotlib.style.use('ggplot')"
   ]
  },
  {
   "cell_type": "code",
   "execution_count": 4,
   "metadata": {},
   "outputs": [
    {
     "data": {
      "image/png": "[encoded data removed]",
      "text/plain": [
       "<matplotlib.figure.Figure at 0x7fdf4a11be80>"
      ]
     },
     "metadata": {},
     "output_type": "display_data"
    },
    {
     "name": "stdout",
     "output_type": "stream",
     "text": [
      "(26, 22)\n"
     ]
    },
    {
     "data": {
      "image/png": "[encoded data removed]",
      "text/plain": [
       "<matplotlib.figure.Figure at 0x7fdf477a7128>"
      ]
     },
     "metadata": {},
     "output_type": "display_data"
    },
    {
     "name": "stdout",
     "output_type": "stream",
     "text": [
      "Training (50000, 1, 26, 22) (50000,)\n",
      "Validation (10000, 1, 26, 22) (10000,)\n",
      "Test (10000, 1, 26, 22) (10000,)\n"
     ]
    }
   ],
   "source": [
    "X_train,y_train,X_val,y_val,X_test,y_test = load_dataset()\n",
    "\n",
    "hot_points = np.std(X_train[:,0,...],axis=0)\n",
    "plt.imshow(hot_points, cmap='Greys')\n",
    "plt.show()\n",
    "H = np.arange(1, 27)\n",
    "W = np.arange(3, 25)\n",
    "print(hot_points[H][:,W].shape)\n",
    "plt.imshow(hot_points[H][:,W], cmap='Greys')\n",
    "plt.show()\n",
    "\n",
    "X_test = X_test[..., H, :][..., W]\n",
    "X_train = X_train[..., H, :][..., W]\n",
    "X_val = X_val[..., H, :][..., W]\n",
    "\n",
    "print('Training', X_train.shape, y_train.shape)\n",
    "print('Validation', X_val.shape, y_val.shape)\n",
    "print('Test', X_test.shape, y_test.shape)"
   ]
  },
  {
   "cell_type": "markdown",
   "metadata": {},
   "source": [
    "### Save weights"
   ]
  },
  {
   "cell_type": "code",
   "execution_count": 10,
   "metadata": {
    "collapsed": true
   },
   "outputs": [],
   "source": [
    "__code__ = str(54216786)\n",
    "\n",
    "__file_path__ = './params_' + __code__"
   ]
  },
  {
   "cell_type": "code",
   "execution_count": 9,
   "metadata": {
    "collapsed": true
   },
   "outputs": [],
   "source": [
    "def dump():\n",
    "    saved_parameters = []\n",
    "    for parameter in parameters:\n",
    "        saved_parameters.append(parameter.get_value())\n",
    "    save = ((loss_history,train_acc_history,val_acc_history),\n",
    "            saved_parameters,\n",
    "            epoch)\n",
    "    with open(__file_path__, 'wb') as output_stream:\n",
    "        pickle.dump(save, output_stream, -1)\n",
    "        \n",
    "def save_weights(all_weights):\n",
    "    global all_weights_saved\n",
    "    all_weights_saved = []\n",
    "    for weight in all_weights:\n",
    "        all_weights_saved.append(weight.get_value())\n",
    "\n",
    "def restore_weights(all_weights):\n",
    "    global all_weights_saved\n",
    "    assert len(all_weights) == len(all_weights_saved)\n",
    "    for weight, weight_saved in zip(all_weights, all_weights_saved):\n",
    "        weight.set_value(weight_saved)"
   ]
  },
  {
   "cell_type": "code",
   "execution_count": 4,
   "metadata": {},
   "outputs": [
    {
     "name": "stdout",
     "output_type": "stream",
     "text": [
      "Training (50000, 1, 24, 18) (50000,)\n",
      "Validation (10000, 1, 24, 18) (10000,)\n",
      "Test (10000, 1, 24, 18) (10000,)\n"
     ]
    }
   ],
   "source": [
    "print('Training', X_train.shape, y_train.shape)\n",
    "print('Validation', X_val.shape, y_val.shape)\n",
    "print('Test', X_test.shape, y_test.shape)"
   ]
  },
  {
   "cell_type": "markdown",
   "metadata": {},
   "source": [
    "### Building network"
   ]
  },
  {
   "cell_type": "code",
   "execution_count": 5,
   "metadata": {},
   "outputs": [
    {
     "name": "stdout",
     "output_type": "stream",
     "text": [
      "[None, 1, 26, 22]\n"
     ]
    }
   ],
   "source": [
    "input_X = T.tensor4('X')\n",
    "input_shape = [None]\n",
    "input_shape.extend(X_train.shape[1:])\n",
    "print(input_shape)\n",
    "target_y = T.vector(\"target Y integer\",dtype='int32')\n"
   ]
  },
  {
   "cell_type": "code",
   "execution_count": 6,
   "metadata": {},
   "outputs": [],
   "source": [
    "import lasagne\n",
    "from lasagne.layers import *\n",
    "\n",
    "layer = InputLayer(shape = input_shape,input_var=input_X)\n",
    "layer = Conv2DLayer(layer, num_filters=34, filter_size=(5, 5), pad='same', nonlinearity=lasagne.nonlinearities.rectify)\n",
    "layer = MaxPool2DLayer(layer, (2,2))\n",
    "layer = Conv2DLayer(layer, num_filters=31, filter_size=(5, 5), pad='same', nonlinearity=lasagne.nonlinearities.rectify)\n",
    "layer = MaxPool2DLayer(layer, (2,2))\n",
    "layer = DropoutLayer(layer, p=0.5)\n",
    "layer = DenseLayer(layer, num_units=911, nonlinearity=lasagne.nonlinearities.rectify)\n",
    "layer = DropoutLayer(layer, p=0.3)\n",
    "\n",
    "layer = DenseLayer(layer,num_units = 10,nonlinearity=lasagne.nonlinearities.softmax)\n"
   ]
  },
  {
   "cell_type": "code",
   "execution_count": 7,
   "metadata": {},
   "outputs": [],
   "source": [
    "y_predicted = lasagne.layers.get_output(layer)\n",
    "y_test_predicted = lasagne.layers.get_output(layer, deterministic=True)\n",
    "parameters = lasagne.layers.get_all_params(layer)\n",
    "loss = lasagne.objectives.categorical_crossentropy(y_predicted,target_y).mean()\n",
    "accuracy = lasagne.objectives.categorical_accuracy(y_test_predicted,target_y).mean()\n",
    "updates_sgd = lasagne.updates.nesterov_momentum(loss, parameters, learning_rate=0.09,momentum=0.82)\n",
    "train_fun = theano.function([input_X,target_y],[loss,accuracy],updates= updates_sgd)\n",
    "accuracy_fun = theano.function([input_X,target_y],accuracy)\n"
   ]
  },
  {
   "cell_type": "code",
   "execution_count": 8,
   "metadata": {
    "collapsed": true
   },
   "outputs": [],
   "source": [
    "def iterate_minibatches(inputs, targets, batchsize):\n",
    "    assert len(inputs) == len(targets)\n",
    "    indices = np.arange(len(inputs))\n",
    "    np.random.shuffle(indices)\n",
    "    for start_idx in range(0, len(inputs) - batchsize + 1, batchsize):\n",
    "        excerpt = indices[start_idx:start_idx + batchsize]\n",
    "        yield inputs[excerpt], targets[excerpt]"
   ]
  },
  {
   "cell_type": "markdown",
   "metadata": {},
   "source": [
    "## Load reserved weights"
   ]
  },
  {
   "cell_type": "code",
   "execution_count": 11,
   "metadata": {
    "collapsed": true
   },
   "outputs": [],
   "source": [
    "with open(__file_path__, 'rb') as input_stream:\n",
    "    history, saved_parameters, epoch = pickle.load(input_stream)\n",
    "    for saved_parameter, parameter in zip(saved_parameters, parameters):\n",
    "        parameter.set_value(np.array(saved_parameter,dtype='float32'))\n",
    "    last_saved_epoch = epoch"
   ]
  },
  {
   "cell_type": "markdown",
   "metadata": {},
   "source": [
    "# Training loop"
   ]
  },
  {
   "cell_type": "code",
   "execution_count": 14,
   "metadata": {
    "collapsed": true
   },
   "outputs": [],
   "source": [
    "loss_history = []\n",
    "val_acc_history = []\n",
    "train_acc_history = []"
   ]
  },
  {
   "cell_type": "code",
   "execution_count": 16,
   "metadata": {
    "scrolled": true
   },
   "outputs": [
    {
     "name": "stdout",
     "output_type": "stream",
     "text": [
      "Epoch 2 of 1000 took 8.291s\n",
      "  training loss (in-iteration):\t\t0.004813\n",
      "  train accuracy:\t\t100.00 %\n",
      "  validation accuracy:\t\t99.56 %\n"
     ]
    },
    {
     "data": {
      "image/png": "[encoded data removed]",
      "text/plain": [
       "<matplotlib.figure.Figure at 0x7fdf3b1f3588>"
      ]
     },
     "metadata": {},
     "output_type": "display_data"
    },
    {
     "data": {
      "image/png": "[encoded data removed]",
      "text/plain": [
       "<matplotlib.figure.Figure at 0x7fdf3b1d7ef0>"
      ]
     },
     "metadata": {},
     "output_type": "display_data"
    },
    {
     "ename": "KeyboardInterrupt",
     "evalue": "",
     "output_type": "error",
     "traceback": [
      "\u001b[0;31m---------------------------------------------------------------------------\u001b[0m",
      "\u001b[0;31mKeyboardInterrupt\u001b[0m                         Traceback (most recent call last)",
      "\u001b[0;32m<ipython-input-16-155428b2864a>\u001b[0m in \u001b[0;36m<module>\u001b[0;34m()\u001b[0m\n\u001b[1;32m     12\u001b[0m     \u001b[0;32mfor\u001b[0m \u001b[0mbatch\u001b[0m \u001b[0;32min\u001b[0m \u001b[0miterate_minibatches\u001b[0m\u001b[0;34m(\u001b[0m\u001b[0mX_train\u001b[0m\u001b[0;34m,\u001b[0m \u001b[0my_train\u001b[0m\u001b[0;34m,\u001b[0m \u001b[0mbatch_size\u001b[0m\u001b[0;34m)\u001b[0m\u001b[0;34m:\u001b[0m\u001b[0;34m\u001b[0m\u001b[0m\n\u001b[1;32m     13\u001b[0m         \u001b[0minputs\u001b[0m\u001b[0;34m,\u001b[0m \u001b[0mtargets\u001b[0m \u001b[0;34m=\u001b[0m \u001b[0mbatch\u001b[0m\u001b[0;34m\u001b[0m\u001b[0m\n\u001b[0;32m---> 14\u001b[0;31m         \u001b[0mtrain_err_batch\u001b[0m\u001b[0;34m,\u001b[0m \u001b[0mtrain_acc_batch\u001b[0m \u001b[0;34m=\u001b[0m \u001b[0mtrain_fun\u001b[0m\u001b[0;34m(\u001b[0m\u001b[0minputs\u001b[0m\u001b[0;34m,\u001b[0m \u001b[0mtargets\u001b[0m\u001b[0;34m)\u001b[0m\u001b[0;34m\u001b[0m\u001b[0m\n\u001b[0m\u001b[1;32m     15\u001b[0m         \u001b[0mtrain_err\u001b[0m \u001b[0;34m+=\u001b[0m \u001b[0mtrain_err_batch\u001b[0m\u001b[0;34m\u001b[0m\u001b[0m\n\u001b[1;32m     16\u001b[0m         \u001b[0mtrain_acc\u001b[0m \u001b[0;34m+=\u001b[0m \u001b[0mtrain_acc_batch\u001b[0m\u001b[0;34m\u001b[0m\u001b[0m\n",
      "\u001b[0;32m/home/ashmat/.miniconda3/lib/python3.6/site-packages/theano/compile/function_module.py\u001b[0m in \u001b[0;36m__call__\u001b[0;34m(self, *args, **kwargs)\u001b[0m\n\u001b[1;32m    882\u001b[0m         \u001b[0;32mtry\u001b[0m\u001b[0;34m:\u001b[0m\u001b[0;34m\u001b[0m\u001b[0m\n\u001b[1;32m    883\u001b[0m             \u001b[0moutputs\u001b[0m \u001b[0;34m=\u001b[0m\u001b[0;31m\\\u001b[0m\u001b[0;34m\u001b[0m\u001b[0m\n\u001b[0;32m--> 884\u001b[0;31m                 \u001b[0mself\u001b[0m\u001b[0;34m.\u001b[0m\u001b[0mfn\u001b[0m\u001b[0;34m(\u001b[0m\u001b[0;34m)\u001b[0m \u001b[0;32mif\u001b[0m \u001b[0moutput_subset\u001b[0m \u001b[0;32mis\u001b[0m \u001b[0;32mNone\u001b[0m \u001b[0;32melse\u001b[0m\u001b[0;31m\\\u001b[0m\u001b[0;34m\u001b[0m\u001b[0m\n\u001b[0m\u001b[1;32m    885\u001b[0m                 \u001b[0mself\u001b[0m\u001b[0;34m.\u001b[0m\u001b[0mfn\u001b[0m\u001b[0;34m(\u001b[0m\u001b[0moutput_subset\u001b[0m\u001b[0;34m=\u001b[0m\u001b[0moutput_subset\u001b[0m\u001b[0;34m)\u001b[0m\u001b[0;34m\u001b[0m\u001b[0m\n\u001b[1;32m    886\u001b[0m         \u001b[0;32mexcept\u001b[0m \u001b[0mException\u001b[0m\u001b[0;34m:\u001b[0m\u001b[0;34m\u001b[0m\u001b[0m\n",
      "\u001b[0;31mKeyboardInterrupt\u001b[0m: "
     ]
    }
   ],
   "source": [
    "import time\n",
    "\n",
    "num_epochs = 1000 #amount of passes through the data\n",
    "\n",
    "batch_size = 300 #number of samples processed at each function call\n",
    "\n",
    "for epoch in range(num_epochs):\n",
    "    train_err = 0\n",
    "    train_acc = 0\n",
    "    train_batches = 0\n",
    "    start_time = time.time()\n",
    "    for batch in iterate_minibatches(X_train, y_train, batch_size):\n",
    "        inputs, targets = batch\n",
    "        train_err_batch, train_acc_batch = train_fun(inputs, targets)\n",
    "        train_err += train_err_batch\n",
    "        train_acc += train_acc_batch\n",
    "        train_batches += 1\n",
    "\n",
    "    # And a full pass over the validation data:\n",
    "    val_acc = 0\n",
    "    val_batches = 0\n",
    "    for batch in iterate_minibatches(X_val, y_val, batch_size):\n",
    "        inputs, targets = batch\n",
    "        val_acc += accuracy_fun(inputs, targets)\n",
    "        val_batches += 1\n",
    "\n",
    "    loss = train_err / train_batches\n",
    "    val_acc = val_acc / val_batches * 100\n",
    "    train_acc = train_acc / train_batches * 100\n",
    "    loss_history.append(loss)\n",
    "    train_acc_history.append(train_acc)\n",
    "    val_acc_history.append(val_acc)\n",
    "\n",
    "#     print(\"Epoch {} took {:.3f}s (last saved epoch {})\".format(epoch,  time.time() - start_time, last_saved_epoch))\n",
    "#     print(\"  training loss:\\t\\t{:.6f}\".format(loss))\n",
    "#     print(\"  train accuracy:\\t{:.2f} %\".format(train_acc))\n",
    "#     print(\"  validation accuracy:\\t{:.2f} %\".format(val_acc))\n",
    "    if epoch % 300 == 299:\n",
    "        dump()\n",
    "        print('Saved!!!')\n",
    "    \n",
    "#     print('Current loss: %f' % loss)   \n",
    "    # Then we print the results for this epoch:\n",
    "    if epoch % 1 == 0:\n",
    "        display.clear_output(wait=True)\n",
    "\n",
    "        print(\"Epoch {} of {} took {:.3f}s\".format(\n",
    "            epoch + 1, num_epochs, time.time() - start_time))\n",
    "        print(\"  training loss (in-iteration):\\t\\t{:.6f}\".format(loss))\n",
    "        print(\"  train accuracy:\\t\\t{:.2f} %\".format(train_acc))\n",
    "        print(\"  validation accuracy:\\t\\t{:.2f} %\".format(val_acc))\n",
    "        plt.figure(figsize=(8, 6))\n",
    "        plt.title(\"Training loss\")\n",
    "        plt.xlabel(\"#iteration\")\n",
    "        plt.ylabel(\"loss\")\n",
    "        plt.plot(loss_history, 'b')\n",
    "        plt.figure(figsize=(8, 6))\n",
    "        plt.title(\"Training accuracy\")\n",
    "        plt.xlabel(\"#iteration\")\n",
    "        plt.ylabel(\"loss\")\n",
    "        plt.plot(train_acc_history, 'r')\n",
    "        plt.plot(val_acc_history, 'g')\n",
    "        \n",
    "        plt.show()"
   ]
  },
  {
   "cell_type": "code",
   "execution_count": 12,
   "metadata": {},
   "outputs": [],
   "source": [
    "def accuracy(X, y):\n",
    "    acc = 0\n",
    "    batches = 0\n",
    "    for batch in iterate_minibatches(X, y, 500):\n",
    "        inputs, targets = batch\n",
    "        acc = acc + accuracy_fun(inputs, targets)\n",
    "        batches += 1\n",
    "    return acc*1. / batches"
   ]
  },
  {
   "cell_type": "code",
   "execution_count": 17,
   "metadata": {},
   "outputs": [
    {
     "name": "stdout",
     "output_type": "stream",
     "text": [
      "Epoch: 114\n",
      "Training set accuracy:\t\t100.00 %\n",
      "Validation set accuracy:\t99.53 %\n",
      "Test set accuracy:\t\t99.58 %\n"
     ]
    }
   ],
   "source": [
    "print('Epoch: {}'.format(last_saved_epoch))\n",
    "print(\"Training set accuracy:\\t\\t{:.2f} %\".format(accuracy(X_train, y_train) * 100))\n",
    "print(\"Validation set accuracy:\\t{:.2f} %\".format(accuracy(X_val, y_val) * 100))\n",
    "print(\"Test set accuracy:\\t\\t{:.2f} %\".format(accuracy(X_test, y_test) * 100))\n"
   ]
  },
  {
   "cell_type": "code",
   "execution_count": null,
   "metadata": {
    "collapsed": true
   },
   "outputs": [],
   "source": []
  }
 ],
 "metadata": {
  "kernelspec": {
   "display_name": "Python 3",
   "language": "python",
   "name": "python3"
  },
  "language_info": {
   "codemirror_mode": {
    "name": "ipython",
    "version": 3
   },
   "file_extension": ".py",
   "mimetype": "text/x-python",
   "name": "python",
   "nbconvert_exporter": "python",
   "pygments_lexer": "ipython3",
   "version": "3.6.1"
  }
 },
 "nbformat": 4,
 "nbformat_minor": 1
}
