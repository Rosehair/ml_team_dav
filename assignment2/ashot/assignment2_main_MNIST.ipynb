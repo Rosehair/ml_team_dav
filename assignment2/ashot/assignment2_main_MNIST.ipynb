{
 "cells": [
  {
   "cell_type": "markdown",
   "metadata": {},
   "source": [
    "# Basic Artificial Neural Networks"
   ]
  },
  {
   "cell_type": "code",
   "execution_count": 1,
   "metadata": {
    "collapsed": true
   },
   "outputs": [],
   "source": [
    "from time import time, sleep\n",
    "import numpy as np\n",
    "import matplotlib.pyplot as plt\n",
    "from IPython import display\n",
    "import matplotlib\n",
    "\n",
    "%matplotlib inline\n",
    "\n",
    "matplotlib.style.use('ggplot')"
   ]
  },
  {
   "cell_type": "markdown",
   "metadata": {},
   "source": [
    "# Framework"
   ]
  },
  {
   "cell_type": "code",
   "execution_count": 2,
   "metadata": {
    "collapsed": true
   },
   "outputs": [],
   "source": [
    "%run assignment1_modules.ipynb"
   ]
  },
  {
   "cell_type": "code",
   "execution_count": 3,
   "metadata": {
    "collapsed": true
   },
   "outputs": [],
   "source": [
    "def sgd_momentum(x, dx, config, state):\n",
    "    \"\"\"\n",
    "        This is a very ugly implementation of sgd with momentum \n",
    "        just to show an example how to store old grad in state.\n",
    "        \n",
    "        config:\n",
    "            - momentum\n",
    "            - learning_rate\n",
    "        state:\n",
    "            - old_grad\n",
    "    \"\"\"\n",
    "    \n",
    "    # x and dx have complex structure, old dx will be stored in a simpler one\n",
    "    if state.get('old_grad'):\n",
    "        flag = True\n",
    "        old_dx = state['old_grad']\n",
    "    else:\n",
    "        flag = False\n",
    "        old_dx = dx\n",
    "    for cur_layer_x, cur_layer_dx, cur_layer_old_dx in zip(x,dx, old_dx): \n",
    "        for cur_x, cur_dx, cur_old_dx in zip(cur_layer_x,cur_layer_dx, cur_layer_old_dx):\n",
    "            cur_old_grad = (config['momentum'] * cur_old_dx) if flag else 0 + config['learning_rate'] * cur_dx\n",
    "            np.add(cur_x, -cur_old_grad, out=cur_x)\n",
    "    old_dx = dx.copy()"
   ]
  },
  {
   "cell_type": "code",
   "execution_count": 4,
   "metadata": {
    "collapsed": true
   },
   "outputs": [],
   "source": [
    "def accuracy(A, B):\n",
    "    return np.sum(np.argmax(A,axis=-1) == np.argmax(B, axis=-1)) * 1. / A.shape[0]"
   ]
  },
  {
   "cell_type": "markdown",
   "metadata": {},
   "source": [
    "Start with batch_size = 1000 to make sure every step lowers the loss, then try stochastic version."
   ]
  },
  {
   "cell_type": "code",
   "execution_count": 5,
   "metadata": {
    "collapsed": true
   },
   "outputs": [],
   "source": [
    "# Iptimizer params\n",
    "optimizer_config = {'learning_rate' : 0.005, 'momentum': 0.1}\n",
    "optimizer_state = {}\n",
    "\n",
    "# Looping param2\n",
    "n_epoch = 30\n",
    "batch_size = 128"
   ]
  },
  {
   "cell_type": "code",
   "execution_count": 6,
   "metadata": {
    "collapsed": true
   },
   "outputs": [],
   "source": [
    "# batch generator\n",
    "def get_batches(X, Y, batch_size):\n",
    "    n_samples = X.shape[0]\n",
    "        \n",
    "    # Shuffle at the start of epoch\n",
    "    indices = np.arange(n_samples)\n",
    "    np.random.shuffle(indices)\n",
    "    \n",
    "    for start in range(0, n_samples, batch_size):\n",
    "        end = min(start + batch_size, n_samples)\n",
    "        \n",
    "        batch_idx = indices[start:end]\n",
    "    \n",
    "        yield X[batch_idx], Y[batch_idx]"
   ]
  },
  {
   "cell_type": "markdown",
   "metadata": {},
   "source": [
    "# Digit classification "
   ]
  },
  {
   "cell_type": "markdown",
   "metadata": {},
   "source": [
    "We are using [MNIST](http://yann.lecun.com/exdb/mnist/) as our dataset. Lets start with [cool visualization](http://scs.ryerson.ca/~aharley/vis/). The most beautiful demo is the second one, if you are not familiar with convolutions you can return to it in several lectures. "
   ]
  },
  {
   "cell_type": "code",
   "execution_count": 7,
   "metadata": {},
   "outputs": [
    {
     "name": "stdout",
     "output_type": "stream",
     "text": [
      "Training (50000, 784) (50000, 10)\n",
      "Validation (10000, 784) (10000, 10)\n",
      "Test (10000, 784) (10000, 10)\n"
     ]
    }
   ],
   "source": [
    "import os\n",
    "from sklearn.datasets import fetch_mldata\n",
    "\n",
    "# Fetch MNIST dataset and create a local copy.\n",
    "if os.path.exists('mnist.npz'):\n",
    "    with np.load('mnist.npz', 'r') as data:\n",
    "        X = data['X']\n",
    "        y = data['y']\n",
    "else:\n",
    "    mnist = fetch_mldata(\"mnist-original\")\n",
    "    X, y = mnist.data / 255.0, mnist.target\n",
    "    np.savez('mnist.npz', X=X, y=y)\n",
    "\n",
    "    \n",
    "from sklearn.preprocessing import OneHotEncoder\n",
    "enc = OneHotEncoder()\n",
    "y = np.array(enc.fit_transform(y.reshape(-1, 1)).todense())\n",
    "\n",
    "perm = np.random.permutation(X.shape[0])\n",
    "X = X[perm]\n",
    "y = y[perm]\n",
    "\n",
    "X_train, y_train = X[0:50000], y[0:50000]\n",
    "X_val, y_val = X[50000:60000], y[50000:60000]\n",
    "X_test, y_test = X[60000:], y[60000:]\n",
    "    \n",
    "print('Training', X_train.shape, y_train.shape)\n",
    "print('Validation', X_val.shape, y_val.shape)\n",
    "print('Test', X_test.shape, y_test.shape)"
   ]
  },
  {
   "cell_type": "markdown",
   "metadata": {},
   "source": [
    "- **Compare** `ReLU`, `ELU`, `LeakyReLU`, `SoftPlus` activation functions. \n",
    "You would better pick the best optimizer params for each of them, but it is overkill for now. Use an architecture of your choice for the comparison.\n",
    "- **Try** inserting `BatchMeanSubtraction` between `Linear` module and activation functions.\n",
    "- Plot the losses both from activation functions comparison and `BatchMeanSubtraction` comparison on one plot. Please find a scale (log?) when the lines are distinguishable, do not forget about naming the axes, the plot should be goodlooking.\n",
    "- Hint: logloss for MNIST should be around 0.5. "
   ]
  },
  {
   "cell_type": "code",
   "execution_count": 31,
   "metadata": {
    "collapsed": true
   },
   "outputs": [],
   "source": [
    "def trainNetwork(net, epoch, loss_history):\n",
    "    net.train()\n",
    "    for i in range(epoch):\n",
    "        for x_batch, y_batch in get_batches(X_train, y_train, batch_size):\n",
    "            net.zeroGradParameters()\n",
    "            predictions = net.forward(x_batch)\n",
    "            loss = criterion.forward(predictions, y_batch)\n",
    "            dp = criterion.backward(predictions, y_batch)\n",
    "            net.backward(x_batch, dp)\n",
    "            sgd_momentum(net.getParameters(), \n",
    "                         net.getGradParameters(), \n",
    "                         optimizer_config,\n",
    "                         optimizer_state)      \n",
    "        loss_history.append(loss)\n",
    "        print('Epoch: %d ' %(i))\n",
    "        print(\"  train accuracy:\\t\\t{:.2f} %\".format(accuracy(net.forward(X_train), y_train)*100))\n",
    "        print(\"  validation accuracy:\\t\\t{:.2f} %\".format(accuracy(net.forward(X_val), y_val)*100))\n",
    "\n",
    "    net.evaluate()    \n",
    "    \n",
    "\n",
    "    #     acc = accuracy(net.forward(X), one_hot_y)\n"
   ]
  },
  {
   "cell_type": "code",
   "execution_count": 32,
   "metadata": {},
   "outputs": [
    {
     "name": "stdout",
     "output_type": "stream",
     "text": [
      "Linear 784 -> 100\n",
      "LeakyReLU\n",
      "Linear 100 -> 50\n",
      "LeakyReLU\n",
      "Linear 50 -> 10\n",
      "SoftMax\n",
      "\n"
     ]
    }
   ],
   "source": [
    "criterion = ClassNLLCriterion()\n",
    "net1 = Sequential()\n",
    "net1.add(Linear(784,100))\n",
    "net1.add(LeakyReLU())\n",
    "net1.add(Linear(100,50))\n",
    "net1.add(LeakyReLU())\n",
    "net1.add(Linear(50,10))\n",
    "net1.add(SoftMax())\n",
    "print(net1)"
   ]
  },
  {
   "cell_type": "code",
   "execution_count": 33,
   "metadata": {},
   "outputs": [
    {
     "name": "stdout",
     "output_type": "stream",
     "text": [
      "Linear 784 -> 100\n",
      "BatchMeanNormalization\n",
      "LeakyReLU\n",
      "Linear 100 -> 50\n",
      "BatchMeanNormalization\n",
      "LeakyReLU\n",
      "Linear 50 -> 10\n",
      "SoftMax\n",
      "\n"
     ]
    }
   ],
   "source": [
    "net2 = Sequential()\n",
    "net2.add(Linear(784,100))\n",
    "net2.add(BatchMeanSubtraction(1))\n",
    "net2.add(LeakyReLU())\n",
    "net2.add(Linear(100,50))\n",
    "net2.add(BatchMeanSubtraction(1))\n",
    "net2.add(LeakyReLU())\n",
    "net2.add(Linear(50,10))\n",
    "net2.add(SoftMax())\n",
    "print(net2)"
   ]
  },
  {
   "cell_type": "code",
   "execution_count": 34,
   "metadata": {
    "collapsed": true
   },
   "outputs": [],
   "source": [
    "loss_history1 = []\n",
    "loss_history2 = []"
   ]
  },
  {
   "cell_type": "code",
   "execution_count": 35,
   "metadata": {
    "collapsed": true
   },
   "outputs": [],
   "source": [
    "# Iptimizer params\n",
    "optimizer_config = {'learning_rate' : 0.0005, 'momentum': 0.9}\n",
    "optimizer_state = {}\n",
    "\n",
    "# Looping param2\n",
    "n_epoch = 5\n",
    "batch_size = 1025"
   ]
  },
  {
   "cell_type": "code",
   "execution_count": 36,
   "metadata": {},
   "outputs": [
    {
     "name": "stdout",
     "output_type": "stream",
     "text": [
      "Epoch: 0 \n",
      "  train accuracy:\t\t84.78 %\n",
      "  validation accuracy:\t\t84.45 %\n",
      "Epoch: 1 \n",
      "  train accuracy:\t\t91.04 %\n",
      "  validation accuracy:\t\t90.47 %\n",
      "Epoch: 2 \n",
      "  train accuracy:\t\t92.57 %\n",
      "  validation accuracy:\t\t92.19 %\n",
      "Epoch: 3 \n",
      "  train accuracy:\t\t93.96 %\n",
      "  validation accuracy:\t\t93.39 %\n",
      "Epoch: 4 \n",
      "  train accuracy:\t\t94.95 %\n",
      "  validation accuracy:\t\t94.34 %\n",
      "Epoch: 0 \n",
      "  train accuracy:\t\t84.83 %\n",
      "  validation accuracy:\t\t84.52 %\n",
      "Epoch: 1 \n",
      "  train accuracy:\t\t90.82 %\n",
      "  validation accuracy:\t\t90.44 %\n",
      "Epoch: 2 \n",
      "  train accuracy:\t\t92.72 %\n",
      "  validation accuracy:\t\t92.10 %\n",
      "Epoch: 3 \n",
      "  train accuracy:\t\t93.93 %\n",
      "  validation accuracy:\t\t93.54 %\n",
      "Epoch: 4 \n",
      "  train accuracy:\t\t94.79 %\n",
      "  validation accuracy:\t\t94.05 %\n"
     ]
    }
   ],
   "source": [
    "trainNetwork(net1, n_epoch, loss_history1)\n",
    "trainNetwork(net2, n_epoch, loss_history2)"
   ]
  },
  {
   "cell_type": "code",
   "execution_count": 37,
   "metadata": {},
   "outputs": [
    {
     "name": "stdout",
     "output_type": "stream",
     "text": [
      "  test accuracy:\t\t94.81 %\n"
     ]
    }
   ],
   "source": [
    "net = net1\n",
    "print(\"  test accuracy:\\t\\t{:.2f} %\".format(accuracy(net.forward(X_test), y_test)*100))"
   ]
  },
  {
   "cell_type": "code",
   "execution_count": 38,
   "metadata": {},
   "outputs": [
    {
     "name": "stdout",
     "output_type": "stream",
     "text": [
      "  test accuracy:\t\t94.49 %\n"
     ]
    }
   ],
   "source": [
    "net = net2\n",
    "print(\"  test accuracy:\\t\\t{:.2f} %\".format(accuracy(net.forward(X_test), y_test)*100))"
   ]
  },
  {
   "cell_type": "code",
   "execution_count": 39,
   "metadata": {},
   "outputs": [
    {
     "data": {
      "text/plain": [
       "<matplotlib.figure.Figure at 0x7f4afdb277f0>"
      ]
     },
     "metadata": {},
     "output_type": "display_data"
    },
    {
     "data": {
      "image/png": "[encoded data removed]",
      "text/plain": [
       "<matplotlib.figure.Figure at 0x7f4afdb27780>"
      ]
     },
     "metadata": {},
     "output_type": "display_data"
    }
   ],
   "source": [
    "plt.clf()\n",
    "plt.figure(figsize=(15,10))\n",
    "plt.plot(loss_history1[:100],label='without BatchMeanSubtraction')\n",
    "plt.plot(loss_history2[:100],label='with BatchMeanSubtraction')\n",
    "plt.legend()\n",
    "plt.show()"
   ]
  },
  {
   "cell_type": "markdown",
   "metadata": {},
   "source": [
    "Write your personal opinion on the activation functions, think about computation times too. Does `BatchMeanSubtraction` help?"
   ]
  },
  {
   "cell_type": "markdown",
   "metadata": {
    "collapsed": true
   },
   "source": []
  },
  {
   "cell_type": "markdown",
   "metadata": {},
   "source": [
    "**Finally**, use all your knowledge to build a super cool model on this dataset, do not forget to split dataset into train and validation. Use **dropout** to prevent overfitting, play with **learning rate decay**. You can use **data augmentation** such as rotations, translations to boost your score. Use your knowledge and imagination to train a model. "
   ]
  },
  {
   "cell_type": "code",
   "execution_count": 41,
   "metadata": {},
   "outputs": [
    {
     "name": "stdout",
     "output_type": "stream",
     "text": [
      "Linear 784 -> 1000\n",
      "Dropout\n",
      "ReLU\n",
      "Linear 1000 -> 50\n",
      "ReLU\n",
      "Linear 50 -> 10\n",
      "SoftMax\n",
      "\n"
     ]
    }
   ],
   "source": [
    "criterion = ClassNLLCriterion()\n",
    "cool_network  = Sequential()\n",
    "cool_network.add(Linear(784, 1000))\n",
    "cool_network.add(Dropout(0.6))\n",
    "cool_network.add(ReLU())\n",
    "cool_network.add(Linear(1000, 50))\n",
    "cool_network.add(ReLU())\n",
    "cool_network.add(Linear(50,10))\n",
    "cool_network.add(SoftMax())\n",
    "print(cool_network)"
   ]
  },
  {
   "cell_type": "code",
   "execution_count": 42,
   "metadata": {
    "collapsed": true
   },
   "outputs": [],
   "source": [
    "# Iptimizer params\n",
    "optimizer_config = {'learning_rate' : 0.005, 'momentum': 0.9}\n",
    "optimizer_state = {}\n",
    "\n",
    "# Looping param2\n",
    "n_epoch = 50\n",
    "batch_size = 101"
   ]
  },
  {
   "cell_type": "code",
   "execution_count": 43,
   "metadata": {
    "scrolled": true
   },
   "outputs": [
    {
     "name": "stdout",
     "output_type": "stream",
     "text": [
      "Epoch: 0 \n",
      "  train accuracy:\t\t91.37 %\n",
      "  validation accuracy:\t\t92.22 %\n",
      "Epoch: 1 \n",
      "  train accuracy:\t\t94.33 %\n",
      "  validation accuracy:\t\t94.66 %\n",
      "Epoch: 2 \n",
      "  train accuracy:\t\t95.55 %\n",
      "  validation accuracy:\t\t94.34 %\n",
      "Epoch: 3 \n",
      "  train accuracy:\t\t96.34 %\n",
      "  validation accuracy:\t\t95.56 %\n",
      "Epoch: 4 \n",
      "  train accuracy:\t\t96.94 %\n",
      "  validation accuracy:\t\t96.01 %\n",
      "Epoch: 5 \n",
      "  train accuracy:\t\t97.50 %\n",
      "  validation accuracy:\t\t96.52 %\n",
      "Epoch: 6 \n",
      "  train accuracy:\t\t97.24 %\n",
      "  validation accuracy:\t\t96.51 %\n"
     ]
    },
    {
     "ename": "KeyboardInterrupt",
     "evalue": "",
     "output_type": "error",
     "traceback": [
      "\u001b[0;31m---------------------------------------------------------------------------\u001b[0m",
      "\u001b[0;31mKeyboardInterrupt\u001b[0m                         Traceback (most recent call last)",
      "\u001b[0;32m<ipython-input-43-ea627c11a9a8>\u001b[0m in \u001b[0;36m<module>\u001b[0;34m()\u001b[0m\n\u001b[0;32m----> 1\u001b[0;31m \u001b[0mtrainNetwork\u001b[0m\u001b[0;34m(\u001b[0m\u001b[0mcool_network\u001b[0m\u001b[0;34m,\u001b[0m \u001b[0mn_epoch\u001b[0m\u001b[0;34m,\u001b[0m \u001b[0;34m[\u001b[0m\u001b[0;34m]\u001b[0m\u001b[0;34m)\u001b[0m\u001b[0;34m\u001b[0m\u001b[0m\n\u001b[0m\u001b[1;32m      2\u001b[0m \u001b[0mnet\u001b[0m \u001b[0;34m=\u001b[0m \u001b[0mcool_network\u001b[0m\u001b[0;34m\u001b[0m\u001b[0m\n\u001b[1;32m      3\u001b[0m \u001b[0;34m\u001b[0m\u001b[0m\n",
      "\u001b[0;32m<ipython-input-31-6c5acbde8333>\u001b[0m in \u001b[0;36mtrainNetwork\u001b[0;34m(net, epoch, loss_history)\u001b[0m\n\u001b[1;32m      4\u001b[0m         \u001b[0;32mfor\u001b[0m \u001b[0mx_batch\u001b[0m\u001b[0;34m,\u001b[0m \u001b[0my_batch\u001b[0m \u001b[0;32min\u001b[0m \u001b[0mget_batches\u001b[0m\u001b[0;34m(\u001b[0m\u001b[0mX_train\u001b[0m\u001b[0;34m,\u001b[0m \u001b[0my_train\u001b[0m\u001b[0;34m,\u001b[0m \u001b[0mbatch_size\u001b[0m\u001b[0;34m)\u001b[0m\u001b[0;34m:\u001b[0m\u001b[0;34m\u001b[0m\u001b[0m\n\u001b[1;32m      5\u001b[0m             \u001b[0mnet\u001b[0m\u001b[0;34m.\u001b[0m\u001b[0mzeroGradParameters\u001b[0m\u001b[0;34m(\u001b[0m\u001b[0;34m)\u001b[0m\u001b[0;34m\u001b[0m\u001b[0m\n\u001b[0;32m----> 6\u001b[0;31m             \u001b[0mpredictions\u001b[0m \u001b[0;34m=\u001b[0m \u001b[0mnet\u001b[0m\u001b[0;34m.\u001b[0m\u001b[0mforward\u001b[0m\u001b[0;34m(\u001b[0m\u001b[0mx_batch\u001b[0m\u001b[0;34m)\u001b[0m\u001b[0;34m\u001b[0m\u001b[0m\n\u001b[0m\u001b[1;32m      7\u001b[0m             \u001b[0mloss\u001b[0m \u001b[0;34m=\u001b[0m \u001b[0mcriterion\u001b[0m\u001b[0;34m.\u001b[0m\u001b[0mforward\u001b[0m\u001b[0;34m(\u001b[0m\u001b[0mpredictions\u001b[0m\u001b[0;34m,\u001b[0m \u001b[0my_batch\u001b[0m\u001b[0;34m)\u001b[0m\u001b[0;34m\u001b[0m\u001b[0m\n\u001b[1;32m      8\u001b[0m             \u001b[0mdp\u001b[0m \u001b[0;34m=\u001b[0m \u001b[0mcriterion\u001b[0m\u001b[0;34m.\u001b[0m\u001b[0mbackward\u001b[0m\u001b[0;34m(\u001b[0m\u001b[0mpredictions\u001b[0m\u001b[0;34m,\u001b[0m \u001b[0my_batch\u001b[0m\u001b[0;34m)\u001b[0m\u001b[0;34m\u001b[0m\u001b[0m\n",
      "\u001b[0;32m<ipython-input-2-bd600ebcf511>\u001b[0m in \u001b[0;36mforward\u001b[0;34m(self, inpt)\u001b[0m\n\u001b[1;32m     23\u001b[0m         \u001b[0mTakes\u001b[0m \u001b[0man\u001b[0m \u001b[0minput\u001b[0m \u001b[0mobject\u001b[0m\u001b[0;34m,\u001b[0m \u001b[0;32mand\u001b[0m \u001b[0mcomputes\u001b[0m \u001b[0mthe\u001b[0m \u001b[0mcorresponding\u001b[0m \u001b[0moutput\u001b[0m \u001b[0mof\u001b[0m \u001b[0mthe\u001b[0m \u001b[0mmodule\u001b[0m\u001b[0;34m.\u001b[0m\u001b[0;34m\u001b[0m\u001b[0m\n\u001b[1;32m     24\u001b[0m         \"\"\"\n\u001b[0;32m---> 25\u001b[0;31m         \u001b[0;32mreturn\u001b[0m \u001b[0mself\u001b[0m\u001b[0;34m.\u001b[0m\u001b[0mupdateOutput\u001b[0m\u001b[0;34m(\u001b[0m\u001b[0minpt\u001b[0m\u001b[0;34m)\u001b[0m\u001b[0;34m\u001b[0m\u001b[0m\n\u001b[0m\u001b[1;32m     26\u001b[0m \u001b[0;34m\u001b[0m\u001b[0m\n\u001b[1;32m     27\u001b[0m     \u001b[0;32mdef\u001b[0m \u001b[0mbackward\u001b[0m\u001b[0;34m(\u001b[0m\u001b[0mself\u001b[0m\u001b[0;34m,\u001b[0m \u001b[0minpt\u001b[0m\u001b[0;34m,\u001b[0m \u001b[0mgradOutput\u001b[0m\u001b[0;34m)\u001b[0m\u001b[0;34m:\u001b[0m\u001b[0;34m\u001b[0m\u001b[0m\n",
      "\u001b[0;32m<ipython-input-2-7dffe808c317>\u001b[0m in \u001b[0;36mupdateOutput\u001b[0;34m(self, inpt)\u001b[0m\n\u001b[1;32m     50\u001b[0m         \"\"\"\n\u001b[1;32m     51\u001b[0m         \u001b[0;32mfor\u001b[0m \u001b[0mmodule\u001b[0m \u001b[0;32min\u001b[0m \u001b[0mself\u001b[0m\u001b[0;34m.\u001b[0m\u001b[0mmodules\u001b[0m\u001b[0;34m:\u001b[0m\u001b[0;34m\u001b[0m\u001b[0m\n\u001b[0;32m---> 52\u001b[0;31m             \u001b[0mself\u001b[0m\u001b[0;34m.\u001b[0m\u001b[0moutput\u001b[0m \u001b[0;34m=\u001b[0m \u001b[0mmodule\u001b[0m\u001b[0;34m.\u001b[0m\u001b[0mforward\u001b[0m\u001b[0;34m(\u001b[0m\u001b[0minpt\u001b[0m\u001b[0;34m)\u001b[0m\u001b[0;34m\u001b[0m\u001b[0m\n\u001b[0m\u001b[1;32m     53\u001b[0m             \u001b[0minpt\u001b[0m \u001b[0;34m=\u001b[0m \u001b[0mself\u001b[0m\u001b[0;34m.\u001b[0m\u001b[0moutput\u001b[0m\u001b[0;34m\u001b[0m\u001b[0m\n\u001b[1;32m     54\u001b[0m \u001b[0;34m\u001b[0m\u001b[0m\n",
      "\u001b[0;32m<ipython-input-2-bd600ebcf511>\u001b[0m in \u001b[0;36mforward\u001b[0;34m(self, inpt)\u001b[0m\n\u001b[1;32m     23\u001b[0m         \u001b[0mTakes\u001b[0m \u001b[0man\u001b[0m \u001b[0minput\u001b[0m \u001b[0mobject\u001b[0m\u001b[0;34m,\u001b[0m \u001b[0;32mand\u001b[0m \u001b[0mcomputes\u001b[0m \u001b[0mthe\u001b[0m \u001b[0mcorresponding\u001b[0m \u001b[0moutput\u001b[0m \u001b[0mof\u001b[0m \u001b[0mthe\u001b[0m \u001b[0mmodule\u001b[0m\u001b[0;34m.\u001b[0m\u001b[0;34m\u001b[0m\u001b[0m\n\u001b[1;32m     24\u001b[0m         \"\"\"\n\u001b[0;32m---> 25\u001b[0;31m         \u001b[0;32mreturn\u001b[0m \u001b[0mself\u001b[0m\u001b[0;34m.\u001b[0m\u001b[0mupdateOutput\u001b[0m\u001b[0;34m(\u001b[0m\u001b[0minpt\u001b[0m\u001b[0;34m)\u001b[0m\u001b[0;34m\u001b[0m\u001b[0m\n\u001b[0m\u001b[1;32m     26\u001b[0m \u001b[0;34m\u001b[0m\u001b[0m\n\u001b[1;32m     27\u001b[0m     \u001b[0;32mdef\u001b[0m \u001b[0mbackward\u001b[0m\u001b[0;34m(\u001b[0m\u001b[0mself\u001b[0m\u001b[0;34m,\u001b[0m \u001b[0minpt\u001b[0m\u001b[0;34m,\u001b[0m \u001b[0mgradOutput\u001b[0m\u001b[0;34m)\u001b[0m\u001b[0;34m:\u001b[0m\u001b[0;34m\u001b[0m\u001b[0m\n",
      "\u001b[0;32m<ipython-input-2-78b576ecd2f4>\u001b[0m in \u001b[0;36mupdateOutput\u001b[0;34m(self, inpt)\u001b[0m\n\u001b[1;32m     18\u001b[0m \u001b[0;34m\u001b[0m\u001b[0m\n\u001b[1;32m     19\u001b[0m     \u001b[0;32mdef\u001b[0m \u001b[0mupdateOutput\u001b[0m\u001b[0;34m(\u001b[0m\u001b[0mself\u001b[0m\u001b[0;34m,\u001b[0m \u001b[0minpt\u001b[0m\u001b[0;34m)\u001b[0m\u001b[0;34m:\u001b[0m\u001b[0;34m\u001b[0m\u001b[0m\n\u001b[0;32m---> 20\u001b[0;31m         \u001b[0mself\u001b[0m\u001b[0;34m.\u001b[0m\u001b[0moutput\u001b[0m \u001b[0;34m=\u001b[0m \u001b[0minpt\u001b[0m\u001b[0;34m.\u001b[0m\u001b[0mdot\u001b[0m\u001b[0;34m(\u001b[0m\u001b[0mself\u001b[0m\u001b[0;34m.\u001b[0m\u001b[0mW\u001b[0m\u001b[0;34m.\u001b[0m\u001b[0mT\u001b[0m\u001b[0;34m)\u001b[0m \u001b[0;34m+\u001b[0m \u001b[0mself\u001b[0m\u001b[0;34m.\u001b[0m\u001b[0mb\u001b[0m\u001b[0;34m\u001b[0m\u001b[0m\n\u001b[0m\u001b[1;32m     21\u001b[0m         \u001b[0;32mreturn\u001b[0m \u001b[0mself\u001b[0m\u001b[0;34m.\u001b[0m\u001b[0moutput\u001b[0m\u001b[0;34m\u001b[0m\u001b[0m\n\u001b[1;32m     22\u001b[0m \u001b[0;34m\u001b[0m\u001b[0m\n",
      "\u001b[0;31mKeyboardInterrupt\u001b[0m: "
     ]
    }
   ],
   "source": [
    "trainNetwork(cool_network, n_epoch, [])\n",
    "net = cool_network"
   ]
  },
  {
   "cell_type": "markdown",
   "metadata": {},
   "source": [
    "Print here your accuracy. It should be around 90%."
   ]
  },
  {
   "cell_type": "code",
   "execution_count": 44,
   "metadata": {},
   "outputs": [
    {
     "name": "stdout",
     "output_type": "stream",
     "text": [
      "  test accuracy:\t\t96.84 %\n"
     ]
    }
   ],
   "source": [
    "cool_network.evaluate()\n",
    "print(\"  test accuracy:\\t\\t{:.2f} %\".format(accuracy(cool_network.forward(X_test), y_test)*100))"
   ]
  },
  {
   "cell_type": "code",
   "execution_count": null,
   "metadata": {
    "collapsed": true
   },
   "outputs": [],
   "source": []
  },
  {
   "cell_type": "code",
   "execution_count": null,
   "metadata": {
    "collapsed": true
   },
   "outputs": [],
   "source": []
  }
 ],
 "metadata": {
  "kernelspec": {
   "display_name": "Python 3",
   "language": "python",
   "name": "python3"
  },
  "language_info": {
   "codemirror_mode": {
    "name": "ipython",
    "version": 3
   },
   "file_extension": ".py",
   "mimetype": "text/x-python",
   "name": "python",
   "nbconvert_exporter": "python",
   "pygments_lexer": "ipython3",
   "version": "3.6.1"
  }
 },
 "nbformat": 4,
 "nbformat_minor": 1
}
