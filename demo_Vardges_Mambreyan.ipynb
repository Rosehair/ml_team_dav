{
 "cells": [
  {
   "cell_type": "code",
   "execution_count": 15,
   "metadata": {
    "collapsed": false
   },
   "outputs": [],
   "source": [
    "from random_forest import RandomForest\n",
    "from logistic_regression import LogisticRegression\n",
    "from decision_tree import DecisionTree\n",
    "import numpy as np"
   ]
  },
  {
   "cell_type": "code",
   "execution_count": 16,
   "metadata": {
    "collapsed": true
   },
   "outputs": [],
   "source": [
    "def accuracy_score(y_true, y_predict):\n",
    "    \"\"\"\n",
    "    :param y_true: true labels of given data\n",
    "    :param y_predict: predicted labels of given data\n",
    "    :return:\n",
    "    \"\"\"\n",
    "    y_true = y_true.flatten()\n",
    "    y_predict = y_predict.astype(float).flatten()\n",
    "    t_sum = sum([1 if y_true[i] == y_predict[i] else 0 for i in range(0, np.size(y_true))]) + .0\n",
    "    return 100 * t_sum / np.size(y_true)"
   ]
  },
  {
   "cell_type": "code",
   "execution_count": 17,
   "metadata": {
    "collapsed": true
   },
   "outputs": [],
   "source": [
    "# read file and create data and labels arrays\n",
    "filename = './data/SPECTF.dat'\n",
    "data = np.loadtxt(filename, delimiter=',')\n",
    "data = np.array(data)\n",
    "\n",
    "x_data = data[:, 1:]\n",
    "y_data = data[:, 0]"
   ]
  },
  {
   "cell_type": "code",
   "execution_count": 20,
   "metadata": {
    "collapsed": false
   },
   "outputs": [],
   "source": [
    "# devide them to train and test parts\n",
    "\n",
    "number_to_split = 150\n",
    "# for training\n",
    "xtrain = np.array(x_data[:number_to_split, :])\n",
    "ytrain = np.array(y_data[:number_to_split])\n",
    "# for testing\n",
    "xtest = x_data[number_to_split:, :]\n",
    "ytest = y_data[number_to_split:]"
   ]
  },
  {
   "cell_type": "code",
   "execution_count": 21,
   "metadata": {
    "collapsed": false
   },
   "outputs": [],
   "source": [
    "# Decision tree\n",
    "classifier = DecisionTree(100)\n",
    "classifier.fit(xtrain, ytrain)\n",
    "# output predictions on the remaining data\n",
    "y_pred = classifier.predict(xtest)"
   ]
  },
  {
   "cell_type": "code",
   "execution_count": 22,
   "metadata": {
    "collapsed": false
   },
   "outputs": [
    {
     "name": "stdout",
     "output_type": "stream",
     "text": [
      "Decesion tree accuracy: 75.2\n"
     ]
    }
   ],
   "source": [
    "print(\"Decesion tree accuracy: %0.1f\" % (accuracy_score(ytest, classifier.predict(xtest))))"
   ]
  },
  {
   "cell_type": "code",
   "execution_count": 23,
   "metadata": {
    "collapsed": false
   },
   "outputs": [
    {
     "name": "stdout",
     "output_type": "stream",
     "text": [
      "Ranadom forest accuracy: 74.4\n"
     ]
    }
   ],
   "source": [
    "# train the Random Forest\n",
    "classifier_forest = RandomForest(40, 4, 0.2)\n",
    "classifier_forest.fit(xtrain, ytrain)\n",
    "# output predictions on the remaining data\n",
    "y_pred_forest = classifier_forest.predict(xtest)\n",
    "\n",
    "print(\"Ranadom forest accuracy: %0.1f\" % (accuracy_score(ytest, classifier_forest.predict(xtest))))"
   ]
  },
  {
   "cell_type": "code",
   "execution_count": 24,
   "metadata": {
    "collapsed": false
   },
   "outputs": [
    {
     "name": "stdout",
     "output_type": "stream",
     "text": [
      "Logisic regression accuracy: 87.2\n"
     ]
    }
   ],
   "source": [
    "# train the Logistic Regression\n",
    "classifier_log = LogisticRegression()\n",
    "classifier_log.train(xtrain, ytrain)\n",
    "# output predictions on the remaining data\n",
    "print(\"Logisic regression accuracy: %0.1f\" % (accuracy_score(ytest, classifier_log.predict(xtest))))"
   ]
  },
  {
   "cell_type": "code",
   "execution_count": null,
   "metadata": {
    "collapsed": true
   },
   "outputs": [],
   "source": []
  },
  {
   "cell_type": "code",
   "execution_count": null,
   "metadata": {
    "collapsed": true
   },
   "outputs": [],
   "source": []
  }
 ],
 "metadata": {
  "kernelspec": {
   "display_name": "Python 3",
   "language": "python",
   "name": "python3"
  },
  "language_info": {
   "codemirror_mode": {
    "name": "ipython",
    "version": 3
   },
   "file_extension": ".py",
   "mimetype": "text/x-python",
   "name": "python",
   "nbconvert_exporter": "python",
   "pygments_lexer": "ipython3",
   "version": "3.6.0"
  }
 },
 "nbformat": 4,
 "nbformat_minor": 0
}
