{
 "cells": [
  {
   "cell_type": "markdown",
   "metadata": {},
   "source": [
    "<span style=\"font-size: 14pt\">EREVAN, May-June 2017</span>\n",
    "\n",
    "<span style=\"font-size: 16pt\"> HW #3: ARIMA model\n",
    "\n",
    "<span style=\"color:blue; font-size: 12pt\">Alexey Romanenko </span>,\n",
    "<span style=\"color:blue; font-size: 12pt; font-family: 'Verdana'\">alexromsput@gmail.com</span>\n",
    "\n",
    "\n",
    "<h1 align=\"center\"> Home Work 3 </h1>\n",
    "\n",
    "## Answer questions\n",
    "\n",
    "1) **Find equation for $y_t$ that corresponds to the following ARIMA model**:\n",
    " - 1) ARIMA $(p=0,d=k,q=1)$,\n",
    " \n",
    "   $$\\nabla ^{k} y_t = (1+\\theta_{1} B)e_t)$$\n",
    "   $$(1-B)^{k} y_t = e_t + \\theta_{1} e_{t-1}$$\n",
    "   2) ARIMA $(p=0,d=k+1,d=1)(P=1, D=1, Q=0)_s$,\n",
    "   \n",
    "   $$(1-\\Phi_1 B^s)\\nabla_s^1 \\nabla^{k+1} y_t=(1+\\theta_1 B)e_t=e_t + \\theta_1 e_{t-1}$$\n",
    "   \n",
    "\n",
    "2)    ** Write canonic form of ARMA model for the time series **\n",
    " - 1) $$y_t = a_1 y_{t-1} + a_2 y_{t-4} - a_1 a_2 y_{t-5} + \\varepsilon_t$$\n",
    " \n",
    "     $$y_t -\\alpha_1 y_{t-1} -\\alpha_2 y_{t-4} -\\alpha_1 \\alpha_2 y_{t-5} = e_t$$\n",
    "     $$(1-\\alpha_2 B_s ^4)(1-\\alpha_1)\\nabla_s ^1 y_t=e_t$$\n",
    " - 2) $$y_t = y_{t-d} + \\varepsilon_t +b_2 + \\varepsilon_{t-2} + B_1 y_{t-s} + b_2 B_1 y_{t-s-2} $$\n",
    " $$no solution$$\n",
    "\n",
    "    \n",
    "3) **Proof that ARIMA$(p=0,d=2, q=2)$ is equivalent to Holt (linear trend) with:**\n",
    "\t\t$$(1-L)^2Y_t = (1-\\phi_1 L-\\phi_2 L^2)\\varepsilon_t$$\n",
    "\t\t$$\\phi_1 = 2-\\alpha-\\alpha\\beta, \\text{ }\\phi_2 = \\alpha-1$$\n",
    "\n",
    "$$(1-L)^2 y_t = (1-2L +L^2)y_t=y_t-2y_{t-1}+y_{t-2}=e_t-\\Phi_1 e_{t-1} - \\Phi_2 e_{t-2}$$\n",
    "$$y_t-2y_{t-1}+y_{t-2}=y_t - \\hat y_t -(2-\\alpha - \\alpha\\beta)(y_{t-1}-\\hat y_{t-1}) - (\\alpha -1)(y_{t-2}-\\hat y_{t-2})$$\n",
    "$$\\hat y_t=(\\alpha + \\alpha\\beta)y_{t-1} + (2-\\alpha - \\alpha\\beta)\\hat y_{t-1} -\\alpha y_{t-2} + (\\alpha -1)\\hat y_{t-2}$$\n",
    "we know ffrom Holt model that\n",
    "$$\\hat y_t = l_{t-1} + b_{t-1} = \\hat y_{t-1} + \\alpha e_{t-1}+\\beta_{t-1}=\\hat y_{t-1} + \\alpha e_{t-1} + \\beta_{t-2} +\\alpha\\beta e_{t-1} $$\n",
    "lets see if last two equations are equal\n",
    "$$(\\alpha + \\alpha\\beta)y_{t-1} + (2-\\alpha - \\alpha\\beta)\\hat y_{t-1} -\\alpha y_{t-2} + (\\alpha -1)\\hat y_{t-2} \\star \\hat y_{t-1} + \\alpha e_{t-1} + \\beta_{t-2} +\\alpha\\beta e_{t-1} $$\n",
    "$$\\alpha y_{t-1} +(1-\\alpha)\\hat y_{t-1} -\\alpha y_{t-2} + (\\alpha -1)\\hat y_{t-2} \\star \\alpha e_{t-1}+\\beta_{t-2}$$\n",
    "$$\\hat y_{t-1} -(\\alpha y_{t-2} +(1-\\alpha)\\hat y_{t-2}))\\star b_{t-2}$$\n",
    "$$\\hat y_{t-1} -(\\alpha(y_{t-2} -\\hat y_{t-2})+\\hat y_{t-2})\\star b_{t-2}$$\n",
    "$$\\hat y_{t-1} - \\alpha e_{t-2} - \\hat y_{t-2}=\\hat y_{t-1} - l_{t-1} \\star b_{t-2}$$\n",
    "$$b_{t-2}\\star b_{t-2}$$\n",
    "good"
   ]
  }
 ],
 "metadata": {
  "anaconda-cloud": {},
  "kernelspec": {
   "display_name": "Python 3",
   "language": "python",
   "name": "python3"
  },
  "language_info": {
   "codemirror_mode": {
    "name": "ipython",
    "version": 3
   },
   "file_extension": ".py",
   "mimetype": "text/x-python",
   "name": "python",
   "nbconvert_exporter": "python",
   "pygments_lexer": "ipython3",
   "version": "3.5.1"
  }
 },
 "nbformat": 4,
 "nbformat_minor": 1
}
