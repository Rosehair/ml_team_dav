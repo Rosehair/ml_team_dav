{
 "cells": [
  {
   "cell_type": "markdown",
   "metadata": {},
   "source": [
    "<span style=\"font-size: 14pt\">YEREVAN, May-June 2017</span>\n",
    "\n",
    "<span style=\"font-size: 16pt\"> HW #6: ARIMA model\n",
    "\n",
    "<span style=\"color:blue; font-size: 12pt\">Alexey Romanenko </span>,\n",
    "<span style=\"color:blue; font-size: 12pt; font-family: 'Verdana'\">alexromsput@gmail.com</span>\n",
    "\n",
    "\n",
    "<h1 align=\"center\"> Home Work 6 </h1>\n",
    "\n",
    "## Answer questions\n",
    "\n",
    "**1. Proof next statements for model  $$AR(p)\\colon \\;\\;\\; y_t = \\phi_1 y_{t-1} + \\phi_2 y_{t-2} + \\dots + \\phi_p y_{t-p} + \\varepsilon_t,$$**  \n",
    "    where $y_t$ is a stationary time series with zero average,$~~$\n",
    "    $\\phi_1,\\dots,\\phi_p$ are constants ($\\phi_q \\neq 0$), $~~$\n",
    "    $\\varepsilon_t$ is gaussian white noise with zero average and constant dispersion $\\sigma_\\varepsilon^2.$\n",
    "\n",
    "   * a) partial autocorrelation coefficient\n",
    "   $$\\phi_{\\tau\\tau} = \\mathsf{E}[y_t-\\hat y_t, y_{t+\\tau} - \\hat y_{t+\\tau}]= \\begin{cases}0 &, \\tau>p; \\\\ f(\\tau,p)>0 &, 0\\leq\\tau\\leq p. \\end{cases}$$\n",
    "\t\n",
    "  where $\\hat y_t$ - forecast of $y_t$ with following regression model $$\\hat y_t = \\sum_{j=1}^{\\tau-1}\\beta_j y_{t+j}$$\n",
    "    $\\hat y_{t+\\tau}$ - forecast of $y_{t\\tau}$ with following regression model $$\\hat y_{t+\\tau} = \\sum_{j=1}^{\\tau-1}\\gamma_j y_{t+j}$$\n",
    "<Answer>"
   ]
  },
  {
   "cell_type": "markdown",
   "metadata": {},
   "source": [
    "$$ y_{t+\\tau} - \\hat y_{t+\\tau}=\\varepsilon_{t+\\tau} + \\sum_{i=1}^{p}\\phi_iy_{t+\\tau-i} -  \\sum_{j=1}^{\\tau-1}\\gamma_j y_{t+j} = \\varepsilon_{t+\\tau} + \\sum_{i=1}^{p}\\phi_iy_{t+\\tau-i} -  \\sum_{j=1}^{\\tau-1}\\gamma_j y_{t+j}$$"
   ]
  },
  {
   "cell_type": "markdown",
   "metadata": {},
   "source": [
    "$$S = \\sum_{i=1}^{p}\\phi_iy_{t+\\tau-i} -  \\sum_{j=1}^{\\tau-1}\\gamma_j y_{t+j} = \\sum_{i=1}^{p}\\phi_iy_{t+\\tau-i} -  \\sum_{i=1}^{\\tau-1}\\gamma_{\\tau-i} y_{t+\\tau-i}$$"
   ]
  },
  {
   "cell_type": "markdown",
   "metadata": {},
   "source": [
    "$$\\phi_i = \\gamma_{\\tau-i} \\;\\; i = 1..p$$"
   ]
  },
  {
   "cell_type": "markdown",
   "metadata": {},
   "source": [
    "$$\\gamma_{\\tau-i}=0 \\;\\;\\; i=(p+1)..(\\tau-1)$$"
   ]
  },
  {
   "cell_type": "markdown",
   "metadata": {},
   "source": [
    "if $p \\leq\\tau-1$ $(p <\\tau)$ then $S = 0$ \n",
    "then.\n",
    "    $$\\phi_{\\tau\\tau} = \\mathsf{E}[(y_t - \\hat y_t)( \\varepsilon_t + S)] = 0 $$"
   ]
  },
  {
   "cell_type": "markdown",
   "metadata": {},
   "source": [
    "if $p \\geq \\tau$ then\n",
    "$$\\phi_{\\tau\\tau} \\ne 0 $$\n",
    "$$\\mathsf{E}[y_i y_j] \\ne 0 \\;\\;\\; |i-j| \\leq p $$\n"
   ]
  },
  {
   "cell_type": "markdown",
   "metadata": {},
   "source": [
    "**2. Proof next statements for model  $$MA(q)\\colon \\;\\;\\; y_t = \\varepsilon_t + \\theta_1\\varepsilon_{t-1} + \\theta_2\\varepsilon_{t-2} + \\dots + \\theta_q \\varepsilon_{t-q},$$** $$ $$\n",
    "    where $y_t$ is a stationary time series with zero average,$~~$\n",
    "    $\\theta_1,\\dots,\\theta_q$ are constants ($\\theta_q \\neq 0$),$~~$ \n",
    "    $\\varepsilon_t$ is gaussian white noise with zero average and constant dispersion $\\sigma_\\varepsilon^2.$\n",
    "\n",
    "\n",
    "* a) correlation coefficient\n",
    "   $$r_\\tau=\\begin{cases}0 &, \\tau>q. \\\\ f(\\tau,q)>0 &, \\tau\\leq q; \\end{cases}$$\n",
    "   "
   ]
  },
  {
   "cell_type": "markdown",
   "metadata": {},
   "source": [
    "$$ r_\\tau = \\frac{\\mathsf{E}[(y_t - \\overline{y} )(y_{t+\\tau} - \\overline{y})]}{\\sigma^2_y}$$\n",
    "$$ \\mathsf{E}[(y_t - \\overline{y} )(y_{t+\\tau} - \\overline{y})] = \n",
    " \\mathsf{E}[y_t y_{t+\\tau} ] = \n",
    " \\mathsf{E}[(\\varepsilon_t + \\sum_{i=1}^{q}\\theta_i \\varepsilon_{t-i} ) \n",
    "(\\varepsilon_{t+\\tau} + \\sum_{i=1}^{q}\\theta_i \\varepsilon_{t+\\tau-i} )] $$\n",
    "$$\n",
    "\\mathsf{E}[(\\sum_{i=t-p}^{t}\\tilde\\theta_i \\varepsilon_{i} ) \n",
    "( \\sum_{i=t+\\tau-q}^{t+\\tau}\\tilde\\theta_i \\varepsilon_{i} )]$$\n",
    "$$ \\mathsf{E}[\\varepsilon_i \\varepsilon_j] = 0 \\;\\;\\;\\; i\\ne j $$\n",
    "$$ \\mathsf{E}[\\varepsilon_i \\varepsilon_j] = \\sigma^2 \\;\\;\\; i=j $$"
   ]
  },
  {
   "cell_type": "markdown",
   "metadata": {},
   "source": [
    " $$ \\mathsf{E}[(\\sum_{i=t-p}^{t}\\tilde\\theta_i \\varepsilon_{i} ) \n",
    "( \\sum_{i=t+\\tau-q}^{t+\\tau}\\tilde\\theta_i \\varepsilon_{i} )]=\\begin{cases}0 &, t+\\tau-q>t. \\\\ f(\\tau,q)>0 &, t+\\tau-q\\leq t; \\end{cases} = \\begin{cases}0 &, \\tau>q. \\\\ f(\\tau,q)>0 &, \\tau\\leq q; \\end{cases}$$"
   ]
  },
  {
   "cell_type": "markdown",
   "metadata": {},
   "source": [
    "   \n",
    "**3. Conclude in accordance with results above how to choose $p$ and $q$ parameters for ARMA model by looking at ACF and PACF.**"
   ]
  },
  {
   "cell_type": "markdown",
   "metadata": {
    "collapsed": true
   },
   "source": [
    "From ACF model we can deretmine \"q\" parameter (MA component). It is equal to the maximum lag that ACF is significant different to zero. \n",
    "\n",
    "From PACF model we can deretmine \"p\" parameter (AR component). It is equal to the maximum lag that PACF is significant different to zero. "
   ]
  },
  {
   "cell_type": "code",
   "execution_count": null,
   "metadata": {
    "collapsed": true
   },
   "outputs": [],
   "source": []
  }
 ],
 "metadata": {
  "anaconda-cloud": {},
  "kernelspec": {
   "display_name": "Python 2",
   "language": "python",
   "name": "python2"
  },
  "language_info": {
   "codemirror_mode": {
    "name": "ipython",
    "version": 2
   },
   "file_extension": ".py",
   "mimetype": "text/x-python",
   "name": "python",
   "nbconvert_exporter": "python",
   "pygments_lexer": "ipython2",
   "version": "2.7.13"
  }
 },
 "nbformat": 4,
 "nbformat_minor": 1
}
