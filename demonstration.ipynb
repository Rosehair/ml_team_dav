{
 "cells": [
  {
   "cell_type": "code",
   "execution_count": 3,
   "metadata": {
    "collapsed": false
   },
   "outputs": [],
   "source": [
    "from random_forest import RandomForest\n",
    "from gradient_descent import gradient_descent, gradient_predict\n",
    "from decision_tree import DecisionTree\n",
    "from runner import accuracy_score\n",
    "import numpy as np"
   ]
  },
  {
   "cell_type": "code",
   "execution_count": 5,
   "metadata": {
    "collapsed": true
   },
   "outputs": [],
   "source": [
    "# read file and create data and labels arrays\n",
    "filename = './data/SPECTF.dat'\n",
    "data = np.loadtxt(filename, delimiter=',')\n",
    "data = np.array(data)\n",
    "\n",
    "x_data = data[:, 1:]\n",
    "y_data = np.array([data[:, 0]]).T"
   ]
  },
  {
   "cell_type": "code",
   "execution_count": 6,
   "metadata": {
    "collapsed": true
   },
   "outputs": [],
   "source": [
    "# devide them to train and test parts\n",
    "\n",
    "# create data array with labels and features\n",
    "data = np.concatenate((x_data, y_data), axis=1)\n",
    "data = np.array(data)\n",
    "\n",
    "number_to_split = 150\n",
    "# for training\n",
    "train = data[:number_to_split, :]\n",
    "# for testing\n",
    "xtest = x_data[number_to_split:, :]\n",
    "ytest = y_data[number_to_split:, :]"
   ]
  },
  {
   "cell_type": "code",
   "execution_count": 8,
   "metadata": {
    "collapsed": false
   },
   "outputs": [],
   "source": [
    "# Decision tree\n",
    "classifier = DecisionTree(100)\n",
    "classifier.fit(train)\n",
    "# output predictions on the remaining data\n",
    "y_pred = classifier.predict(xtest)"
   ]
  },
  {
   "cell_type": "code",
   "execution_count": 12,
   "metadata": {
    "collapsed": false
   },
   "outputs": [
    {
     "name": "stdout",
     "output_type": "stream",
     "text": [
      "Decesion tree accuracy: 74.4\n"
     ]
    }
   ],
   "source": [
    "print(\"Decesion tree accuracy: %0.1f\" % (accuracy_score(ytest, classifier.predict(xtest))))"
   ]
  },
  {
   "cell_type": "code",
   "execution_count": 23,
   "metadata": {
    "collapsed": true
   },
   "outputs": [],
   "source": [
    "# train the Random Forest\n",
    "classifier_forest = RandomForest(40, 4, 0.2)\n",
    "classifier_forest.fit(train)\n",
    "# output predictions on the remaining data\n",
    "y_pred_forest = classifier_forest.predict(xtest)"
   ]
  },
  {
   "cell_type": "code",
   "execution_count": 24,
   "metadata": {
    "collapsed": false
   },
   "outputs": [
    {
     "name": "stdout",
     "output_type": "stream",
     "text": [
      "Rnadom forest accuracy: 71.8\n"
     ]
    }
   ],
   "source": [
    "print(\"Rnadom forest accuracy: %0.1f\" % (accuracy_score(ytest, classifier_forest.predict(xtest))))"
   ]
  },
  {
   "cell_type": "code",
   "execution_count": 25,
   "metadata": {
    "collapsed": true
   },
   "outputs": [],
   "source": [
    "# split data with distinctlabels and features, and have train part\n",
    "x_log = x_data[:number_to_split, :]\n",
    "y_log = y_data[:number_to_split, :]\n",
    "# add ones to x_log\n",
    "ones = np.array(np.ones(x_log.shape[0]).reshape(x_log.shape[0], 1))\n",
    "x_log = np.concatenate((ones, x_log), axis=1)\n",
    "beta = gradient_descent(x_log, y_log)\n",
    "# add ones to x_test\n",
    "ones1 = np.array(np.ones(xtest.shape[0]).reshape(xtest.shape[0], 1))\n",
    "xtest = np.concatenate((ones1, xtest), axis=1)\n",
    "y_predict_log = gradient_predict(xtest, beta)"
   ]
  },
  {
   "cell_type": "code",
   "execution_count": 26,
   "metadata": {
    "collapsed": true
   },
   "outputs": [],
   "source": [
    "# for testing gradient descent\n",
    "y_log_test = []\n",
    "for step in range(ytest.shape[0]):\n",
    "    if ytest[step] == 0:\n",
    "        y_log_test.append([-1])\n",
    "    else:\n",
    "        y_log_test.append([1])"
   ]
  },
  {
   "cell_type": "code",
   "execution_count": 28,
   "metadata": {
    "collapsed": false
   },
   "outputs": [
    {
     "name": "stdout",
     "output_type": "stream",
     "text": [
      "Rnadom forest accuracy: 87.2\n"
     ]
    }
   ],
   "source": [
    "print(\"Rnadom forest accuracy: %0.1f\" % (accuracy_score(np.array(y_log_test), y_predict_log)))"
   ]
  },
  {
   "cell_type": "code",
   "execution_count": null,
   "metadata": {
    "collapsed": true
   },
   "outputs": [],
   "source": []
  }
 ],
 "metadata": {
  "kernelspec": {
   "display_name": "Python 3",
   "language": "python",
   "name": "python3"
  },
  "language_info": {
   "codemirror_mode": {
    "name": "ipython",
    "version": 3
   },
   "file_extension": ".py",
   "mimetype": "text/x-python",
   "name": "python",
   "nbconvert_exporter": "python",
   "pygments_lexer": "ipython3",
   "version": "3.6.0"
  }
 },
 "nbformat": 4,
 "nbformat_minor": 2
}
