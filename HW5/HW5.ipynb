{
 "cells": [
  {
   "cell_type": "markdown",
   "metadata": {},
   "source": [
    "<span style=\"font-size: 14pt\">YEREVAN, May-June 2017</span>\n",
    "\n",
    "<span style=\"font-size: 16pt\"> HW #5: Compositions of time series forecasting algorithms\n",
    "\n",
    "<span style=\"color:blue; font-size: 12pt\">Alexey Romanenko </span>,\n",
    "<span style=\"color:blue; font-size: 12pt; font-family: 'Verdana'\">alexromsput@gmail.com</span>\n",
    "\n",
    "\n",
    "<h1 align=\"center\"> Home Work 5 </h1>\n",
    "** Realize following composions for adaptive algorithms (ESM): Adaptive Selection and Adaptive Composition.**\n",
    "\n",
    "Start with the code below"
   ]
  },
  {
   "cell_type": "code",
   "execution_count": 1,
   "metadata": {
    "collapsed": true
   },
   "outputs": [],
   "source": [
    "import pandas as pd\n",
    "import numpy as np\n",
    "import math\n",
    "from utils import qualityRMSE, qualityMedianAE, qualityMACAPE\n",
    "from utils import ExponentialSmoothing as SimpleExponentialSmoothing, AdaptiveExponentialSmoothing # , TheilWageExponentialSmoothing\n",
    "import matplotlib.pyplot as plt\n",
    "%matplotlib inline"
   ]
  },
  {
   "cell_type": "code",
   "execution_count": 2,
   "metadata": {
    "collapsed": true
   },
   "outputs": [],
   "source": [
    "BaseAlgFunctions = {\n",
    "    'SimpleExponentialSmoothing':SimpleExponentialSmoothing,\n",
    "    'AdaptiveExponentialSmoothing':AdaptiveExponentialSmoothing,\n",
    "}"
   ]
  },
  {
   "cell_type": "code",
   "execution_count": 3,
   "metadata": {
    "collapsed": true
   },
   "outputs": [],
   "source": [
    "def AdaptiveSelection(x, h, Params):\n",
    "    '''\n",
    "    Parameters\n",
    "    x <array> - time series\n",
    "    h <integer scalar>- forecasting delay\n",
    "    Params <dict> - dictionary with \n",
    "        gamma <scalar in [0,1]> - smoothing parameter of error\n",
    "        eps <scalar> - bound for best indistinctive models\n",
    "        BaseAlgs - array of <dict> with params\n",
    "            BaseAlg <string> - name of base algorithm\n",
    "            BaseAlfParams <dict> dictionary of base algorithm's params\n",
    "    '''\n",
    "    T = len(x)\n",
    "    FORECAST = [np.NaN]*(T+h)\n",
    "\n",
    "    \n",
    "    \n",
    "    BaseAlgs = Params['BaseAlgs']\n",
    "    N = len(BaseAlgs)\n",
    "    FORECAST_BA = np.ones((N, T+h)) * np.nan\n",
    "    \n",
    "    \n",
    "    for ba in range(len(BaseAlgs)):\n",
    "        FORECAST_BA[ba]= BaseAlgFunctions[BaseAlgs[ba]['BaseAlg']](x,h,BaseAlgs[ba]['BaseAlgParams'])\n",
    "    gamma = Params['gamma']\n",
    "    eps = Params['eps']\n",
    "    \n",
    "    if gamma>1:\n",
    "        w.warn('Gamma can not be more than 1')\n",
    "        return FORECAST\n",
    "    if gamma<0:\n",
    "        w.warn('Gamma can not be less than 0')\n",
    "        return FORECAST\n",
    "\n",
    "    \n",
    "    e1= np.zeros(N) \n",
    "    j_best = np.zeros(N)\n",
    "    y = np.nan\n",
    "    \n",
    "    for t in range(0, T):\n",
    "        if not math.isnan(x[t]):\n",
    "            if t>= h:\n",
    "                e = np.abs(x[t]-FORECAST_BA.transpose()[t])\n",
    "                if not np.any(np.isnan(e)):\n",
    "                    e1 = gamma*e+(1-gamma)*e1  \n",
    "                if not np.all(np.isnan(e1)):\n",
    "                    j_best = np.nanargmin(e1) \n",
    "                    idx_bestinsdistinctive = np.where(e1 < e1[j_best] + eps)[-1]\n",
    "                    y = FORECAST_BA[idx_bestinsdistinctive,t].mean()\n",
    "            \n",
    "            \n",
    "        FORECAST[t+h] = y\n",
    "    return FORECAST"
   ]
  },
  {
   "cell_type": "code",
   "execution_count": 4,
   "metadata": {
    "collapsed": true
   },
   "outputs": [],
   "source": [
    "def AdaptiveCombination(x, h, Params):\n",
    "    '''\n",
    "    Parameters\n",
    "    x <array> - time series\n",
    "    h <integer scalar>- forecasting delay\n",
    "    Params <dict> - dictionary with \n",
    "        gamma <scalar in [0,1]> - smoothing parameter of error\n",
    "        BaseAlgs - array of <dict> with params\n",
    "            BaseAlg <string> - name of base algorithm\n",
    "            BaseAlfParams <dict> dictionary of base algorithm's params\n",
    "    '''\n",
    "    T = len(x)\n",
    "    FORECAST = [np.NaN]*(T+h)\n",
    "\n",
    "    BaseAlgs = Params['BaseAlgs']\n",
    "    N = len(BaseAlgs)\n",
    "    FORECAST_BA = np.array([np.NAN]*(T+h)*N).reshape(N, T+h)\n",
    "    \n",
    "    \n",
    "    for ba in range(len(BaseAlgs)):\n",
    "        FORECAST_BA[ba]= BaseAlgFunctions[BaseAlgs[ba]['BaseAlg']](x,h,BaseAlgs[ba]['BaseAlgParams'])\n",
    "    \n",
    "    gamma = Params['gamma']\n",
    "    \n",
    "    if gamma>1:\n",
    "        w.warn('Gamma can not be more than 1')\n",
    "        #alpha = 1\n",
    "        return FORECAST\n",
    "    if gamma<0:\n",
    "        w.warn('Gamma can not be less than 0')\n",
    "        #alpha = 0\n",
    "        return FORECAST\n",
    "\n",
    "    \n",
    "    e1=  np.zeros(N)\n",
    "    weights =  np.zeros(N)\n",
    "    y = np.nan\n",
    "    for t in range(0, T):\n",
    "        if not math.isnan(x[t]):\n",
    "            \n",
    "            if t>= h:\n",
    "                e = np.abs(x[t]-FORECAST_BA.transpose()[t])\n",
    "                if not np.any(np.isnan(e)):\n",
    "                    e1 = gamma*e+(1-gamma)*e1  \n",
    "                if not np.all(np.isnan(e1)):\n",
    "                    e2 = 1/e1\n",
    "                    w_best = e2 / np.sum(e2)\n",
    "                    y = np.dot(w_best,FORECAST_BA.T[t])\n",
    "        FORECAST[t+h] = y\n",
    "    return FORECAST"
   ]
  },
  {
   "cell_type": "code",
   "execution_count": 5,
   "metadata": {
    "collapsed": true
   },
   "outputs": [],
   "source": [
    "BaseAlgs = [{'BaseAlg':'SimpleExponentialSmoothing', 'BaseAlgParams':{'alpha':0.1, 'AdaptationPeriod':10}},\n",
    "            {'BaseAlg':'SimpleExponentialSmoothing', 'BaseAlgParams':{'alpha':0.3, 'AdaptationPeriod':10}},\n",
    "            {'BaseAlg':'SimpleExponentialSmoothing', 'BaseAlgParams':{'alpha':0.6, 'AdaptationPeriod':10}},\n",
    "            {'BaseAlg':'SimpleExponentialSmoothing', 'BaseAlgParams':{'alpha':0.9, 'AdaptationPeriod':10}},\n",
    "            {'BaseAlg':'AdaptiveExponentialSmoothing', 'BaseAlgParams':{'alpha':0.2,'gamma':0.01, 'AdaptationPeriod':10}},\n",
    "            {'BaseAlg':'AdaptiveExponentialSmoothing', 'BaseAlgParams':{'alpha':0.2,'gamma':0.05, 'AdaptationPeriod':10}},\n",
    "            {'BaseAlg':'AdaptiveExponentialSmoothing', 'BaseAlgParams':{'alpha':0.6,'gamma':0.01, 'AdaptationPeriod':10}},\n",
    "            {'BaseAlg':'AdaptiveExponentialSmoothing', 'BaseAlgParams':{'alpha':0.6,'gamma':0.05, 'AdaptationPeriod':10}},\n",
    "#                  {'BaseAlg':'AdaptiveSimpleExponentialSmoothing', 'BaseAlgParams':{'alpha':0.1, 'gamma':0.01}},\n",
    "#                 {'BaseAlg':'TheilWageSmoothing', 'BaseAlgParams':{'alpha':0.3, 'beta':0.9,'delta':0.9}}\n",
    "]"
   ]
  },
  {
   "cell_type": "code",
   "execution_count": 6,
   "metadata": {},
   "outputs": [
    {
     "name": "stdout",
     "output_type": "stream",
     "text": [
      "SimpleExponentialSmoothing(x,h,BaseAlgs[0]['BaseAlgsParams'])\n",
      "SimpleExponentialSmoothing(x,h,BaseAlgs[1]['BaseAlgsParams'])\n",
      "SimpleExponentialSmoothing(x,h,BaseAlgs[2]['BaseAlgsParams'])\n",
      "SimpleExponentialSmoothing(x,h,BaseAlgs[3]['BaseAlgsParams'])\n",
      "AdaptiveExponentialSmoothing(x,h,BaseAlgs[4]['BaseAlgsParams'])\n",
      "AdaptiveExponentialSmoothing(x,h,BaseAlgs[5]['BaseAlgsParams'])\n",
      "AdaptiveExponentialSmoothing(x,h,BaseAlgs[6]['BaseAlgsParams'])\n",
      "AdaptiveExponentialSmoothing(x,h,BaseAlgs[7]['BaseAlgsParams'])\n"
     ]
    }
   ],
   "source": [
    "for ba in range(len(BaseAlgs)):\n",
    "    print(BaseAlgs[ba]['BaseAlg']+\"(x,h,\"+\"BaseAlgs[\"+str(ba)+\"]['BaseAlgsParams'])\")"
   ]
  },
  {
   "cell_type": "code",
   "execution_count": 7,
   "metadata": {
    "collapsed": true
   },
   "outputs": [],
   "source": [
    "ts = pd.read_csv('./data/TimeSeries_Data10.csv', sep=',', decimal='.', parse_dates=True, dayfirst=True, index_col='Dates')\n",
    "ts.index.names=['Timestamp']\n",
    "# ts = pd.read_csv('./data/TimeSeries_Data10.csv', sep=',', decimal='.')\n",
    "ts = ts.sort_index() # sort index"
   ]
  },
  {
   "cell_type": "code",
   "execution_count": 8,
   "metadata": {
    "collapsed": true
   },
   "outputs": [],
   "source": [
    "h =1 \n",
    "\n",
    "FRC_TS = dict()"
   ]
  },
  {
   "cell_type": "code",
   "execution_count": 9,
   "metadata": {
    "collapsed": true
   },
   "outputs": [],
   "source": [
    "# run Adaptive Selection\n",
    "gamma=0.5\n",
    "eps = 0.1\n",
    "frc_ts = pd.DataFrame(index = ts.index.append(pd.date_range(ts.index[-1]+pd.Timedelta(1,'D'), ts.index[-1]+pd.Timedelta(h,'D')))\n",
    "                      , columns = ts.columns)\n",
    "for cntr in ts.columns:\n",
    "    frc_ts[cntr]= AdaptiveSelection(ts[cntr],h, {'gamma':gamma, 'eps': eps, 'BaseAlgs':BaseAlgs})\n",
    "FRC_TS['AS gamma %.2f eps %.2f' % (gamma, eps)] = frc_ts"
   ]
  },
  {
   "cell_type": "code",
   "execution_count": 10,
   "metadata": {},
   "outputs": [
    {
     "data": {
      "text/plain": [
       "['AS gamma 0.50 eps 0.10']"
      ]
     },
     "execution_count": 10,
     "metadata": {},
     "output_type": "execute_result"
    }
   ],
   "source": [
    "FRC_TS.keys()"
   ]
  },
  {
   "cell_type": "code",
   "execution_count": 11,
   "metadata": {},
   "outputs": [
    {
     "name": "stderr",
     "output_type": "stream",
     "text": [
      "/home/ashmat/.miniconda2/lib/python2.7/site-packages/ipykernel_launcher.py:46: RuntimeWarning: divide by zero encountered in divide\n",
      "/home/ashmat/.miniconda2/lib/python2.7/site-packages/ipykernel_launcher.py:47: RuntimeWarning: invalid value encountered in divide\n"
     ]
    }
   ],
   "source": [
    "# run Adaptive Composition\n",
    "gamma=0.1\n",
    "frc_ts = pd.DataFrame(index = ts.index.append(pd.date_range(ts.index[-1]+pd.Timedelta(1,'D'), ts.index[-1]+pd.Timedelta(h,'D')))\n",
    "                      , columns = ts.columns)\n",
    "for cntr in ts.columns:\n",
    "    frc_ts[cntr]= AdaptiveCombination(ts[cntr],h, {'gamma':gamma, 'BaseAlgs':BaseAlgs})\n",
    "FRC_TS['AC gamma %.2f' % (gamma)] = frc_ts"
   ]
  },
  {
   "cell_type": "code",
   "execution_count": 12,
   "metadata": {},
   "outputs": [
    {
     "data": {
      "text/plain": [
       "<matplotlib.legend.Legend at 0x7f07a9edd110>"
      ]
     },
     "execution_count": 12,
     "metadata": {},
     "output_type": "execute_result"
    },
    {
     "data": {
      "image/png": "[encoded data removed]",
      "text/plain": [
       "<matplotlib.figure.Figure at 0x7f07a9edd0d0>"
      ]
     },
     "metadata": {},
     "output_type": "display_data"
    }
   ],
   "source": [
    "# plot loss of compositions\n",
    "ix = range(100)\n",
    "# compare ES methods in first 100 steps\n",
    "QualityStr = pd.DataFrame(index = ts.columns, columns = sorted(FRC_TS.keys()))\n",
    "\n",
    "for model in QualityStr.columns:\n",
    "    frc_ts = FRC_TS[model]\n",
    "    for ts_num in ts.columns:\n",
    "        ix = pd.date_range(ts[ts_num].first_valid_index(), ts[ts_num].first_valid_index()+pd.Timedelta(50,'D'))\n",
    "        QualityStr[model][ts_num],_ = qualityMACAPE(ts[ts_num], frc_ts[ts_num])\n",
    "\n",
    "plt.figure(figsize=(15,6))\n",
    "QualityStr[sorted(QualityStr.columns)[0]].plot(label='AdaptiveComposition', linewidth=2.0)\n",
    "QualityStr[sorted(QualityStr.columns)[1]].plot(label='AdaptiveSelection', linewidth=2.0)\n",
    "\n",
    "plt.legend()"
   ]
  },
  {
   "cell_type": "code",
   "execution_count": null,
   "metadata": {
    "collapsed": true
   },
   "outputs": [],
   "source": []
  }
 ],
 "metadata": {
  "anaconda-cloud": {},
  "kernelspec": {
   "display_name": "Python 2",
   "language": "python",
   "name": "python2"
  },
  "language_info": {
   "codemirror_mode": {
    "name": "ipython",
    "version": 2
   },
   "file_extension": ".py",
   "mimetype": "text/x-python",
   "name": "python",
   "nbconvert_exporter": "python",
   "pygments_lexer": "ipython2",
   "version": "2.7.13"
  }
 },
 "nbformat": 4,
 "nbformat_minor": 1
}
