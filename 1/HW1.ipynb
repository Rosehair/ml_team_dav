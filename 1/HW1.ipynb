{
 "cells": [
  {
   "cell_type": "markdown",
   "metadata": {},
   "source": [
    "<span style=\"font-size: 14pt\">EREVAN, May-June 2017</span>\n",
    "\n",
    "<span style=\"font-size: 16pt\"> Seminar #2: Exponential smoothing models\n",
    "\n",
    "<span style=\"color:blue; font-size: 12pt\">Alexey Romanenko </span>,\n",
    "<span style=\"color:blue; font-size: 12pt; font-family: 'Verdana'\">alexromsput@gmail.com</span>\n",
    "\n",
    "\n",
    "<h1 align=\"center\"> Home Work 1 </h1>\n",
    "\n",
    "## Answer questions\n",
    "\n",
    "1) ** How do adaptive properties of SES change when smoothing paramenr $\\alpha$ converges to 1?**\n",
    "\n",
    "<Answer> SES begins to forget history of TS and mimic TS last part to catch up with him, so for alpha colse to 1 SES is very adaptaptive and because of less history very non stabil\n",
    "\n",
    "2) ** What will be the optimal value of smoothing parameter of trend $\\beta$ in Hold model for 1) time series with slowly  changing trend; 2) stochastic changing trend (look <a href=\"http://stochastictrend.blogspot.am/\">here </a>)? **\n",
    "\n",
    "<Answer> For slowly changing trend it should be closer to 0 and for stochastic changing trend it should be closer to 1 for fast adapting for new trend level\n",
    "\n",
    "3) **Proof the equivalency of correction error form and smoothing form for unobserved component of TS in  Thei-Wage model (period of seasonality equals $p$):**\n",
    "\n",
    "  $$l_t = \\alpha (y_t - s_{t-p}) + (1-\\alpha) (l_{t-1} + b_{t-1} )=l_{t-1} + b_{t-1} + \\alpha e_t;$$\n",
    "  $$ b_t = \\beta (l_{t} - l_{t-1} ) + (1-\\beta) b_{t-1} = b_{t-1} + \\alpha\\beta e_t;$$\n",
    "  $$ s_t = \\gamma (y_t-l_t) + (1-\\gamma) s_{t-p} = s_{t-p} + \\gamma(1-\\alpha)e_t.$$\n",
    "\n",
    "$$l_t = \\alpha (y_t - s_{t-p}) + (1-\\alpha) (l_{t-1} + b_{t-1} )=\\alpha y_{t} -\\alpha s_{t-p} + l_{t-1}+b_{t-1} - \\alpha l_{t-1} - \\alpha b_{t-1} = l_{t-1} + b_{t-1} + \\alpha (y_{t} -s_{t-p} -l_{t-1}-b_{t-1})=l_{t-1}+b_{t-1} + \\alpha e_t$$\n",
    "\n",
    "$$ b_t = \\beta (l_{t} - l_{t-1} ) + (1-\\beta) b_{t-1} = \\beta l_t - \\beta l_{t-1} + b_{t-1}-\\beta b_{t-1}=b_{t-1} + \\beta (l_t - l_{t-1} - b_{t-1})= b_{t-1} + \\beta (b_{t-1} +\\alpha e_t -b_{t-1}) = b_{t-1} + \\alpha\\beta e_t;$$\n",
    "\n",
    " $$ s_t = \\gamma (y_t-l_t) + (1-\\gamma) s_{t-p} =s_{t-p} + \\gamma (y_t -l_t -s_{t-p})= s_{t-p} + \\gamma (e_t - s_{t-p})=s_{t-p} + \\gamma (e_t - \\alpha e_t) =s_{t-p} + \\gamma(1-\\alpha)e_t.$$\n",
    "\n",
    "4) **Find the correction error form for unobserved component of TS in ES with additive damped trend:**\n",
    "\n",
    "$$\\hat{y}_{t+d|t} = l_t + \\left(\\phi + \\phi^2 + \\dots + \\phi^{d}\\right) b_t.$$\n",
    "\n",
    "**Unobserved components are (in smoothing form): **\n",
    "\n",
    "$$ l_{t}       = \\alpha y_t + \\left(1-\\alpha\\right) \\left(l_{t-1} +\\phi b_{t-1}\\right),$$\n",
    "$$ b_t         = \\beta \\left(l_t - l_{t-1}\\right) + \\left(1-\\beta\\right)\\phi b_{t-1}.$$\n",
    "\n",
    "$$ l_{t}= \\alpha y_t + \\left(1-\\alpha\\right) \\left(l_{t-1} +\\phi b_{t-1}\\right)=\\alpha y_t + \\phi b_{t-1} +\\alpha (y_t-l_{t-1} -\\phi b_{t-1})=l_{t-1} + \\phi b_{t-1} +\\alpha e_t,$$\n",
    "\n",
    "$$ b_t         = \\beta \\left(l_t - l_{t-1}\\right) + \\left(1-\\beta\\right)\\phi b_{t-1}= \\phi b_{t-1} + \\beta (l_t - l_{t-1} - \\phi b_{t-1})= \\phi b_{t-1} + \\beta \\alpha e_t$$"
   ]
  }
 ],
 "metadata": {
  "anaconda-cloud": {},
  "kernelspec": {
   "display_name": "Python 3",
   "language": "python",
   "name": "python3"
  },
  "language_info": {
   "codemirror_mode": {
    "name": "ipython",
    "version": 3
   },
   "file_extension": ".py",
   "mimetype": "text/x-python",
   "name": "python",
   "nbconvert_exporter": "python",
   "pygments_lexer": "ipython3",
   "version": "3.5.1"
  }
 },
 "nbformat": 4,
 "nbformat_minor": 1
}
