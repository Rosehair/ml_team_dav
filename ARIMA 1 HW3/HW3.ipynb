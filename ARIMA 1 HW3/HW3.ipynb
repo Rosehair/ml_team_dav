{
 "cells": [
  {
   "cell_type": "markdown",
   "metadata": {},
   "source": [
    "<span style=\"font-size: 14pt\">EREVAN, May-June 2017</span>\n",
    "\n",
    "<span style=\"font-size: 16pt\"> HW #3: ARIMA model\n",
    "\n",
    "<span style=\"color:blue; font-size: 12pt\">Alexey Romanenko </span>,\n",
    "<span style=\"color:blue; font-size: 12pt; font-family: 'Verdana'\">alexromsput@gmail.com</span>\n",
    "\n",
    "\n",
    "<h1 align=\"center\"> Home Work 3 </h1>\n",
    "\n",
    "## Answer questions\n",
    "\n",
    "`1) **Find equation for $y_t$ that corresponds to the following ARIMA model**:\n",
    " - 1) ARIMA $(p=0,d=k,q=1)$,"
   ]
  },
  {
   "cell_type": "markdown",
   "metadata": {},
   "source": [
    "$$(1-B)^ky_t = \\theta_{(1)}(B)\\varepsilon_t = \\varepsilon_t + \\theta_1\\varepsilon_{t-1}$$"
   ]
  },
  {
   "cell_type": "markdown",
   "metadata": {},
   "source": [
    " - 2) ARIMA $(p=0,d=k+1,d=1)(P=1, D=1, Q=0)_s$,\n",
    "\n",
    "<Answer>"
   ]
  },
  {
   "cell_type": "markdown",
   "metadata": {},
   "source": [
    "$$(1-B^s)(1-B)^{(k+1)} y_t= \\Phi^{-1}(B)\\theta(B)\\varepsilon_t$$"
   ]
  },
  {
   "cell_type": "markdown",
   "metadata": {},
   "source": [
    "2)    ** Write canonic form of ARMA model for the time series **\n",
    " - 1) $$y_t = a_1 y_{t-1} + a_2 y_{t-4} - a_1 a_2 y_{t-5} + \\varepsilon_t$$ (Hint: seasnality period is equal to 4).\n",
    " "
   ]
  },
  {
   "cell_type": "markdown",
   "metadata": {},
   "source": [
    "$$\\Phi_1(B^4) \\phi(B) y_t = \\varepsilon_t $$"
   ]
  },
  {
   "cell_type": "markdown",
   "metadata": {},
   "source": [
    " - 2) $$y_t = y_{t-d} + \\varepsilon_t +b_2 + \\varepsilon_{t-2} + B_1 y_{t-s} + b_2 B_1 y_{t-s-2} $$\n",
    "\n",
    "$$y_t = y_{t-d} + \\varepsilon_t +b_2 + \\varepsilon_{t-2} + B_1 \\varepsilon_{t-s} + b_2 B_1 \\varepsilon_{t-s-2} $$\n",
    "If you mean something like this $$y_t = y_{t-d} + \\varepsilon_t +b_1 \\varepsilon_{t-2} + B_1 \\varepsilon_{t-s} + b_1 B_1 \\varepsilon_{t-s-2} $$\n",
    "then $$y_t - y_{t-d} = \\varepsilon_t + b_1 \\varepsilon_{t-2} + B_1 \\varepsilon_{t-s} + b_1 B_1 \\varepsilon_{t-s-2} $$\n"
   ]
  },
  {
   "cell_type": "markdown",
   "metadata": {},
   "source": [
    "$$\\nabla_d y_t = \\Phi(L^s) \\phi(L^2) \\varepsilon_t$$"
   ]
  },
  {
   "cell_type": "markdown",
   "metadata": {},
   "source": [
    "3) **Proof that ARIMA$(p=0,d=2, q=2)$ is equivalent to Holt (linear trend) with:**\n",
    "\t\t$$(1-L)^2Y_t = (1-\\phi_1 L-\\phi_2 L^2)\\varepsilon_t$$\n",
    "\t\t$$\\phi_1 = 2-\\alpha-\\alpha\\beta, \\text{ }\\phi_2 = \\alpha-1$$\n",
    "\n",
    "<Answer>"
   ]
  },
  {
   "cell_type": "markdown",
   "metadata": {},
   "source": [
    "$$y_{t}-2y_{t-1}+y_{t-2} = (y_t-\\hat y_t) - (2-\\alpha-\\alpha\\beta)(y_{t-1} -\\hat y_{t-1}) - (\\alpha-1)(y_{t-2} - \\hat y_{t-2})$$\n",
    "\n",
    "$$y_{t} -2y_{t-1}+y_{t-2} = y_t-\\hat y_t - 2y_{t-1}+\\alpha y_{t-1}+\\alpha\\beta y_{t-1} +2\\hat y_{t-1} -\\alpha\\hat y_{t-1} -\\alpha\\beta\\hat y_{t-1}  - \\alpha y_{t-2} + y_{t-2} + \\alpha \\hat y_{t-2} - \\hat y_{t-2}$$\n",
    "\n",
    "$$ \\hat y_t = \\hat y_{t-1} + \\alpha (y_{t-1}-\\hat y_{t-1})\n",
    "+\\hat y_{t-1}   - \\alpha (y_{t-2} -\\hat y_{t-2}) - \\hat y_{t-2} + \n",
    "\\alpha\\beta (y_{t-1} - \\hat y_{t-1})\n",
    "$$\n",
    "\n",
    "$$ \\hat y_t = \\hat y_{t-1} + \\alpha e_{t-1}\n",
    "+\\{\\hat y_{t-1}   - \\alpha e_{t-2}  - \\hat y_{t-2}\\} + \n",
    "\\alpha\\beta e_{t-1}\n",
    "$$\n",
    "\n",
    "#### Holt model\n",
    "$$\\hat y_t = l_{t-1} + b_{t-1}$$\n",
    "$$l_t = \\hat y_t + \\alpha e_{t}$$\n",
    "$$ b_t = b_{t-1} + \\alpha\\beta e_t$$\n",
    "$$\\hat y_t = \\hat y_{t-1} + \\alpha e_{t-1} + b_{t-2}+ \\alpha\\beta e_{t-1}$$\n",
    "$$\\hat y_{t-1} = \\hat y_{t-2} + \\alpha e_{t-2} + b_{t-3}+ \\alpha\\beta e_{t-2}$$\n",
    "\n",
    "\n",
    "$$\\implies \\hat y_t = \\hat y_{t-1} + \\alpha e_{t-1}\n",
    "+ \\{ b_{t-3}+ \\alpha\\beta e_{t-2} \\} + \n",
    "\\alpha\\beta e_{t-1}$$\n",
    "\n",
    "$$\\hat y_t = \\hat y_{t-1} + \\alpha e_{t-1}\n",
    "+ \\{ b_{t-2}\\} + \n",
    "\\alpha\\beta e_{t-1}$$"
   ]
  },
  {
   "cell_type": "code",
   "execution_count": null,
   "metadata": {
    "collapsed": true
   },
   "outputs": [],
   "source": []
  }
 ],
 "metadata": {
  "anaconda-cloud": {},
  "kernelspec": {
   "display_name": "Python 2",
   "language": "python",
   "name": "python2"
  },
  "language_info": {
   "codemirror_mode": {
    "name": "ipython",
    "version": 2
   },
   "file_extension": ".py",
   "mimetype": "text/x-python",
   "name": "python",
   "nbconvert_exporter": "python",
   "pygments_lexer": "ipython2",
   "version": "2.7.13"
  }
 },
 "nbformat": 4,
 "nbformat_minor": 1
}
